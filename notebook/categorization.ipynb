{
 "cells": [
  {
   "cell_type": "code",
   "execution_count": 18,
   "metadata": {},
   "outputs": [
    {
     "data": {
      "text/html": [
       "<div>\n",
       "<style scoped>\n",
       "    .dataframe tbody tr th:only-of-type {\n",
       "        vertical-align: middle;\n",
       "    }\n",
       "\n",
       "    .dataframe tbody tr th {\n",
       "        vertical-align: top;\n",
       "    }\n",
       "\n",
       "    .dataframe thead th {\n",
       "        text-align: right;\n",
       "    }\n",
       "</style>\n",
       "<table border=\"1\" class=\"dataframe\">\n",
       "  <thead>\n",
       "    <tr style=\"text-align: right;\">\n",
       "      <th></th>\n",
       "      <th>ID</th>\n",
       "      <th>Category</th>\n",
       "      <th>Feature</th>\n",
       "    </tr>\n",
       "  </thead>\n",
       "  <tbody>\n",
       "    <tr>\n",
       "      <th>0</th>\n",
       "      <td>16852973</td>\n",
       "      <td>HR</td>\n",
       "      <td>hr administrator marketing associate hr admini...</td>\n",
       "    </tr>\n",
       "    <tr>\n",
       "      <th>1</th>\n",
       "      <td>22323967</td>\n",
       "      <td>HR</td>\n",
       "      <td>hr specialist hr operations summary media prof...</td>\n",
       "    </tr>\n",
       "    <tr>\n",
       "      <th>2</th>\n",
       "      <td>33176873</td>\n",
       "      <td>HR</td>\n",
       "      <td>hr director summary years experience recruitin...</td>\n",
       "    </tr>\n",
       "    <tr>\n",
       "      <th>3</th>\n",
       "      <td>27018550</td>\n",
       "      <td>HR</td>\n",
       "      <td>hr specialist summary dedicated driven dynamic...</td>\n",
       "    </tr>\n",
       "    <tr>\n",
       "      <th>4</th>\n",
       "      <td>17812897</td>\n",
       "      <td>HR</td>\n",
       "      <td>hr manager skill highlights hr skills hr depar...</td>\n",
       "    </tr>\n",
       "  </tbody>\n",
       "</table>\n",
       "</div>"
      ],
      "text/plain": [
       "         ID Category                                            Feature\n",
       "0  16852973       HR  hr administrator marketing associate hr admini...\n",
       "1  22323967       HR  hr specialist hr operations summary media prof...\n",
       "2  33176873       HR  hr director summary years experience recruitin...\n",
       "3  27018550       HR  hr specialist summary dedicated driven dynamic...\n",
       "4  17812897       HR  hr manager skill highlights hr skills hr depar..."
      ]
     },
     "execution_count": 18,
     "metadata": {},
     "output_type": "execute_result"
    }
   ],
   "source": [
    "import pandas as pd\n",
    "import seaborn as sns\n",
    "import matplotlib.pyplot as plt\n",
    "import plotly.express as px\n",
    "\n",
    "df = pd.read_csv('../data/resume_data.csv')\n",
    "df.head()"
   ]
  },
  {
   "cell_type": "code",
   "execution_count": 19,
   "metadata": {},
   "outputs": [
    {
     "data": {
      "text/plain": [
       "(2484, 3)"
      ]
     },
     "execution_count": 19,
     "metadata": {},
     "output_type": "execute_result"
    }
   ],
   "source": [
    "df.shape"
   ]
  },
  {
   "cell_type": "code",
   "execution_count": 20,
   "metadata": {},
   "outputs": [
    {
     "data": {
      "text/plain": [
       "Category\n",
       "INFORMATION-TECHNOLOGY    120\n",
       "BUSINESS-DEVELOPMENT      120\n",
       "FINANCE                   118\n",
       "ADVOCATE                  118\n",
       "ACCOUNTANT                118\n",
       "ENGINEERING               118\n",
       "CHEF                      118\n",
       "AVIATION                  117\n",
       "FITNESS                   117\n",
       "SALES                     116\n",
       "BANKING                   115\n",
       "HEALTHCARE                115\n",
       "CONSULTANT                115\n",
       "CONSTRUCTION              112\n",
       "PUBLIC-RELATIONS          111\n",
       "HR                        110\n",
       "DESIGNER                  107\n",
       "ARTS                      103\n",
       "TEACHER                   102\n",
       "APPAREL                    97\n",
       "DIGITAL-MEDIA              96\n",
       "AGRICULTURE                63\n",
       "AUTOMOBILE                 36\n",
       "BPO                        22\n",
       "Name: count, dtype: int64"
      ]
     },
     "execution_count": 20,
     "metadata": {},
     "output_type": "execute_result"
    }
   ],
   "source": [
    "df['Category'].value_counts()"
   ]
  },
  {
   "cell_type": "code",
   "execution_count": 21,
   "metadata": {},
   "outputs": [
    {
     "data": {
      "text/plain": [
       "ID          0\n",
       "Category    0\n",
       "Feature     1\n",
       "dtype: int64"
      ]
     },
     "execution_count": 21,
     "metadata": {},
     "output_type": "execute_result"
    }
   ],
   "source": [
    "df.isnull().sum()"
   ]
  },
  {
   "cell_type": "code",
   "execution_count": 22,
   "metadata": {},
   "outputs": [
    {
     "data": {
      "text/plain": [
       "ID          0\n",
       "Category    0\n",
       "Feature     0\n",
       "dtype: int64"
      ]
     },
     "execution_count": 22,
     "metadata": {},
     "output_type": "execute_result"
    }
   ],
   "source": [
    "df.dropna(inplace=True)\n",
    "df.isnull().sum()"
   ]
  },
  {
   "cell_type": "code",
   "execution_count": 23,
   "metadata": {},
   "outputs": [
    {
     "data": {
      "text/plain": [
       "0"
      ]
     },
     "execution_count": 23,
     "metadata": {},
     "output_type": "execute_result"
    }
   ],
   "source": [
    "df.duplicated().sum()"
   ]
  },
  {
   "cell_type": "markdown",
   "metadata": {},
   "source": [
    "### EDA"
   ]
  },
  {
   "cell_type": "code",
   "execution_count": 24,
   "metadata": {},
   "outputs": [
    {
     "data": {
      "application/vnd.plotly.v1+json": {
       "config": {
        "plotlyServerURL": "https://plot.ly"
       },
       "data": [
        {
         "alignmentgroup": "True",
         "hovertemplate": "Category=%{x}<br>Count=%{text}<extra></extra>",
         "legendgroup": "INFORMATION-TECHNOLOGY",
         "marker": {
          "color": "#636efa",
          "pattern": {
           "shape": ""
          }
         },
         "name": "INFORMATION-TECHNOLOGY",
         "offsetgroup": "INFORMATION-TECHNOLOGY",
         "orientation": "v",
         "showlegend": true,
         "text": [
          120
         ],
         "textposition": "outside",
         "texttemplate": "%{text}",
         "type": "bar",
         "x": [
          "INFORMATION-TECHNOLOGY"
         ],
         "xaxis": "x",
         "y": [
          120
         ],
         "yaxis": "y"
        },
        {
         "alignmentgroup": "True",
         "hovertemplate": "Category=%{x}<br>Count=%{text}<extra></extra>",
         "legendgroup": "BUSINESS-DEVELOPMENT",
         "marker": {
          "color": "#EF553B",
          "pattern": {
           "shape": ""
          }
         },
         "name": "BUSINESS-DEVELOPMENT",
         "offsetgroup": "BUSINESS-DEVELOPMENT",
         "orientation": "v",
         "showlegend": true,
         "text": [
          119
         ],
         "textposition": "outside",
         "texttemplate": "%{text}",
         "type": "bar",
         "x": [
          "BUSINESS-DEVELOPMENT"
         ],
         "xaxis": "x",
         "y": [
          119
         ],
         "yaxis": "y"
        },
        {
         "alignmentgroup": "True",
         "hovertemplate": "Category=%{x}<br>Count=%{text}<extra></extra>",
         "legendgroup": "FINANCE",
         "marker": {
          "color": "#00cc96",
          "pattern": {
           "shape": ""
          }
         },
         "name": "FINANCE",
         "offsetgroup": "FINANCE",
         "orientation": "v",
         "showlegend": true,
         "text": [
          118
         ],
         "textposition": "outside",
         "texttemplate": "%{text}",
         "type": "bar",
         "x": [
          "FINANCE"
         ],
         "xaxis": "x",
         "y": [
          118
         ],
         "yaxis": "y"
        },
        {
         "alignmentgroup": "True",
         "hovertemplate": "Category=%{x}<br>Count=%{text}<extra></extra>",
         "legendgroup": "ADVOCATE",
         "marker": {
          "color": "#ab63fa",
          "pattern": {
           "shape": ""
          }
         },
         "name": "ADVOCATE",
         "offsetgroup": "ADVOCATE",
         "orientation": "v",
         "showlegend": true,
         "text": [
          118
         ],
         "textposition": "outside",
         "texttemplate": "%{text}",
         "type": "bar",
         "x": [
          "ADVOCATE"
         ],
         "xaxis": "x",
         "y": [
          118
         ],
         "yaxis": "y"
        },
        {
         "alignmentgroup": "True",
         "hovertemplate": "Category=%{x}<br>Count=%{text}<extra></extra>",
         "legendgroup": "ACCOUNTANT",
         "marker": {
          "color": "#FFA15A",
          "pattern": {
           "shape": ""
          }
         },
         "name": "ACCOUNTANT",
         "offsetgroup": "ACCOUNTANT",
         "orientation": "v",
         "showlegend": true,
         "text": [
          118
         ],
         "textposition": "outside",
         "texttemplate": "%{text}",
         "type": "bar",
         "x": [
          "ACCOUNTANT"
         ],
         "xaxis": "x",
         "y": [
          118
         ],
         "yaxis": "y"
        },
        {
         "alignmentgroup": "True",
         "hovertemplate": "Category=%{x}<br>Count=%{text}<extra></extra>",
         "legendgroup": "ENGINEERING",
         "marker": {
          "color": "#19d3f3",
          "pattern": {
           "shape": ""
          }
         },
         "name": "ENGINEERING",
         "offsetgroup": "ENGINEERING",
         "orientation": "v",
         "showlegend": true,
         "text": [
          118
         ],
         "textposition": "outside",
         "texttemplate": "%{text}",
         "type": "bar",
         "x": [
          "ENGINEERING"
         ],
         "xaxis": "x",
         "y": [
          118
         ],
         "yaxis": "y"
        },
        {
         "alignmentgroup": "True",
         "hovertemplate": "Category=%{x}<br>Count=%{text}<extra></extra>",
         "legendgroup": "CHEF",
         "marker": {
          "color": "#FF6692",
          "pattern": {
           "shape": ""
          }
         },
         "name": "CHEF",
         "offsetgroup": "CHEF",
         "orientation": "v",
         "showlegend": true,
         "text": [
          118
         ],
         "textposition": "outside",
         "texttemplate": "%{text}",
         "type": "bar",
         "x": [
          "CHEF"
         ],
         "xaxis": "x",
         "y": [
          118
         ],
         "yaxis": "y"
        },
        {
         "alignmentgroup": "True",
         "hovertemplate": "Category=%{x}<br>Count=%{text}<extra></extra>",
         "legendgroup": "AVIATION",
         "marker": {
          "color": "#B6E880",
          "pattern": {
           "shape": ""
          }
         },
         "name": "AVIATION",
         "offsetgroup": "AVIATION",
         "orientation": "v",
         "showlegend": true,
         "text": [
          117
         ],
         "textposition": "outside",
         "texttemplate": "%{text}",
         "type": "bar",
         "x": [
          "AVIATION"
         ],
         "xaxis": "x",
         "y": [
          117
         ],
         "yaxis": "y"
        },
        {
         "alignmentgroup": "True",
         "hovertemplate": "Category=%{x}<br>Count=%{text}<extra></extra>",
         "legendgroup": "FITNESS",
         "marker": {
          "color": "#FF97FF",
          "pattern": {
           "shape": ""
          }
         },
         "name": "FITNESS",
         "offsetgroup": "FITNESS",
         "orientation": "v",
         "showlegend": true,
         "text": [
          117
         ],
         "textposition": "outside",
         "texttemplate": "%{text}",
         "type": "bar",
         "x": [
          "FITNESS"
         ],
         "xaxis": "x",
         "y": [
          117
         ],
         "yaxis": "y"
        },
        {
         "alignmentgroup": "True",
         "hovertemplate": "Category=%{x}<br>Count=%{text}<extra></extra>",
         "legendgroup": "SALES",
         "marker": {
          "color": "#FECB52",
          "pattern": {
           "shape": ""
          }
         },
         "name": "SALES",
         "offsetgroup": "SALES",
         "orientation": "v",
         "showlegend": true,
         "text": [
          116
         ],
         "textposition": "outside",
         "texttemplate": "%{text}",
         "type": "bar",
         "x": [
          "SALES"
         ],
         "xaxis": "x",
         "y": [
          116
         ],
         "yaxis": "y"
        },
        {
         "alignmentgroup": "True",
         "hovertemplate": "Category=%{x}<br>Count=%{text}<extra></extra>",
         "legendgroup": "BANKING",
         "marker": {
          "color": "#636efa",
          "pattern": {
           "shape": ""
          }
         },
         "name": "BANKING",
         "offsetgroup": "BANKING",
         "orientation": "v",
         "showlegend": true,
         "text": [
          115
         ],
         "textposition": "outside",
         "texttemplate": "%{text}",
         "type": "bar",
         "x": [
          "BANKING"
         ],
         "xaxis": "x",
         "y": [
          115
         ],
         "yaxis": "y"
        },
        {
         "alignmentgroup": "True",
         "hovertemplate": "Category=%{x}<br>Count=%{text}<extra></extra>",
         "legendgroup": "HEALTHCARE",
         "marker": {
          "color": "#EF553B",
          "pattern": {
           "shape": ""
          }
         },
         "name": "HEALTHCARE",
         "offsetgroup": "HEALTHCARE",
         "orientation": "v",
         "showlegend": true,
         "text": [
          115
         ],
         "textposition": "outside",
         "texttemplate": "%{text}",
         "type": "bar",
         "x": [
          "HEALTHCARE"
         ],
         "xaxis": "x",
         "y": [
          115
         ],
         "yaxis": "y"
        },
        {
         "alignmentgroup": "True",
         "hovertemplate": "Category=%{x}<br>Count=%{text}<extra></extra>",
         "legendgroup": "CONSULTANT",
         "marker": {
          "color": "#00cc96",
          "pattern": {
           "shape": ""
          }
         },
         "name": "CONSULTANT",
         "offsetgroup": "CONSULTANT",
         "orientation": "v",
         "showlegend": true,
         "text": [
          115
         ],
         "textposition": "outside",
         "texttemplate": "%{text}",
         "type": "bar",
         "x": [
          "CONSULTANT"
         ],
         "xaxis": "x",
         "y": [
          115
         ],
         "yaxis": "y"
        },
        {
         "alignmentgroup": "True",
         "hovertemplate": "Category=%{x}<br>Count=%{text}<extra></extra>",
         "legendgroup": "CONSTRUCTION",
         "marker": {
          "color": "#ab63fa",
          "pattern": {
           "shape": ""
          }
         },
         "name": "CONSTRUCTION",
         "offsetgroup": "CONSTRUCTION",
         "orientation": "v",
         "showlegend": true,
         "text": [
          112
         ],
         "textposition": "outside",
         "texttemplate": "%{text}",
         "type": "bar",
         "x": [
          "CONSTRUCTION"
         ],
         "xaxis": "x",
         "y": [
          112
         ],
         "yaxis": "y"
        },
        {
         "alignmentgroup": "True",
         "hovertemplate": "Category=%{x}<br>Count=%{text}<extra></extra>",
         "legendgroup": "PUBLIC-RELATIONS",
         "marker": {
          "color": "#FFA15A",
          "pattern": {
           "shape": ""
          }
         },
         "name": "PUBLIC-RELATIONS",
         "offsetgroup": "PUBLIC-RELATIONS",
         "orientation": "v",
         "showlegend": true,
         "text": [
          111
         ],
         "textposition": "outside",
         "texttemplate": "%{text}",
         "type": "bar",
         "x": [
          "PUBLIC-RELATIONS"
         ],
         "xaxis": "x",
         "y": [
          111
         ],
         "yaxis": "y"
        },
        {
         "alignmentgroup": "True",
         "hovertemplate": "Category=%{x}<br>Count=%{text}<extra></extra>",
         "legendgroup": "HR",
         "marker": {
          "color": "#19d3f3",
          "pattern": {
           "shape": ""
          }
         },
         "name": "HR",
         "offsetgroup": "HR",
         "orientation": "v",
         "showlegend": true,
         "text": [
          110
         ],
         "textposition": "outside",
         "texttemplate": "%{text}",
         "type": "bar",
         "x": [
          "HR"
         ],
         "xaxis": "x",
         "y": [
          110
         ],
         "yaxis": "y"
        },
        {
         "alignmentgroup": "True",
         "hovertemplate": "Category=%{x}<br>Count=%{text}<extra></extra>",
         "legendgroup": "DESIGNER",
         "marker": {
          "color": "#FF6692",
          "pattern": {
           "shape": ""
          }
         },
         "name": "DESIGNER",
         "offsetgroup": "DESIGNER",
         "orientation": "v",
         "showlegend": true,
         "text": [
          107
         ],
         "textposition": "outside",
         "texttemplate": "%{text}",
         "type": "bar",
         "x": [
          "DESIGNER"
         ],
         "xaxis": "x",
         "y": [
          107
         ],
         "yaxis": "y"
        },
        {
         "alignmentgroup": "True",
         "hovertemplate": "Category=%{x}<br>Count=%{text}<extra></extra>",
         "legendgroup": "ARTS",
         "marker": {
          "color": "#B6E880",
          "pattern": {
           "shape": ""
          }
         },
         "name": "ARTS",
         "offsetgroup": "ARTS",
         "orientation": "v",
         "showlegend": true,
         "text": [
          103
         ],
         "textposition": "outside",
         "texttemplate": "%{text}",
         "type": "bar",
         "x": [
          "ARTS"
         ],
         "xaxis": "x",
         "y": [
          103
         ],
         "yaxis": "y"
        },
        {
         "alignmentgroup": "True",
         "hovertemplate": "Category=%{x}<br>Count=%{text}<extra></extra>",
         "legendgroup": "TEACHER",
         "marker": {
          "color": "#FF97FF",
          "pattern": {
           "shape": ""
          }
         },
         "name": "TEACHER",
         "offsetgroup": "TEACHER",
         "orientation": "v",
         "showlegend": true,
         "text": [
          102
         ],
         "textposition": "outside",
         "texttemplate": "%{text}",
         "type": "bar",
         "x": [
          "TEACHER"
         ],
         "xaxis": "x",
         "y": [
          102
         ],
         "yaxis": "y"
        },
        {
         "alignmentgroup": "True",
         "hovertemplate": "Category=%{x}<br>Count=%{text}<extra></extra>",
         "legendgroup": "APPAREL",
         "marker": {
          "color": "#FECB52",
          "pattern": {
           "shape": ""
          }
         },
         "name": "APPAREL",
         "offsetgroup": "APPAREL",
         "orientation": "v",
         "showlegend": true,
         "text": [
          97
         ],
         "textposition": "outside",
         "texttemplate": "%{text}",
         "type": "bar",
         "x": [
          "APPAREL"
         ],
         "xaxis": "x",
         "y": [
          97
         ],
         "yaxis": "y"
        },
        {
         "alignmentgroup": "True",
         "hovertemplate": "Category=%{x}<br>Count=%{text}<extra></extra>",
         "legendgroup": "DIGITAL-MEDIA",
         "marker": {
          "color": "#636efa",
          "pattern": {
           "shape": ""
          }
         },
         "name": "DIGITAL-MEDIA",
         "offsetgroup": "DIGITAL-MEDIA",
         "orientation": "v",
         "showlegend": true,
         "text": [
          96
         ],
         "textposition": "outside",
         "texttemplate": "%{text}",
         "type": "bar",
         "x": [
          "DIGITAL-MEDIA"
         ],
         "xaxis": "x",
         "y": [
          96
         ],
         "yaxis": "y"
        },
        {
         "alignmentgroup": "True",
         "hovertemplate": "Category=%{x}<br>Count=%{text}<extra></extra>",
         "legendgroup": "AGRICULTURE",
         "marker": {
          "color": "#EF553B",
          "pattern": {
           "shape": ""
          }
         },
         "name": "AGRICULTURE",
         "offsetgroup": "AGRICULTURE",
         "orientation": "v",
         "showlegend": true,
         "text": [
          63
         ],
         "textposition": "outside",
         "texttemplate": "%{text}",
         "type": "bar",
         "x": [
          "AGRICULTURE"
         ],
         "xaxis": "x",
         "y": [
          63
         ],
         "yaxis": "y"
        },
        {
         "alignmentgroup": "True",
         "hovertemplate": "Category=%{x}<br>Count=%{text}<extra></extra>",
         "legendgroup": "AUTOMOBILE",
         "marker": {
          "color": "#00cc96",
          "pattern": {
           "shape": ""
          }
         },
         "name": "AUTOMOBILE",
         "offsetgroup": "AUTOMOBILE",
         "orientation": "v",
         "showlegend": true,
         "text": [
          36
         ],
         "textposition": "outside",
         "texttemplate": "%{text}",
         "type": "bar",
         "x": [
          "AUTOMOBILE"
         ],
         "xaxis": "x",
         "y": [
          36
         ],
         "yaxis": "y"
        },
        {
         "alignmentgroup": "True",
         "hovertemplate": "Category=%{x}<br>Count=%{text}<extra></extra>",
         "legendgroup": "BPO",
         "marker": {
          "color": "#ab63fa",
          "pattern": {
           "shape": ""
          }
         },
         "name": "BPO",
         "offsetgroup": "BPO",
         "orientation": "v",
         "showlegend": true,
         "text": [
          22
         ],
         "textposition": "outside",
         "texttemplate": "%{text}",
         "type": "bar",
         "x": [
          "BPO"
         ],
         "xaxis": "x",
         "y": [
          22
         ],
         "yaxis": "y"
        }
       ],
       "layout": {
        "barmode": "relative",
        "legend": {
         "title": {
          "text": "Category"
         },
         "tracegroupgap": 0
        },
        "showlegend": false,
        "template": {
         "data": {
          "bar": [
           {
            "error_x": {
             "color": "#2a3f5f"
            },
            "error_y": {
             "color": "#2a3f5f"
            },
            "marker": {
             "line": {
              "color": "#E5ECF6",
              "width": 0.5
             },
             "pattern": {
              "fillmode": "overlay",
              "size": 10,
              "solidity": 0.2
             }
            },
            "type": "bar"
           }
          ],
          "barpolar": [
           {
            "marker": {
             "line": {
              "color": "#E5ECF6",
              "width": 0.5
             },
             "pattern": {
              "fillmode": "overlay",
              "size": 10,
              "solidity": 0.2
             }
            },
            "type": "barpolar"
           }
          ],
          "carpet": [
           {
            "aaxis": {
             "endlinecolor": "#2a3f5f",
             "gridcolor": "white",
             "linecolor": "white",
             "minorgridcolor": "white",
             "startlinecolor": "#2a3f5f"
            },
            "baxis": {
             "endlinecolor": "#2a3f5f",
             "gridcolor": "white",
             "linecolor": "white",
             "minorgridcolor": "white",
             "startlinecolor": "#2a3f5f"
            },
            "type": "carpet"
           }
          ],
          "choropleth": [
           {
            "colorbar": {
             "outlinewidth": 0,
             "ticks": ""
            },
            "type": "choropleth"
           }
          ],
          "contour": [
           {
            "colorbar": {
             "outlinewidth": 0,
             "ticks": ""
            },
            "colorscale": [
             [
              0,
              "#0d0887"
             ],
             [
              0.1111111111111111,
              "#46039f"
             ],
             [
              0.2222222222222222,
              "#7201a8"
             ],
             [
              0.3333333333333333,
              "#9c179e"
             ],
             [
              0.4444444444444444,
              "#bd3786"
             ],
             [
              0.5555555555555556,
              "#d8576b"
             ],
             [
              0.6666666666666666,
              "#ed7953"
             ],
             [
              0.7777777777777778,
              "#fb9f3a"
             ],
             [
              0.8888888888888888,
              "#fdca26"
             ],
             [
              1,
              "#f0f921"
             ]
            ],
            "type": "contour"
           }
          ],
          "contourcarpet": [
           {
            "colorbar": {
             "outlinewidth": 0,
             "ticks": ""
            },
            "type": "contourcarpet"
           }
          ],
          "heatmap": [
           {
            "colorbar": {
             "outlinewidth": 0,
             "ticks": ""
            },
            "colorscale": [
             [
              0,
              "#0d0887"
             ],
             [
              0.1111111111111111,
              "#46039f"
             ],
             [
              0.2222222222222222,
              "#7201a8"
             ],
             [
              0.3333333333333333,
              "#9c179e"
             ],
             [
              0.4444444444444444,
              "#bd3786"
             ],
             [
              0.5555555555555556,
              "#d8576b"
             ],
             [
              0.6666666666666666,
              "#ed7953"
             ],
             [
              0.7777777777777778,
              "#fb9f3a"
             ],
             [
              0.8888888888888888,
              "#fdca26"
             ],
             [
              1,
              "#f0f921"
             ]
            ],
            "type": "heatmap"
           }
          ],
          "heatmapgl": [
           {
            "colorbar": {
             "outlinewidth": 0,
             "ticks": ""
            },
            "colorscale": [
             [
              0,
              "#0d0887"
             ],
             [
              0.1111111111111111,
              "#46039f"
             ],
             [
              0.2222222222222222,
              "#7201a8"
             ],
             [
              0.3333333333333333,
              "#9c179e"
             ],
             [
              0.4444444444444444,
              "#bd3786"
             ],
             [
              0.5555555555555556,
              "#d8576b"
             ],
             [
              0.6666666666666666,
              "#ed7953"
             ],
             [
              0.7777777777777778,
              "#fb9f3a"
             ],
             [
              0.8888888888888888,
              "#fdca26"
             ],
             [
              1,
              "#f0f921"
             ]
            ],
            "type": "heatmapgl"
           }
          ],
          "histogram": [
           {
            "marker": {
             "pattern": {
              "fillmode": "overlay",
              "size": 10,
              "solidity": 0.2
             }
            },
            "type": "histogram"
           }
          ],
          "histogram2d": [
           {
            "colorbar": {
             "outlinewidth": 0,
             "ticks": ""
            },
            "colorscale": [
             [
              0,
              "#0d0887"
             ],
             [
              0.1111111111111111,
              "#46039f"
             ],
             [
              0.2222222222222222,
              "#7201a8"
             ],
             [
              0.3333333333333333,
              "#9c179e"
             ],
             [
              0.4444444444444444,
              "#bd3786"
             ],
             [
              0.5555555555555556,
              "#d8576b"
             ],
             [
              0.6666666666666666,
              "#ed7953"
             ],
             [
              0.7777777777777778,
              "#fb9f3a"
             ],
             [
              0.8888888888888888,
              "#fdca26"
             ],
             [
              1,
              "#f0f921"
             ]
            ],
            "type": "histogram2d"
           }
          ],
          "histogram2dcontour": [
           {
            "colorbar": {
             "outlinewidth": 0,
             "ticks": ""
            },
            "colorscale": [
             [
              0,
              "#0d0887"
             ],
             [
              0.1111111111111111,
              "#46039f"
             ],
             [
              0.2222222222222222,
              "#7201a8"
             ],
             [
              0.3333333333333333,
              "#9c179e"
             ],
             [
              0.4444444444444444,
              "#bd3786"
             ],
             [
              0.5555555555555556,
              "#d8576b"
             ],
             [
              0.6666666666666666,
              "#ed7953"
             ],
             [
              0.7777777777777778,
              "#fb9f3a"
             ],
             [
              0.8888888888888888,
              "#fdca26"
             ],
             [
              1,
              "#f0f921"
             ]
            ],
            "type": "histogram2dcontour"
           }
          ],
          "mesh3d": [
           {
            "colorbar": {
             "outlinewidth": 0,
             "ticks": ""
            },
            "type": "mesh3d"
           }
          ],
          "parcoords": [
           {
            "line": {
             "colorbar": {
              "outlinewidth": 0,
              "ticks": ""
             }
            },
            "type": "parcoords"
           }
          ],
          "pie": [
           {
            "automargin": true,
            "type": "pie"
           }
          ],
          "scatter": [
           {
            "fillpattern": {
             "fillmode": "overlay",
             "size": 10,
             "solidity": 0.2
            },
            "type": "scatter"
           }
          ],
          "scatter3d": [
           {
            "line": {
             "colorbar": {
              "outlinewidth": 0,
              "ticks": ""
             }
            },
            "marker": {
             "colorbar": {
              "outlinewidth": 0,
              "ticks": ""
             }
            },
            "type": "scatter3d"
           }
          ],
          "scattercarpet": [
           {
            "marker": {
             "colorbar": {
              "outlinewidth": 0,
              "ticks": ""
             }
            },
            "type": "scattercarpet"
           }
          ],
          "scattergeo": [
           {
            "marker": {
             "colorbar": {
              "outlinewidth": 0,
              "ticks": ""
             }
            },
            "type": "scattergeo"
           }
          ],
          "scattergl": [
           {
            "marker": {
             "colorbar": {
              "outlinewidth": 0,
              "ticks": ""
             }
            },
            "type": "scattergl"
           }
          ],
          "scattermapbox": [
           {
            "marker": {
             "colorbar": {
              "outlinewidth": 0,
              "ticks": ""
             }
            },
            "type": "scattermapbox"
           }
          ],
          "scatterpolar": [
           {
            "marker": {
             "colorbar": {
              "outlinewidth": 0,
              "ticks": ""
             }
            },
            "type": "scatterpolar"
           }
          ],
          "scatterpolargl": [
           {
            "marker": {
             "colorbar": {
              "outlinewidth": 0,
              "ticks": ""
             }
            },
            "type": "scatterpolargl"
           }
          ],
          "scatterternary": [
           {
            "marker": {
             "colorbar": {
              "outlinewidth": 0,
              "ticks": ""
             }
            },
            "type": "scatterternary"
           }
          ],
          "surface": [
           {
            "colorbar": {
             "outlinewidth": 0,
             "ticks": ""
            },
            "colorscale": [
             [
              0,
              "#0d0887"
             ],
             [
              0.1111111111111111,
              "#46039f"
             ],
             [
              0.2222222222222222,
              "#7201a8"
             ],
             [
              0.3333333333333333,
              "#9c179e"
             ],
             [
              0.4444444444444444,
              "#bd3786"
             ],
             [
              0.5555555555555556,
              "#d8576b"
             ],
             [
              0.6666666666666666,
              "#ed7953"
             ],
             [
              0.7777777777777778,
              "#fb9f3a"
             ],
             [
              0.8888888888888888,
              "#fdca26"
             ],
             [
              1,
              "#f0f921"
             ]
            ],
            "type": "surface"
           }
          ],
          "table": [
           {
            "cells": {
             "fill": {
              "color": "#EBF0F8"
             },
             "line": {
              "color": "white"
             }
            },
            "header": {
             "fill": {
              "color": "#C8D4E3"
             },
             "line": {
              "color": "white"
             }
            },
            "type": "table"
           }
          ]
         },
         "layout": {
          "annotationdefaults": {
           "arrowcolor": "#2a3f5f",
           "arrowhead": 0,
           "arrowwidth": 1
          },
          "autotypenumbers": "strict",
          "coloraxis": {
           "colorbar": {
            "outlinewidth": 0,
            "ticks": ""
           }
          },
          "colorscale": {
           "diverging": [
            [
             0,
             "#8e0152"
            ],
            [
             0.1,
             "#c51b7d"
            ],
            [
             0.2,
             "#de77ae"
            ],
            [
             0.3,
             "#f1b6da"
            ],
            [
             0.4,
             "#fde0ef"
            ],
            [
             0.5,
             "#f7f7f7"
            ],
            [
             0.6,
             "#e6f5d0"
            ],
            [
             0.7,
             "#b8e186"
            ],
            [
             0.8,
             "#7fbc41"
            ],
            [
             0.9,
             "#4d9221"
            ],
            [
             1,
             "#276419"
            ]
           ],
           "sequential": [
            [
             0,
             "#0d0887"
            ],
            [
             0.1111111111111111,
             "#46039f"
            ],
            [
             0.2222222222222222,
             "#7201a8"
            ],
            [
             0.3333333333333333,
             "#9c179e"
            ],
            [
             0.4444444444444444,
             "#bd3786"
            ],
            [
             0.5555555555555556,
             "#d8576b"
            ],
            [
             0.6666666666666666,
             "#ed7953"
            ],
            [
             0.7777777777777778,
             "#fb9f3a"
            ],
            [
             0.8888888888888888,
             "#fdca26"
            ],
            [
             1,
             "#f0f921"
            ]
           ],
           "sequentialminus": [
            [
             0,
             "#0d0887"
            ],
            [
             0.1111111111111111,
             "#46039f"
            ],
            [
             0.2222222222222222,
             "#7201a8"
            ],
            [
             0.3333333333333333,
             "#9c179e"
            ],
            [
             0.4444444444444444,
             "#bd3786"
            ],
            [
             0.5555555555555556,
             "#d8576b"
            ],
            [
             0.6666666666666666,
             "#ed7953"
            ],
            [
             0.7777777777777778,
             "#fb9f3a"
            ],
            [
             0.8888888888888888,
             "#fdca26"
            ],
            [
             1,
             "#f0f921"
            ]
           ]
          },
          "colorway": [
           "#636efa",
           "#EF553B",
           "#00cc96",
           "#ab63fa",
           "#FFA15A",
           "#19d3f3",
           "#FF6692",
           "#B6E880",
           "#FF97FF",
           "#FECB52"
          ],
          "font": {
           "color": "#2a3f5f"
          },
          "geo": {
           "bgcolor": "white",
           "lakecolor": "white",
           "landcolor": "#E5ECF6",
           "showlakes": true,
           "showland": true,
           "subunitcolor": "white"
          },
          "hoverlabel": {
           "align": "left"
          },
          "hovermode": "closest",
          "mapbox": {
           "style": "light"
          },
          "paper_bgcolor": "white",
          "plot_bgcolor": "#E5ECF6",
          "polar": {
           "angularaxis": {
            "gridcolor": "white",
            "linecolor": "white",
            "ticks": ""
           },
           "bgcolor": "#E5ECF6",
           "radialaxis": {
            "gridcolor": "white",
            "linecolor": "white",
            "ticks": ""
           }
          },
          "scene": {
           "xaxis": {
            "backgroundcolor": "#E5ECF6",
            "gridcolor": "white",
            "gridwidth": 2,
            "linecolor": "white",
            "showbackground": true,
            "ticks": "",
            "zerolinecolor": "white"
           },
           "yaxis": {
            "backgroundcolor": "#E5ECF6",
            "gridcolor": "white",
            "gridwidth": 2,
            "linecolor": "white",
            "showbackground": true,
            "ticks": "",
            "zerolinecolor": "white"
           },
           "zaxis": {
            "backgroundcolor": "#E5ECF6",
            "gridcolor": "white",
            "gridwidth": 2,
            "linecolor": "white",
            "showbackground": true,
            "ticks": "",
            "zerolinecolor": "white"
           }
          },
          "shapedefaults": {
           "line": {
            "color": "#2a3f5f"
           }
          },
          "ternary": {
           "aaxis": {
            "gridcolor": "white",
            "linecolor": "white",
            "ticks": ""
           },
           "baxis": {
            "gridcolor": "white",
            "linecolor": "white",
            "ticks": ""
           },
           "bgcolor": "#E5ECF6",
           "caxis": {
            "gridcolor": "white",
            "linecolor": "white",
            "ticks": ""
           }
          },
          "title": {
           "x": 0.05
          },
          "xaxis": {
           "automargin": true,
           "gridcolor": "white",
           "linecolor": "white",
           "ticks": "",
           "title": {
            "standoff": 15
           },
           "zerolinecolor": "white",
           "zerolinewidth": 2
          },
          "yaxis": {
           "automargin": true,
           "gridcolor": "white",
           "linecolor": "white",
           "ticks": "",
           "title": {
            "standoff": 15
           },
           "zerolinecolor": "white",
           "zerolinewidth": 2
          }
         }
        },
        "title": {
         "text": "Count of Each Category"
        },
        "xaxis": {
         "anchor": "y",
         "categoryarray": [
          "INFORMATION-TECHNOLOGY",
          "BUSINESS-DEVELOPMENT",
          "FINANCE",
          "ADVOCATE",
          "ACCOUNTANT",
          "ENGINEERING",
          "CHEF",
          "AVIATION",
          "FITNESS",
          "SALES",
          "BANKING",
          "HEALTHCARE",
          "CONSULTANT",
          "CONSTRUCTION",
          "PUBLIC-RELATIONS",
          "HR",
          "DESIGNER",
          "ARTS",
          "TEACHER",
          "APPAREL",
          "DIGITAL-MEDIA",
          "AGRICULTURE",
          "AUTOMOBILE",
          "BPO"
         ],
         "categoryorder": "array",
         "domain": [
          0,
          1
         ],
         "title": {
          "text": "Category"
         }
        },
        "yaxis": {
         "anchor": "x",
         "domain": [
          0,
          1
         ],
         "title": {
          "text": "Count"
         }
        }
       }
      }
     },
     "metadata": {},
     "output_type": "display_data"
    }
   ],
   "source": [
    "df_count = df['Category'].value_counts().reset_index()\n",
    "df_count.columns = ['Category', 'Count']\n",
    "\n",
    "# Create bar plot with custom colors and actual counts\n",
    "fig = px.bar(df_count, x='Category', y='Count', title=\"Count of Each Category\", text='Count', \n",
    "             color='Category')\n",
    "\n",
    "# Customize layout and display text on bars\n",
    "fig.update_traces(texttemplate='%{text}', textposition='outside')\n",
    "fig.update_layout(\n",
    "    xaxis_title=\"Category\",\n",
    "    yaxis_title=\"Count\",\n",
    "    showlegend=False\n",
    ")\n",
    "\n",
    "fig.show()"
   ]
  },
  {
   "cell_type": "code",
   "execution_count": 25,
   "metadata": {},
   "outputs": [
    {
     "data": {
      "application/vnd.plotly.v1+json": {
       "config": {
        "plotlyServerURL": "https://plot.ly"
       },
       "data": [
        {
         "domain": {
          "x": [
           0,
           1
          ],
          "y": [
           0,
           1
          ]
         },
         "hovertemplate": "Category=%{label}<extra></extra>",
         "labels": [
          "HR",
          "HR",
          "HR",
          "HR",
          "HR",
          "HR",
          "HR",
          "HR",
          "HR",
          "HR",
          "HR",
          "HR",
          "HR",
          "HR",
          "HR",
          "HR",
          "HR",
          "HR",
          "HR",
          "HR",
          "HR",
          "HR",
          "HR",
          "HR",
          "HR",
          "HR",
          "HR",
          "HR",
          "HR",
          "HR",
          "HR",
          "HR",
          "HR",
          "HR",
          "HR",
          "HR",
          "HR",
          "HR",
          "HR",
          "HR",
          "HR",
          "HR",
          "HR",
          "HR",
          "HR",
          "HR",
          "HR",
          "HR",
          "HR",
          "HR",
          "HR",
          "HR",
          "HR",
          "HR",
          "HR",
          "HR",
          "HR",
          "HR",
          "HR",
          "HR",
          "HR",
          "HR",
          "HR",
          "HR",
          "HR",
          "HR",
          "HR",
          "HR",
          "HR",
          "HR",
          "HR",
          "HR",
          "HR",
          "HR",
          "HR",
          "HR",
          "HR",
          "HR",
          "HR",
          "HR",
          "HR",
          "HR",
          "HR",
          "HR",
          "HR",
          "HR",
          "HR",
          "HR",
          "HR",
          "HR",
          "HR",
          "HR",
          "HR",
          "HR",
          "HR",
          "HR",
          "HR",
          "HR",
          "HR",
          "HR",
          "HR",
          "HR",
          "HR",
          "HR",
          "HR",
          "HR",
          "HR",
          "HR",
          "HR",
          "HR",
          "DESIGNER",
          "DESIGNER",
          "DESIGNER",
          "DESIGNER",
          "DESIGNER",
          "DESIGNER",
          "DESIGNER",
          "DESIGNER",
          "DESIGNER",
          "DESIGNER",
          "DESIGNER",
          "DESIGNER",
          "DESIGNER",
          "DESIGNER",
          "DESIGNER",
          "DESIGNER",
          "DESIGNER",
          "DESIGNER",
          "DESIGNER",
          "DESIGNER",
          "DESIGNER",
          "DESIGNER",
          "DESIGNER",
          "DESIGNER",
          "DESIGNER",
          "DESIGNER",
          "DESIGNER",
          "DESIGNER",
          "DESIGNER",
          "DESIGNER",
          "DESIGNER",
          "DESIGNER",
          "DESIGNER",
          "DESIGNER",
          "DESIGNER",
          "DESIGNER",
          "DESIGNER",
          "DESIGNER",
          "DESIGNER",
          "DESIGNER",
          "DESIGNER",
          "DESIGNER",
          "DESIGNER",
          "DESIGNER",
          "DESIGNER",
          "DESIGNER",
          "DESIGNER",
          "DESIGNER",
          "DESIGNER",
          "DESIGNER",
          "DESIGNER",
          "DESIGNER",
          "DESIGNER",
          "DESIGNER",
          "DESIGNER",
          "DESIGNER",
          "DESIGNER",
          "DESIGNER",
          "DESIGNER",
          "DESIGNER",
          "DESIGNER",
          "DESIGNER",
          "DESIGNER",
          "DESIGNER",
          "DESIGNER",
          "DESIGNER",
          "DESIGNER",
          "DESIGNER",
          "DESIGNER",
          "DESIGNER",
          "DESIGNER",
          "DESIGNER",
          "DESIGNER",
          "DESIGNER",
          "DESIGNER",
          "DESIGNER",
          "DESIGNER",
          "DESIGNER",
          "DESIGNER",
          "DESIGNER",
          "DESIGNER",
          "DESIGNER",
          "DESIGNER",
          "DESIGNER",
          "DESIGNER",
          "DESIGNER",
          "DESIGNER",
          "DESIGNER",
          "DESIGNER",
          "DESIGNER",
          "DESIGNER",
          "DESIGNER",
          "DESIGNER",
          "DESIGNER",
          "DESIGNER",
          "DESIGNER",
          "DESIGNER",
          "DESIGNER",
          "DESIGNER",
          "DESIGNER",
          "DESIGNER",
          "DESIGNER",
          "DESIGNER",
          "DESIGNER",
          "DESIGNER",
          "DESIGNER",
          "DESIGNER",
          "INFORMATION-TECHNOLOGY",
          "INFORMATION-TECHNOLOGY",
          "INFORMATION-TECHNOLOGY",
          "INFORMATION-TECHNOLOGY",
          "INFORMATION-TECHNOLOGY",
          "INFORMATION-TECHNOLOGY",
          "INFORMATION-TECHNOLOGY",
          "INFORMATION-TECHNOLOGY",
          "INFORMATION-TECHNOLOGY",
          "INFORMATION-TECHNOLOGY",
          "INFORMATION-TECHNOLOGY",
          "INFORMATION-TECHNOLOGY",
          "INFORMATION-TECHNOLOGY",
          "INFORMATION-TECHNOLOGY",
          "INFORMATION-TECHNOLOGY",
          "INFORMATION-TECHNOLOGY",
          "INFORMATION-TECHNOLOGY",
          "INFORMATION-TECHNOLOGY",
          "INFORMATION-TECHNOLOGY",
          "INFORMATION-TECHNOLOGY",
          "INFORMATION-TECHNOLOGY",
          "INFORMATION-TECHNOLOGY",
          "INFORMATION-TECHNOLOGY",
          "INFORMATION-TECHNOLOGY",
          "INFORMATION-TECHNOLOGY",
          "INFORMATION-TECHNOLOGY",
          "INFORMATION-TECHNOLOGY",
          "INFORMATION-TECHNOLOGY",
          "INFORMATION-TECHNOLOGY",
          "INFORMATION-TECHNOLOGY",
          "INFORMATION-TECHNOLOGY",
          "INFORMATION-TECHNOLOGY",
          "INFORMATION-TECHNOLOGY",
          "INFORMATION-TECHNOLOGY",
          "INFORMATION-TECHNOLOGY",
          "INFORMATION-TECHNOLOGY",
          "INFORMATION-TECHNOLOGY",
          "INFORMATION-TECHNOLOGY",
          "INFORMATION-TECHNOLOGY",
          "INFORMATION-TECHNOLOGY",
          "INFORMATION-TECHNOLOGY",
          "INFORMATION-TECHNOLOGY",
          "INFORMATION-TECHNOLOGY",
          "INFORMATION-TECHNOLOGY",
          "INFORMATION-TECHNOLOGY",
          "INFORMATION-TECHNOLOGY",
          "INFORMATION-TECHNOLOGY",
          "INFORMATION-TECHNOLOGY",
          "INFORMATION-TECHNOLOGY",
          "INFORMATION-TECHNOLOGY",
          "INFORMATION-TECHNOLOGY",
          "INFORMATION-TECHNOLOGY",
          "INFORMATION-TECHNOLOGY",
          "INFORMATION-TECHNOLOGY",
          "INFORMATION-TECHNOLOGY",
          "INFORMATION-TECHNOLOGY",
          "INFORMATION-TECHNOLOGY",
          "INFORMATION-TECHNOLOGY",
          "INFORMATION-TECHNOLOGY",
          "INFORMATION-TECHNOLOGY",
          "INFORMATION-TECHNOLOGY",
          "INFORMATION-TECHNOLOGY",
          "INFORMATION-TECHNOLOGY",
          "INFORMATION-TECHNOLOGY",
          "INFORMATION-TECHNOLOGY",
          "INFORMATION-TECHNOLOGY",
          "INFORMATION-TECHNOLOGY",
          "INFORMATION-TECHNOLOGY",
          "INFORMATION-TECHNOLOGY",
          "INFORMATION-TECHNOLOGY",
          "INFORMATION-TECHNOLOGY",
          "INFORMATION-TECHNOLOGY",
          "INFORMATION-TECHNOLOGY",
          "INFORMATION-TECHNOLOGY",
          "INFORMATION-TECHNOLOGY",
          "INFORMATION-TECHNOLOGY",
          "INFORMATION-TECHNOLOGY",
          "INFORMATION-TECHNOLOGY",
          "INFORMATION-TECHNOLOGY",
          "INFORMATION-TECHNOLOGY",
          "INFORMATION-TECHNOLOGY",
          "INFORMATION-TECHNOLOGY",
          "INFORMATION-TECHNOLOGY",
          "INFORMATION-TECHNOLOGY",
          "INFORMATION-TECHNOLOGY",
          "INFORMATION-TECHNOLOGY",
          "INFORMATION-TECHNOLOGY",
          "INFORMATION-TECHNOLOGY",
          "INFORMATION-TECHNOLOGY",
          "INFORMATION-TECHNOLOGY",
          "INFORMATION-TECHNOLOGY",
          "INFORMATION-TECHNOLOGY",
          "INFORMATION-TECHNOLOGY",
          "INFORMATION-TECHNOLOGY",
          "INFORMATION-TECHNOLOGY",
          "INFORMATION-TECHNOLOGY",
          "INFORMATION-TECHNOLOGY",
          "INFORMATION-TECHNOLOGY",
          "INFORMATION-TECHNOLOGY",
          "INFORMATION-TECHNOLOGY",
          "INFORMATION-TECHNOLOGY",
          "INFORMATION-TECHNOLOGY",
          "INFORMATION-TECHNOLOGY",
          "INFORMATION-TECHNOLOGY",
          "INFORMATION-TECHNOLOGY",
          "INFORMATION-TECHNOLOGY",
          "INFORMATION-TECHNOLOGY",
          "INFORMATION-TECHNOLOGY",
          "INFORMATION-TECHNOLOGY",
          "INFORMATION-TECHNOLOGY",
          "INFORMATION-TECHNOLOGY",
          "INFORMATION-TECHNOLOGY",
          "INFORMATION-TECHNOLOGY",
          "INFORMATION-TECHNOLOGY",
          "INFORMATION-TECHNOLOGY",
          "INFORMATION-TECHNOLOGY",
          "INFORMATION-TECHNOLOGY",
          "INFORMATION-TECHNOLOGY",
          "INFORMATION-TECHNOLOGY",
          "INFORMATION-TECHNOLOGY",
          "TEACHER",
          "TEACHER",
          "TEACHER",
          "TEACHER",
          "TEACHER",
          "TEACHER",
          "TEACHER",
          "TEACHER",
          "TEACHER",
          "TEACHER",
          "TEACHER",
          "TEACHER",
          "TEACHER",
          "TEACHER",
          "TEACHER",
          "TEACHER",
          "TEACHER",
          "TEACHER",
          "TEACHER",
          "TEACHER",
          "TEACHER",
          "TEACHER",
          "TEACHER",
          "TEACHER",
          "TEACHER",
          "TEACHER",
          "TEACHER",
          "TEACHER",
          "TEACHER",
          "TEACHER",
          "TEACHER",
          "TEACHER",
          "TEACHER",
          "TEACHER",
          "TEACHER",
          "TEACHER",
          "TEACHER",
          "TEACHER",
          "TEACHER",
          "TEACHER",
          "TEACHER",
          "TEACHER",
          "TEACHER",
          "TEACHER",
          "TEACHER",
          "TEACHER",
          "TEACHER",
          "TEACHER",
          "TEACHER",
          "TEACHER",
          "TEACHER",
          "TEACHER",
          "TEACHER",
          "TEACHER",
          "TEACHER",
          "TEACHER",
          "TEACHER",
          "TEACHER",
          "TEACHER",
          "TEACHER",
          "TEACHER",
          "TEACHER",
          "TEACHER",
          "TEACHER",
          "TEACHER",
          "TEACHER",
          "TEACHER",
          "TEACHER",
          "TEACHER",
          "TEACHER",
          "TEACHER",
          "TEACHER",
          "TEACHER",
          "TEACHER",
          "TEACHER",
          "TEACHER",
          "TEACHER",
          "TEACHER",
          "TEACHER",
          "TEACHER",
          "TEACHER",
          "TEACHER",
          "TEACHER",
          "TEACHER",
          "TEACHER",
          "TEACHER",
          "TEACHER",
          "TEACHER",
          "TEACHER",
          "TEACHER",
          "TEACHER",
          "TEACHER",
          "TEACHER",
          "TEACHER",
          "TEACHER",
          "TEACHER",
          "TEACHER",
          "TEACHER",
          "TEACHER",
          "TEACHER",
          "TEACHER",
          "TEACHER",
          "ADVOCATE",
          "ADVOCATE",
          "ADVOCATE",
          "ADVOCATE",
          "ADVOCATE",
          "ADVOCATE",
          "ADVOCATE",
          "ADVOCATE",
          "ADVOCATE",
          "ADVOCATE",
          "ADVOCATE",
          "ADVOCATE",
          "ADVOCATE",
          "ADVOCATE",
          "ADVOCATE",
          "ADVOCATE",
          "ADVOCATE",
          "ADVOCATE",
          "ADVOCATE",
          "ADVOCATE",
          "ADVOCATE",
          "ADVOCATE",
          "ADVOCATE",
          "ADVOCATE",
          "ADVOCATE",
          "ADVOCATE",
          "ADVOCATE",
          "ADVOCATE",
          "ADVOCATE",
          "ADVOCATE",
          "ADVOCATE",
          "ADVOCATE",
          "ADVOCATE",
          "ADVOCATE",
          "ADVOCATE",
          "ADVOCATE",
          "ADVOCATE",
          "ADVOCATE",
          "ADVOCATE",
          "ADVOCATE",
          "ADVOCATE",
          "ADVOCATE",
          "ADVOCATE",
          "ADVOCATE",
          "ADVOCATE",
          "ADVOCATE",
          "ADVOCATE",
          "ADVOCATE",
          "ADVOCATE",
          "ADVOCATE",
          "ADVOCATE",
          "ADVOCATE",
          "ADVOCATE",
          "ADVOCATE",
          "ADVOCATE",
          "ADVOCATE",
          "ADVOCATE",
          "ADVOCATE",
          "ADVOCATE",
          "ADVOCATE",
          "ADVOCATE",
          "ADVOCATE",
          "ADVOCATE",
          "ADVOCATE",
          "ADVOCATE",
          "ADVOCATE",
          "ADVOCATE",
          "ADVOCATE",
          "ADVOCATE",
          "ADVOCATE",
          "ADVOCATE",
          "ADVOCATE",
          "ADVOCATE",
          "ADVOCATE",
          "ADVOCATE",
          "ADVOCATE",
          "ADVOCATE",
          "ADVOCATE",
          "ADVOCATE",
          "ADVOCATE",
          "ADVOCATE",
          "ADVOCATE",
          "ADVOCATE",
          "ADVOCATE",
          "ADVOCATE",
          "ADVOCATE",
          "ADVOCATE",
          "ADVOCATE",
          "ADVOCATE",
          "ADVOCATE",
          "ADVOCATE",
          "ADVOCATE",
          "ADVOCATE",
          "ADVOCATE",
          "ADVOCATE",
          "ADVOCATE",
          "ADVOCATE",
          "ADVOCATE",
          "ADVOCATE",
          "ADVOCATE",
          "ADVOCATE",
          "ADVOCATE",
          "ADVOCATE",
          "ADVOCATE",
          "ADVOCATE",
          "ADVOCATE",
          "ADVOCATE",
          "ADVOCATE",
          "ADVOCATE",
          "ADVOCATE",
          "ADVOCATE",
          "ADVOCATE",
          "ADVOCATE",
          "ADVOCATE",
          "ADVOCATE",
          "ADVOCATE",
          "ADVOCATE",
          "ADVOCATE",
          "BUSINESS-DEVELOPMENT",
          "BUSINESS-DEVELOPMENT",
          "BUSINESS-DEVELOPMENT",
          "BUSINESS-DEVELOPMENT",
          "BUSINESS-DEVELOPMENT",
          "BUSINESS-DEVELOPMENT",
          "BUSINESS-DEVELOPMENT",
          "BUSINESS-DEVELOPMENT",
          "BUSINESS-DEVELOPMENT",
          "BUSINESS-DEVELOPMENT",
          "BUSINESS-DEVELOPMENT",
          "BUSINESS-DEVELOPMENT",
          "BUSINESS-DEVELOPMENT",
          "BUSINESS-DEVELOPMENT",
          "BUSINESS-DEVELOPMENT",
          "BUSINESS-DEVELOPMENT",
          "BUSINESS-DEVELOPMENT",
          "BUSINESS-DEVELOPMENT",
          "BUSINESS-DEVELOPMENT",
          "BUSINESS-DEVELOPMENT",
          "BUSINESS-DEVELOPMENT",
          "BUSINESS-DEVELOPMENT",
          "BUSINESS-DEVELOPMENT",
          "BUSINESS-DEVELOPMENT",
          "BUSINESS-DEVELOPMENT",
          "BUSINESS-DEVELOPMENT",
          "BUSINESS-DEVELOPMENT",
          "BUSINESS-DEVELOPMENT",
          "BUSINESS-DEVELOPMENT",
          "BUSINESS-DEVELOPMENT",
          "BUSINESS-DEVELOPMENT",
          "BUSINESS-DEVELOPMENT",
          "BUSINESS-DEVELOPMENT",
          "BUSINESS-DEVELOPMENT",
          "BUSINESS-DEVELOPMENT",
          "BUSINESS-DEVELOPMENT",
          "BUSINESS-DEVELOPMENT",
          "BUSINESS-DEVELOPMENT",
          "BUSINESS-DEVELOPMENT",
          "BUSINESS-DEVELOPMENT",
          "BUSINESS-DEVELOPMENT",
          "BUSINESS-DEVELOPMENT",
          "BUSINESS-DEVELOPMENT",
          "BUSINESS-DEVELOPMENT",
          "BUSINESS-DEVELOPMENT",
          "BUSINESS-DEVELOPMENT",
          "BUSINESS-DEVELOPMENT",
          "BUSINESS-DEVELOPMENT",
          "BUSINESS-DEVELOPMENT",
          "BUSINESS-DEVELOPMENT",
          "BUSINESS-DEVELOPMENT",
          "BUSINESS-DEVELOPMENT",
          "BUSINESS-DEVELOPMENT",
          "BUSINESS-DEVELOPMENT",
          "BUSINESS-DEVELOPMENT",
          "BUSINESS-DEVELOPMENT",
          "BUSINESS-DEVELOPMENT",
          "BUSINESS-DEVELOPMENT",
          "BUSINESS-DEVELOPMENT",
          "BUSINESS-DEVELOPMENT",
          "BUSINESS-DEVELOPMENT",
          "BUSINESS-DEVELOPMENT",
          "BUSINESS-DEVELOPMENT",
          "BUSINESS-DEVELOPMENT",
          "BUSINESS-DEVELOPMENT",
          "BUSINESS-DEVELOPMENT",
          "BUSINESS-DEVELOPMENT",
          "BUSINESS-DEVELOPMENT",
          "BUSINESS-DEVELOPMENT",
          "BUSINESS-DEVELOPMENT",
          "BUSINESS-DEVELOPMENT",
          "BUSINESS-DEVELOPMENT",
          "BUSINESS-DEVELOPMENT",
          "BUSINESS-DEVELOPMENT",
          "BUSINESS-DEVELOPMENT",
          "BUSINESS-DEVELOPMENT",
          "BUSINESS-DEVELOPMENT",
          "BUSINESS-DEVELOPMENT",
          "BUSINESS-DEVELOPMENT",
          "BUSINESS-DEVELOPMENT",
          "BUSINESS-DEVELOPMENT",
          "BUSINESS-DEVELOPMENT",
          "BUSINESS-DEVELOPMENT",
          "BUSINESS-DEVELOPMENT",
          "BUSINESS-DEVELOPMENT",
          "BUSINESS-DEVELOPMENT",
          "BUSINESS-DEVELOPMENT",
          "BUSINESS-DEVELOPMENT",
          "BUSINESS-DEVELOPMENT",
          "BUSINESS-DEVELOPMENT",
          "BUSINESS-DEVELOPMENT",
          "BUSINESS-DEVELOPMENT",
          "BUSINESS-DEVELOPMENT",
          "BUSINESS-DEVELOPMENT",
          "BUSINESS-DEVELOPMENT",
          "BUSINESS-DEVELOPMENT",
          "BUSINESS-DEVELOPMENT",
          "BUSINESS-DEVELOPMENT",
          "BUSINESS-DEVELOPMENT",
          "BUSINESS-DEVELOPMENT",
          "BUSINESS-DEVELOPMENT",
          "BUSINESS-DEVELOPMENT",
          "BUSINESS-DEVELOPMENT",
          "BUSINESS-DEVELOPMENT",
          "BUSINESS-DEVELOPMENT",
          "BUSINESS-DEVELOPMENT",
          "BUSINESS-DEVELOPMENT",
          "BUSINESS-DEVELOPMENT",
          "BUSINESS-DEVELOPMENT",
          "BUSINESS-DEVELOPMENT",
          "BUSINESS-DEVELOPMENT",
          "BUSINESS-DEVELOPMENT",
          "BUSINESS-DEVELOPMENT",
          "BUSINESS-DEVELOPMENT",
          "BUSINESS-DEVELOPMENT",
          "BUSINESS-DEVELOPMENT",
          "BUSINESS-DEVELOPMENT",
          "BUSINESS-DEVELOPMENT",
          "BUSINESS-DEVELOPMENT",
          "HEALTHCARE",
          "HEALTHCARE",
          "HEALTHCARE",
          "HEALTHCARE",
          "HEALTHCARE",
          "HEALTHCARE",
          "HEALTHCARE",
          "HEALTHCARE",
          "HEALTHCARE",
          "HEALTHCARE",
          "HEALTHCARE",
          "HEALTHCARE",
          "HEALTHCARE",
          "HEALTHCARE",
          "HEALTHCARE",
          "HEALTHCARE",
          "HEALTHCARE",
          "HEALTHCARE",
          "HEALTHCARE",
          "HEALTHCARE",
          "HEALTHCARE",
          "HEALTHCARE",
          "HEALTHCARE",
          "HEALTHCARE",
          "HEALTHCARE",
          "HEALTHCARE",
          "HEALTHCARE",
          "HEALTHCARE",
          "HEALTHCARE",
          "HEALTHCARE",
          "HEALTHCARE",
          "HEALTHCARE",
          "HEALTHCARE",
          "HEALTHCARE",
          "HEALTHCARE",
          "HEALTHCARE",
          "HEALTHCARE",
          "HEALTHCARE",
          "HEALTHCARE",
          "HEALTHCARE",
          "HEALTHCARE",
          "HEALTHCARE",
          "HEALTHCARE",
          "HEALTHCARE",
          "HEALTHCARE",
          "HEALTHCARE",
          "HEALTHCARE",
          "HEALTHCARE",
          "HEALTHCARE",
          "HEALTHCARE",
          "HEALTHCARE",
          "HEALTHCARE",
          "HEALTHCARE",
          "HEALTHCARE",
          "HEALTHCARE",
          "HEALTHCARE",
          "HEALTHCARE",
          "HEALTHCARE",
          "HEALTHCARE",
          "HEALTHCARE",
          "HEALTHCARE",
          "HEALTHCARE",
          "HEALTHCARE",
          "HEALTHCARE",
          "HEALTHCARE",
          "HEALTHCARE",
          "HEALTHCARE",
          "HEALTHCARE",
          "HEALTHCARE",
          "HEALTHCARE",
          "HEALTHCARE",
          "HEALTHCARE",
          "HEALTHCARE",
          "HEALTHCARE",
          "HEALTHCARE",
          "HEALTHCARE",
          "HEALTHCARE",
          "HEALTHCARE",
          "HEALTHCARE",
          "HEALTHCARE",
          "HEALTHCARE",
          "HEALTHCARE",
          "HEALTHCARE",
          "HEALTHCARE",
          "HEALTHCARE",
          "HEALTHCARE",
          "HEALTHCARE",
          "HEALTHCARE",
          "HEALTHCARE",
          "HEALTHCARE",
          "HEALTHCARE",
          "HEALTHCARE",
          "HEALTHCARE",
          "HEALTHCARE",
          "HEALTHCARE",
          "HEALTHCARE",
          "HEALTHCARE",
          "HEALTHCARE",
          "HEALTHCARE",
          "HEALTHCARE",
          "HEALTHCARE",
          "HEALTHCARE",
          "HEALTHCARE",
          "HEALTHCARE",
          "HEALTHCARE",
          "HEALTHCARE",
          "HEALTHCARE",
          "HEALTHCARE",
          "HEALTHCARE",
          "HEALTHCARE",
          "HEALTHCARE",
          "HEALTHCARE",
          "HEALTHCARE",
          "HEALTHCARE",
          "HEALTHCARE",
          "FITNESS",
          "FITNESS",
          "FITNESS",
          "FITNESS",
          "FITNESS",
          "FITNESS",
          "FITNESS",
          "FITNESS",
          "FITNESS",
          "FITNESS",
          "FITNESS",
          "FITNESS",
          "FITNESS",
          "FITNESS",
          "FITNESS",
          "FITNESS",
          "FITNESS",
          "FITNESS",
          "FITNESS",
          "FITNESS",
          "FITNESS",
          "FITNESS",
          "FITNESS",
          "FITNESS",
          "FITNESS",
          "FITNESS",
          "FITNESS",
          "FITNESS",
          "FITNESS",
          "FITNESS",
          "FITNESS",
          "FITNESS",
          "FITNESS",
          "FITNESS",
          "FITNESS",
          "FITNESS",
          "FITNESS",
          "FITNESS",
          "FITNESS",
          "FITNESS",
          "FITNESS",
          "FITNESS",
          "FITNESS",
          "FITNESS",
          "FITNESS",
          "FITNESS",
          "FITNESS",
          "FITNESS",
          "FITNESS",
          "FITNESS",
          "FITNESS",
          "FITNESS",
          "FITNESS",
          "FITNESS",
          "FITNESS",
          "FITNESS",
          "FITNESS",
          "FITNESS",
          "FITNESS",
          "FITNESS",
          "FITNESS",
          "FITNESS",
          "FITNESS",
          "FITNESS",
          "FITNESS",
          "FITNESS",
          "FITNESS",
          "FITNESS",
          "FITNESS",
          "FITNESS",
          "FITNESS",
          "FITNESS",
          "FITNESS",
          "FITNESS",
          "FITNESS",
          "FITNESS",
          "FITNESS",
          "FITNESS",
          "FITNESS",
          "FITNESS",
          "FITNESS",
          "FITNESS",
          "FITNESS",
          "FITNESS",
          "FITNESS",
          "FITNESS",
          "FITNESS",
          "FITNESS",
          "FITNESS",
          "FITNESS",
          "FITNESS",
          "FITNESS",
          "FITNESS",
          "FITNESS",
          "FITNESS",
          "FITNESS",
          "FITNESS",
          "FITNESS",
          "FITNESS",
          "FITNESS",
          "FITNESS",
          "FITNESS",
          "FITNESS",
          "FITNESS",
          "FITNESS",
          "FITNESS",
          "FITNESS",
          "FITNESS",
          "FITNESS",
          "FITNESS",
          "FITNESS",
          "FITNESS",
          "FITNESS",
          "FITNESS",
          "FITNESS",
          "FITNESS",
          "FITNESS",
          "AGRICULTURE",
          "AGRICULTURE",
          "AGRICULTURE",
          "AGRICULTURE",
          "AGRICULTURE",
          "AGRICULTURE",
          "AGRICULTURE",
          "AGRICULTURE",
          "AGRICULTURE",
          "AGRICULTURE",
          "AGRICULTURE",
          "AGRICULTURE",
          "AGRICULTURE",
          "AGRICULTURE",
          "AGRICULTURE",
          "AGRICULTURE",
          "AGRICULTURE",
          "AGRICULTURE",
          "AGRICULTURE",
          "AGRICULTURE",
          "AGRICULTURE",
          "AGRICULTURE",
          "AGRICULTURE",
          "AGRICULTURE",
          "AGRICULTURE",
          "AGRICULTURE",
          "AGRICULTURE",
          "AGRICULTURE",
          "AGRICULTURE",
          "AGRICULTURE",
          "AGRICULTURE",
          "AGRICULTURE",
          "AGRICULTURE",
          "AGRICULTURE",
          "AGRICULTURE",
          "AGRICULTURE",
          "AGRICULTURE",
          "AGRICULTURE",
          "AGRICULTURE",
          "AGRICULTURE",
          "AGRICULTURE",
          "AGRICULTURE",
          "AGRICULTURE",
          "AGRICULTURE",
          "AGRICULTURE",
          "AGRICULTURE",
          "AGRICULTURE",
          "AGRICULTURE",
          "AGRICULTURE",
          "AGRICULTURE",
          "AGRICULTURE",
          "AGRICULTURE",
          "AGRICULTURE",
          "AGRICULTURE",
          "AGRICULTURE",
          "AGRICULTURE",
          "AGRICULTURE",
          "AGRICULTURE",
          "AGRICULTURE",
          "AGRICULTURE",
          "AGRICULTURE",
          "AGRICULTURE",
          "AGRICULTURE",
          "BPO",
          "BPO",
          "BPO",
          "BPO",
          "BPO",
          "BPO",
          "BPO",
          "BPO",
          "BPO",
          "BPO",
          "BPO",
          "BPO",
          "BPO",
          "BPO",
          "BPO",
          "BPO",
          "BPO",
          "BPO",
          "BPO",
          "BPO",
          "BPO",
          "BPO",
          "SALES",
          "SALES",
          "SALES",
          "SALES",
          "SALES",
          "SALES",
          "SALES",
          "SALES",
          "SALES",
          "SALES",
          "SALES",
          "SALES",
          "SALES",
          "SALES",
          "SALES",
          "SALES",
          "SALES",
          "SALES",
          "SALES",
          "SALES",
          "SALES",
          "SALES",
          "SALES",
          "SALES",
          "SALES",
          "SALES",
          "SALES",
          "SALES",
          "SALES",
          "SALES",
          "SALES",
          "SALES",
          "SALES",
          "SALES",
          "SALES",
          "SALES",
          "SALES",
          "SALES",
          "SALES",
          "SALES",
          "SALES",
          "SALES",
          "SALES",
          "SALES",
          "SALES",
          "SALES",
          "SALES",
          "SALES",
          "SALES",
          "SALES",
          "SALES",
          "SALES",
          "SALES",
          "SALES",
          "SALES",
          "SALES",
          "SALES",
          "SALES",
          "SALES",
          "SALES",
          "SALES",
          "SALES",
          "SALES",
          "SALES",
          "SALES",
          "SALES",
          "SALES",
          "SALES",
          "SALES",
          "SALES",
          "SALES",
          "SALES",
          "SALES",
          "SALES",
          "SALES",
          "SALES",
          "SALES",
          "SALES",
          "SALES",
          "SALES",
          "SALES",
          "SALES",
          "SALES",
          "SALES",
          "SALES",
          "SALES",
          "SALES",
          "SALES",
          "SALES",
          "SALES",
          "SALES",
          "SALES",
          "SALES",
          "SALES",
          "SALES",
          "SALES",
          "SALES",
          "SALES",
          "SALES",
          "SALES",
          "SALES",
          "SALES",
          "SALES",
          "SALES",
          "SALES",
          "SALES",
          "SALES",
          "SALES",
          "SALES",
          "SALES",
          "SALES",
          "SALES",
          "SALES",
          "SALES",
          "SALES",
          "SALES",
          "CONSULTANT",
          "CONSULTANT",
          "CONSULTANT",
          "CONSULTANT",
          "CONSULTANT",
          "CONSULTANT",
          "CONSULTANT",
          "CONSULTANT",
          "CONSULTANT",
          "CONSULTANT",
          "CONSULTANT",
          "CONSULTANT",
          "CONSULTANT",
          "CONSULTANT",
          "CONSULTANT",
          "CONSULTANT",
          "CONSULTANT",
          "CONSULTANT",
          "CONSULTANT",
          "CONSULTANT",
          "CONSULTANT",
          "CONSULTANT",
          "CONSULTANT",
          "CONSULTANT",
          "CONSULTANT",
          "CONSULTANT",
          "CONSULTANT",
          "CONSULTANT",
          "CONSULTANT",
          "CONSULTANT",
          "CONSULTANT",
          "CONSULTANT",
          "CONSULTANT",
          "CONSULTANT",
          "CONSULTANT",
          "CONSULTANT",
          "CONSULTANT",
          "CONSULTANT",
          "CONSULTANT",
          "CONSULTANT",
          "CONSULTANT",
          "CONSULTANT",
          "CONSULTANT",
          "CONSULTANT",
          "CONSULTANT",
          "CONSULTANT",
          "CONSULTANT",
          "CONSULTANT",
          "CONSULTANT",
          "CONSULTANT",
          "CONSULTANT",
          "CONSULTANT",
          "CONSULTANT",
          "CONSULTANT",
          "CONSULTANT",
          "CONSULTANT",
          "CONSULTANT",
          "CONSULTANT",
          "CONSULTANT",
          "CONSULTANT",
          "CONSULTANT",
          "CONSULTANT",
          "CONSULTANT",
          "CONSULTANT",
          "CONSULTANT",
          "CONSULTANT",
          "CONSULTANT",
          "CONSULTANT",
          "CONSULTANT",
          "CONSULTANT",
          "CONSULTANT",
          "CONSULTANT",
          "CONSULTANT",
          "CONSULTANT",
          "CONSULTANT",
          "CONSULTANT",
          "CONSULTANT",
          "CONSULTANT",
          "CONSULTANT",
          "CONSULTANT",
          "CONSULTANT",
          "CONSULTANT",
          "CONSULTANT",
          "CONSULTANT",
          "CONSULTANT",
          "CONSULTANT",
          "CONSULTANT",
          "CONSULTANT",
          "CONSULTANT",
          "CONSULTANT",
          "CONSULTANT",
          "CONSULTANT",
          "CONSULTANT",
          "CONSULTANT",
          "CONSULTANT",
          "CONSULTANT",
          "CONSULTANT",
          "CONSULTANT",
          "CONSULTANT",
          "CONSULTANT",
          "CONSULTANT",
          "CONSULTANT",
          "CONSULTANT",
          "CONSULTANT",
          "CONSULTANT",
          "CONSULTANT",
          "CONSULTANT",
          "CONSULTANT",
          "CONSULTANT",
          "CONSULTANT",
          "CONSULTANT",
          "CONSULTANT",
          "CONSULTANT",
          "CONSULTANT",
          "CONSULTANT",
          "DIGITAL-MEDIA",
          "DIGITAL-MEDIA",
          "DIGITAL-MEDIA",
          "DIGITAL-MEDIA",
          "DIGITAL-MEDIA",
          "DIGITAL-MEDIA",
          "DIGITAL-MEDIA",
          "DIGITAL-MEDIA",
          "DIGITAL-MEDIA",
          "DIGITAL-MEDIA",
          "DIGITAL-MEDIA",
          "DIGITAL-MEDIA",
          "DIGITAL-MEDIA",
          "DIGITAL-MEDIA",
          "DIGITAL-MEDIA",
          "DIGITAL-MEDIA",
          "DIGITAL-MEDIA",
          "DIGITAL-MEDIA",
          "DIGITAL-MEDIA",
          "DIGITAL-MEDIA",
          "DIGITAL-MEDIA",
          "DIGITAL-MEDIA",
          "DIGITAL-MEDIA",
          "DIGITAL-MEDIA",
          "DIGITAL-MEDIA",
          "DIGITAL-MEDIA",
          "DIGITAL-MEDIA",
          "DIGITAL-MEDIA",
          "DIGITAL-MEDIA",
          "DIGITAL-MEDIA",
          "DIGITAL-MEDIA",
          "DIGITAL-MEDIA",
          "DIGITAL-MEDIA",
          "DIGITAL-MEDIA",
          "DIGITAL-MEDIA",
          "DIGITAL-MEDIA",
          "DIGITAL-MEDIA",
          "DIGITAL-MEDIA",
          "DIGITAL-MEDIA",
          "DIGITAL-MEDIA",
          "DIGITAL-MEDIA",
          "DIGITAL-MEDIA",
          "DIGITAL-MEDIA",
          "DIGITAL-MEDIA",
          "DIGITAL-MEDIA",
          "DIGITAL-MEDIA",
          "DIGITAL-MEDIA",
          "DIGITAL-MEDIA",
          "DIGITAL-MEDIA",
          "DIGITAL-MEDIA",
          "DIGITAL-MEDIA",
          "DIGITAL-MEDIA",
          "DIGITAL-MEDIA",
          "DIGITAL-MEDIA",
          "DIGITAL-MEDIA",
          "DIGITAL-MEDIA",
          "DIGITAL-MEDIA",
          "DIGITAL-MEDIA",
          "DIGITAL-MEDIA",
          "DIGITAL-MEDIA",
          "DIGITAL-MEDIA",
          "DIGITAL-MEDIA",
          "DIGITAL-MEDIA",
          "DIGITAL-MEDIA",
          "DIGITAL-MEDIA",
          "DIGITAL-MEDIA",
          "DIGITAL-MEDIA",
          "DIGITAL-MEDIA",
          "DIGITAL-MEDIA",
          "DIGITAL-MEDIA",
          "DIGITAL-MEDIA",
          "DIGITAL-MEDIA",
          "DIGITAL-MEDIA",
          "DIGITAL-MEDIA",
          "DIGITAL-MEDIA",
          "DIGITAL-MEDIA",
          "DIGITAL-MEDIA",
          "DIGITAL-MEDIA",
          "DIGITAL-MEDIA",
          "DIGITAL-MEDIA",
          "DIGITAL-MEDIA",
          "DIGITAL-MEDIA",
          "DIGITAL-MEDIA",
          "DIGITAL-MEDIA",
          "DIGITAL-MEDIA",
          "DIGITAL-MEDIA",
          "DIGITAL-MEDIA",
          "DIGITAL-MEDIA",
          "DIGITAL-MEDIA",
          "DIGITAL-MEDIA",
          "DIGITAL-MEDIA",
          "DIGITAL-MEDIA",
          "DIGITAL-MEDIA",
          "DIGITAL-MEDIA",
          "DIGITAL-MEDIA",
          "DIGITAL-MEDIA",
          "AUTOMOBILE",
          "AUTOMOBILE",
          "AUTOMOBILE",
          "AUTOMOBILE",
          "AUTOMOBILE",
          "AUTOMOBILE",
          "AUTOMOBILE",
          "AUTOMOBILE",
          "AUTOMOBILE",
          "AUTOMOBILE",
          "AUTOMOBILE",
          "AUTOMOBILE",
          "AUTOMOBILE",
          "AUTOMOBILE",
          "AUTOMOBILE",
          "AUTOMOBILE",
          "AUTOMOBILE",
          "AUTOMOBILE",
          "AUTOMOBILE",
          "AUTOMOBILE",
          "AUTOMOBILE",
          "AUTOMOBILE",
          "AUTOMOBILE",
          "AUTOMOBILE",
          "AUTOMOBILE",
          "AUTOMOBILE",
          "AUTOMOBILE",
          "AUTOMOBILE",
          "AUTOMOBILE",
          "AUTOMOBILE",
          "AUTOMOBILE",
          "AUTOMOBILE",
          "AUTOMOBILE",
          "AUTOMOBILE",
          "AUTOMOBILE",
          "AUTOMOBILE",
          "CHEF",
          "CHEF",
          "CHEF",
          "CHEF",
          "CHEF",
          "CHEF",
          "CHEF",
          "CHEF",
          "CHEF",
          "CHEF",
          "CHEF",
          "CHEF",
          "CHEF",
          "CHEF",
          "CHEF",
          "CHEF",
          "CHEF",
          "CHEF",
          "CHEF",
          "CHEF",
          "CHEF",
          "CHEF",
          "CHEF",
          "CHEF",
          "CHEF",
          "CHEF",
          "CHEF",
          "CHEF",
          "CHEF",
          "CHEF",
          "CHEF",
          "CHEF",
          "CHEF",
          "CHEF",
          "CHEF",
          "CHEF",
          "CHEF",
          "CHEF",
          "CHEF",
          "CHEF",
          "CHEF",
          "CHEF",
          "CHEF",
          "CHEF",
          "CHEF",
          "CHEF",
          "CHEF",
          "CHEF",
          "CHEF",
          "CHEF",
          "CHEF",
          "CHEF",
          "CHEF",
          "CHEF",
          "CHEF",
          "CHEF",
          "CHEF",
          "CHEF",
          "CHEF",
          "CHEF",
          "CHEF",
          "CHEF",
          "CHEF",
          "CHEF",
          "CHEF",
          "CHEF",
          "CHEF",
          "CHEF",
          "CHEF",
          "CHEF",
          "CHEF",
          "CHEF",
          "CHEF",
          "CHEF",
          "CHEF",
          "CHEF",
          "CHEF",
          "CHEF",
          "CHEF",
          "CHEF",
          "CHEF",
          "CHEF",
          "CHEF",
          "CHEF",
          "CHEF",
          "CHEF",
          "CHEF",
          "CHEF",
          "CHEF",
          "CHEF",
          "CHEF",
          "CHEF",
          "CHEF",
          "CHEF",
          "CHEF",
          "CHEF",
          "CHEF",
          "CHEF",
          "CHEF",
          "CHEF",
          "CHEF",
          "CHEF",
          "CHEF",
          "CHEF",
          "CHEF",
          "CHEF",
          "CHEF",
          "CHEF",
          "CHEF",
          "CHEF",
          "CHEF",
          "CHEF",
          "CHEF",
          "CHEF",
          "CHEF",
          "CHEF",
          "CHEF",
          "CHEF",
          "FINANCE",
          "FINANCE",
          "FINANCE",
          "FINANCE",
          "FINANCE",
          "FINANCE",
          "FINANCE",
          "FINANCE",
          "FINANCE",
          "FINANCE",
          "FINANCE",
          "FINANCE",
          "FINANCE",
          "FINANCE",
          "FINANCE",
          "FINANCE",
          "FINANCE",
          "FINANCE",
          "FINANCE",
          "FINANCE",
          "FINANCE",
          "FINANCE",
          "FINANCE",
          "FINANCE",
          "FINANCE",
          "FINANCE",
          "FINANCE",
          "FINANCE",
          "FINANCE",
          "FINANCE",
          "FINANCE",
          "FINANCE",
          "FINANCE",
          "FINANCE",
          "FINANCE",
          "FINANCE",
          "FINANCE",
          "FINANCE",
          "FINANCE",
          "FINANCE",
          "FINANCE",
          "FINANCE",
          "FINANCE",
          "FINANCE",
          "FINANCE",
          "FINANCE",
          "FINANCE",
          "FINANCE",
          "FINANCE",
          "FINANCE",
          "FINANCE",
          "FINANCE",
          "FINANCE",
          "FINANCE",
          "FINANCE",
          "FINANCE",
          "FINANCE",
          "FINANCE",
          "FINANCE",
          "FINANCE",
          "FINANCE",
          "FINANCE",
          "FINANCE",
          "FINANCE",
          "FINANCE",
          "FINANCE",
          "FINANCE",
          "FINANCE",
          "FINANCE",
          "FINANCE",
          "FINANCE",
          "FINANCE",
          "FINANCE",
          "FINANCE",
          "FINANCE",
          "FINANCE",
          "FINANCE",
          "FINANCE",
          "FINANCE",
          "FINANCE",
          "FINANCE",
          "FINANCE",
          "FINANCE",
          "FINANCE",
          "FINANCE",
          "FINANCE",
          "FINANCE",
          "FINANCE",
          "FINANCE",
          "FINANCE",
          "FINANCE",
          "FINANCE",
          "FINANCE",
          "FINANCE",
          "FINANCE",
          "FINANCE",
          "FINANCE",
          "FINANCE",
          "FINANCE",
          "FINANCE",
          "FINANCE",
          "FINANCE",
          "FINANCE",
          "FINANCE",
          "FINANCE",
          "FINANCE",
          "FINANCE",
          "FINANCE",
          "FINANCE",
          "FINANCE",
          "FINANCE",
          "FINANCE",
          "FINANCE",
          "FINANCE",
          "FINANCE",
          "FINANCE",
          "FINANCE",
          "FINANCE",
          "APPAREL",
          "APPAREL",
          "APPAREL",
          "APPAREL",
          "APPAREL",
          "APPAREL",
          "APPAREL",
          "APPAREL",
          "APPAREL",
          "APPAREL",
          "APPAREL",
          "APPAREL",
          "APPAREL",
          "APPAREL",
          "APPAREL",
          "APPAREL",
          "APPAREL",
          "APPAREL",
          "APPAREL",
          "APPAREL",
          "APPAREL",
          "APPAREL",
          "APPAREL",
          "APPAREL",
          "APPAREL",
          "APPAREL",
          "APPAREL",
          "APPAREL",
          "APPAREL",
          "APPAREL",
          "APPAREL",
          "APPAREL",
          "APPAREL",
          "APPAREL",
          "APPAREL",
          "APPAREL",
          "APPAREL",
          "APPAREL",
          "APPAREL",
          "APPAREL",
          "APPAREL",
          "APPAREL",
          "APPAREL",
          "APPAREL",
          "APPAREL",
          "APPAREL",
          "APPAREL",
          "APPAREL",
          "APPAREL",
          "APPAREL",
          "APPAREL",
          "APPAREL",
          "APPAREL",
          "APPAREL",
          "APPAREL",
          "APPAREL",
          "APPAREL",
          "APPAREL",
          "APPAREL",
          "APPAREL",
          "APPAREL",
          "APPAREL",
          "APPAREL",
          "APPAREL",
          "APPAREL",
          "APPAREL",
          "APPAREL",
          "APPAREL",
          "APPAREL",
          "APPAREL",
          "APPAREL",
          "APPAREL",
          "APPAREL",
          "APPAREL",
          "APPAREL",
          "APPAREL",
          "APPAREL",
          "APPAREL",
          "APPAREL",
          "APPAREL",
          "APPAREL",
          "APPAREL",
          "APPAREL",
          "APPAREL",
          "APPAREL",
          "APPAREL",
          "APPAREL",
          "APPAREL",
          "APPAREL",
          "APPAREL",
          "APPAREL",
          "APPAREL",
          "APPAREL",
          "APPAREL",
          "APPAREL",
          "APPAREL",
          "APPAREL",
          "ENGINEERING",
          "ENGINEERING",
          "ENGINEERING",
          "ENGINEERING",
          "ENGINEERING",
          "ENGINEERING",
          "ENGINEERING",
          "ENGINEERING",
          "ENGINEERING",
          "ENGINEERING",
          "ENGINEERING",
          "ENGINEERING",
          "ENGINEERING",
          "ENGINEERING",
          "ENGINEERING",
          "ENGINEERING",
          "ENGINEERING",
          "ENGINEERING",
          "ENGINEERING",
          "ENGINEERING",
          "ENGINEERING",
          "ENGINEERING",
          "ENGINEERING",
          "ENGINEERING",
          "ENGINEERING",
          "ENGINEERING",
          "ENGINEERING",
          "ENGINEERING",
          "ENGINEERING",
          "ENGINEERING",
          "ENGINEERING",
          "ENGINEERING",
          "ENGINEERING",
          "ENGINEERING",
          "ENGINEERING",
          "ENGINEERING",
          "ENGINEERING",
          "ENGINEERING",
          "ENGINEERING",
          "ENGINEERING",
          "ENGINEERING",
          "ENGINEERING",
          "ENGINEERING",
          "ENGINEERING",
          "ENGINEERING",
          "ENGINEERING",
          "ENGINEERING",
          "ENGINEERING",
          "ENGINEERING",
          "ENGINEERING",
          "ENGINEERING",
          "ENGINEERING",
          "ENGINEERING",
          "ENGINEERING",
          "ENGINEERING",
          "ENGINEERING",
          "ENGINEERING",
          "ENGINEERING",
          "ENGINEERING",
          "ENGINEERING",
          "ENGINEERING",
          "ENGINEERING",
          "ENGINEERING",
          "ENGINEERING",
          "ENGINEERING",
          "ENGINEERING",
          "ENGINEERING",
          "ENGINEERING",
          "ENGINEERING",
          "ENGINEERING",
          "ENGINEERING",
          "ENGINEERING",
          "ENGINEERING",
          "ENGINEERING",
          "ENGINEERING",
          "ENGINEERING",
          "ENGINEERING",
          "ENGINEERING",
          "ENGINEERING",
          "ENGINEERING",
          "ENGINEERING",
          "ENGINEERING",
          "ENGINEERING",
          "ENGINEERING",
          "ENGINEERING",
          "ENGINEERING",
          "ENGINEERING",
          "ENGINEERING",
          "ENGINEERING",
          "ENGINEERING",
          "ENGINEERING",
          "ENGINEERING",
          "ENGINEERING",
          "ENGINEERING",
          "ENGINEERING",
          "ENGINEERING",
          "ENGINEERING",
          "ENGINEERING",
          "ENGINEERING",
          "ENGINEERING",
          "ENGINEERING",
          "ENGINEERING",
          "ENGINEERING",
          "ENGINEERING",
          "ENGINEERING",
          "ENGINEERING",
          "ENGINEERING",
          "ENGINEERING",
          "ENGINEERING",
          "ENGINEERING",
          "ENGINEERING",
          "ENGINEERING",
          "ENGINEERING",
          "ENGINEERING",
          "ENGINEERING",
          "ENGINEERING",
          "ENGINEERING",
          "ENGINEERING",
          "ACCOUNTANT",
          "ACCOUNTANT",
          "ACCOUNTANT",
          "ACCOUNTANT",
          "ACCOUNTANT",
          "ACCOUNTANT",
          "ACCOUNTANT",
          "ACCOUNTANT",
          "ACCOUNTANT",
          "ACCOUNTANT",
          "ACCOUNTANT",
          "ACCOUNTANT",
          "ACCOUNTANT",
          "ACCOUNTANT",
          "ACCOUNTANT",
          "ACCOUNTANT",
          "ACCOUNTANT",
          "ACCOUNTANT",
          "ACCOUNTANT",
          "ACCOUNTANT",
          "ACCOUNTANT",
          "ACCOUNTANT",
          "ACCOUNTANT",
          "ACCOUNTANT",
          "ACCOUNTANT",
          "ACCOUNTANT",
          "ACCOUNTANT",
          "ACCOUNTANT",
          "ACCOUNTANT",
          "ACCOUNTANT",
          "ACCOUNTANT",
          "ACCOUNTANT",
          "ACCOUNTANT",
          "ACCOUNTANT",
          "ACCOUNTANT",
          "ACCOUNTANT",
          "ACCOUNTANT",
          "ACCOUNTANT",
          "ACCOUNTANT",
          "ACCOUNTANT",
          "ACCOUNTANT",
          "ACCOUNTANT",
          "ACCOUNTANT",
          "ACCOUNTANT",
          "ACCOUNTANT",
          "ACCOUNTANT",
          "ACCOUNTANT",
          "ACCOUNTANT",
          "ACCOUNTANT",
          "ACCOUNTANT",
          "ACCOUNTANT",
          "ACCOUNTANT",
          "ACCOUNTANT",
          "ACCOUNTANT",
          "ACCOUNTANT",
          "ACCOUNTANT",
          "ACCOUNTANT",
          "ACCOUNTANT",
          "ACCOUNTANT",
          "ACCOUNTANT",
          "ACCOUNTANT",
          "ACCOUNTANT",
          "ACCOUNTANT",
          "ACCOUNTANT",
          "ACCOUNTANT",
          "ACCOUNTANT",
          "ACCOUNTANT",
          "ACCOUNTANT",
          "ACCOUNTANT",
          "ACCOUNTANT",
          "ACCOUNTANT",
          "ACCOUNTANT",
          "ACCOUNTANT",
          "ACCOUNTANT",
          "ACCOUNTANT",
          "ACCOUNTANT",
          "ACCOUNTANT",
          "ACCOUNTANT",
          "ACCOUNTANT",
          "ACCOUNTANT",
          "ACCOUNTANT",
          "ACCOUNTANT",
          "ACCOUNTANT",
          "ACCOUNTANT",
          "ACCOUNTANT",
          "ACCOUNTANT",
          "ACCOUNTANT",
          "ACCOUNTANT",
          "ACCOUNTANT",
          "ACCOUNTANT",
          "ACCOUNTANT",
          "ACCOUNTANT",
          "ACCOUNTANT",
          "ACCOUNTANT",
          "ACCOUNTANT",
          "ACCOUNTANT",
          "ACCOUNTANT",
          "ACCOUNTANT",
          "ACCOUNTANT",
          "ACCOUNTANT",
          "ACCOUNTANT",
          "ACCOUNTANT",
          "ACCOUNTANT",
          "ACCOUNTANT",
          "ACCOUNTANT",
          "ACCOUNTANT",
          "ACCOUNTANT",
          "ACCOUNTANT",
          "ACCOUNTANT",
          "ACCOUNTANT",
          "ACCOUNTANT",
          "ACCOUNTANT",
          "ACCOUNTANT",
          "ACCOUNTANT",
          "ACCOUNTANT",
          "ACCOUNTANT",
          "ACCOUNTANT",
          "ACCOUNTANT",
          "CONSTRUCTION",
          "CONSTRUCTION",
          "CONSTRUCTION",
          "CONSTRUCTION",
          "CONSTRUCTION",
          "CONSTRUCTION",
          "CONSTRUCTION",
          "CONSTRUCTION",
          "CONSTRUCTION",
          "CONSTRUCTION",
          "CONSTRUCTION",
          "CONSTRUCTION",
          "CONSTRUCTION",
          "CONSTRUCTION",
          "CONSTRUCTION",
          "CONSTRUCTION",
          "CONSTRUCTION",
          "CONSTRUCTION",
          "CONSTRUCTION",
          "CONSTRUCTION",
          "CONSTRUCTION",
          "CONSTRUCTION",
          "CONSTRUCTION",
          "CONSTRUCTION",
          "CONSTRUCTION",
          "CONSTRUCTION",
          "CONSTRUCTION",
          "CONSTRUCTION",
          "CONSTRUCTION",
          "CONSTRUCTION",
          "CONSTRUCTION",
          "CONSTRUCTION",
          "CONSTRUCTION",
          "CONSTRUCTION",
          "CONSTRUCTION",
          "CONSTRUCTION",
          "CONSTRUCTION",
          "CONSTRUCTION",
          "CONSTRUCTION",
          "CONSTRUCTION",
          "CONSTRUCTION",
          "CONSTRUCTION",
          "CONSTRUCTION",
          "CONSTRUCTION",
          "CONSTRUCTION",
          "CONSTRUCTION",
          "CONSTRUCTION",
          "CONSTRUCTION",
          "CONSTRUCTION",
          "CONSTRUCTION",
          "CONSTRUCTION",
          "CONSTRUCTION",
          "CONSTRUCTION",
          "CONSTRUCTION",
          "CONSTRUCTION",
          "CONSTRUCTION",
          "CONSTRUCTION",
          "CONSTRUCTION",
          "CONSTRUCTION",
          "CONSTRUCTION",
          "CONSTRUCTION",
          "CONSTRUCTION",
          "CONSTRUCTION",
          "CONSTRUCTION",
          "CONSTRUCTION",
          "CONSTRUCTION",
          "CONSTRUCTION",
          "CONSTRUCTION",
          "CONSTRUCTION",
          "CONSTRUCTION",
          "CONSTRUCTION",
          "CONSTRUCTION",
          "CONSTRUCTION",
          "CONSTRUCTION",
          "CONSTRUCTION",
          "CONSTRUCTION",
          "CONSTRUCTION",
          "CONSTRUCTION",
          "CONSTRUCTION",
          "CONSTRUCTION",
          "CONSTRUCTION",
          "CONSTRUCTION",
          "CONSTRUCTION",
          "CONSTRUCTION",
          "CONSTRUCTION",
          "CONSTRUCTION",
          "CONSTRUCTION",
          "CONSTRUCTION",
          "CONSTRUCTION",
          "CONSTRUCTION",
          "CONSTRUCTION",
          "CONSTRUCTION",
          "CONSTRUCTION",
          "CONSTRUCTION",
          "CONSTRUCTION",
          "CONSTRUCTION",
          "CONSTRUCTION",
          "CONSTRUCTION",
          "CONSTRUCTION",
          "CONSTRUCTION",
          "CONSTRUCTION",
          "CONSTRUCTION",
          "CONSTRUCTION",
          "CONSTRUCTION",
          "CONSTRUCTION",
          "CONSTRUCTION",
          "CONSTRUCTION",
          "CONSTRUCTION",
          "CONSTRUCTION",
          "CONSTRUCTION",
          "CONSTRUCTION",
          "CONSTRUCTION",
          "PUBLIC-RELATIONS",
          "PUBLIC-RELATIONS",
          "PUBLIC-RELATIONS",
          "PUBLIC-RELATIONS",
          "PUBLIC-RELATIONS",
          "PUBLIC-RELATIONS",
          "PUBLIC-RELATIONS",
          "PUBLIC-RELATIONS",
          "PUBLIC-RELATIONS",
          "PUBLIC-RELATIONS",
          "PUBLIC-RELATIONS",
          "PUBLIC-RELATIONS",
          "PUBLIC-RELATIONS",
          "PUBLIC-RELATIONS",
          "PUBLIC-RELATIONS",
          "PUBLIC-RELATIONS",
          "PUBLIC-RELATIONS",
          "PUBLIC-RELATIONS",
          "PUBLIC-RELATIONS",
          "PUBLIC-RELATIONS",
          "PUBLIC-RELATIONS",
          "PUBLIC-RELATIONS",
          "PUBLIC-RELATIONS",
          "PUBLIC-RELATIONS",
          "PUBLIC-RELATIONS",
          "PUBLIC-RELATIONS",
          "PUBLIC-RELATIONS",
          "PUBLIC-RELATIONS",
          "PUBLIC-RELATIONS",
          "PUBLIC-RELATIONS",
          "PUBLIC-RELATIONS",
          "PUBLIC-RELATIONS",
          "PUBLIC-RELATIONS",
          "PUBLIC-RELATIONS",
          "PUBLIC-RELATIONS",
          "PUBLIC-RELATIONS",
          "PUBLIC-RELATIONS",
          "PUBLIC-RELATIONS",
          "PUBLIC-RELATIONS",
          "PUBLIC-RELATIONS",
          "PUBLIC-RELATIONS",
          "PUBLIC-RELATIONS",
          "PUBLIC-RELATIONS",
          "PUBLIC-RELATIONS",
          "PUBLIC-RELATIONS",
          "PUBLIC-RELATIONS",
          "PUBLIC-RELATIONS",
          "PUBLIC-RELATIONS",
          "PUBLIC-RELATIONS",
          "PUBLIC-RELATIONS",
          "PUBLIC-RELATIONS",
          "PUBLIC-RELATIONS",
          "PUBLIC-RELATIONS",
          "PUBLIC-RELATIONS",
          "PUBLIC-RELATIONS",
          "PUBLIC-RELATIONS",
          "PUBLIC-RELATIONS",
          "PUBLIC-RELATIONS",
          "PUBLIC-RELATIONS",
          "PUBLIC-RELATIONS",
          "PUBLIC-RELATIONS",
          "PUBLIC-RELATIONS",
          "PUBLIC-RELATIONS",
          "PUBLIC-RELATIONS",
          "PUBLIC-RELATIONS",
          "PUBLIC-RELATIONS",
          "PUBLIC-RELATIONS",
          "PUBLIC-RELATIONS",
          "PUBLIC-RELATIONS",
          "PUBLIC-RELATIONS",
          "PUBLIC-RELATIONS",
          "PUBLIC-RELATIONS",
          "PUBLIC-RELATIONS",
          "PUBLIC-RELATIONS",
          "PUBLIC-RELATIONS",
          "PUBLIC-RELATIONS",
          "PUBLIC-RELATIONS",
          "PUBLIC-RELATIONS",
          "PUBLIC-RELATIONS",
          "PUBLIC-RELATIONS",
          "PUBLIC-RELATIONS",
          "PUBLIC-RELATIONS",
          "PUBLIC-RELATIONS",
          "PUBLIC-RELATIONS",
          "PUBLIC-RELATIONS",
          "PUBLIC-RELATIONS",
          "PUBLIC-RELATIONS",
          "PUBLIC-RELATIONS",
          "PUBLIC-RELATIONS",
          "PUBLIC-RELATIONS",
          "PUBLIC-RELATIONS",
          "PUBLIC-RELATIONS",
          "PUBLIC-RELATIONS",
          "PUBLIC-RELATIONS",
          "PUBLIC-RELATIONS",
          "PUBLIC-RELATIONS",
          "PUBLIC-RELATIONS",
          "PUBLIC-RELATIONS",
          "PUBLIC-RELATIONS",
          "PUBLIC-RELATIONS",
          "PUBLIC-RELATIONS",
          "PUBLIC-RELATIONS",
          "PUBLIC-RELATIONS",
          "PUBLIC-RELATIONS",
          "PUBLIC-RELATIONS",
          "PUBLIC-RELATIONS",
          "PUBLIC-RELATIONS",
          "PUBLIC-RELATIONS",
          "PUBLIC-RELATIONS",
          "PUBLIC-RELATIONS",
          "PUBLIC-RELATIONS",
          "BANKING",
          "BANKING",
          "BANKING",
          "BANKING",
          "BANKING",
          "BANKING",
          "BANKING",
          "BANKING",
          "BANKING",
          "BANKING",
          "BANKING",
          "BANKING",
          "BANKING",
          "BANKING",
          "BANKING",
          "BANKING",
          "BANKING",
          "BANKING",
          "BANKING",
          "BANKING",
          "BANKING",
          "BANKING",
          "BANKING",
          "BANKING",
          "BANKING",
          "BANKING",
          "BANKING",
          "BANKING",
          "BANKING",
          "BANKING",
          "BANKING",
          "BANKING",
          "BANKING",
          "BANKING",
          "BANKING",
          "BANKING",
          "BANKING",
          "BANKING",
          "BANKING",
          "BANKING",
          "BANKING",
          "BANKING",
          "BANKING",
          "BANKING",
          "BANKING",
          "BANKING",
          "BANKING",
          "BANKING",
          "BANKING",
          "BANKING",
          "BANKING",
          "BANKING",
          "BANKING",
          "BANKING",
          "BANKING",
          "BANKING",
          "BANKING",
          "BANKING",
          "BANKING",
          "BANKING",
          "BANKING",
          "BANKING",
          "BANKING",
          "BANKING",
          "BANKING",
          "BANKING",
          "BANKING",
          "BANKING",
          "BANKING",
          "BANKING",
          "BANKING",
          "BANKING",
          "BANKING",
          "BANKING",
          "BANKING",
          "BANKING",
          "BANKING",
          "BANKING",
          "BANKING",
          "BANKING",
          "BANKING",
          "BANKING",
          "BANKING",
          "BANKING",
          "BANKING",
          "BANKING",
          "BANKING",
          "BANKING",
          "BANKING",
          "BANKING",
          "BANKING",
          "BANKING",
          "BANKING",
          "BANKING",
          "BANKING",
          "BANKING",
          "BANKING",
          "BANKING",
          "BANKING",
          "BANKING",
          "BANKING",
          "BANKING",
          "BANKING",
          "BANKING",
          "BANKING",
          "BANKING",
          "BANKING",
          "BANKING",
          "BANKING",
          "BANKING",
          "BANKING",
          "BANKING",
          "BANKING",
          "BANKING",
          "BANKING",
          "ARTS",
          "ARTS",
          "ARTS",
          "ARTS",
          "ARTS",
          "ARTS",
          "ARTS",
          "ARTS",
          "ARTS",
          "ARTS",
          "ARTS",
          "ARTS",
          "ARTS",
          "ARTS",
          "ARTS",
          "ARTS",
          "ARTS",
          "ARTS",
          "ARTS",
          "ARTS",
          "ARTS",
          "ARTS",
          "ARTS",
          "ARTS",
          "ARTS",
          "ARTS",
          "ARTS",
          "ARTS",
          "ARTS",
          "ARTS",
          "ARTS",
          "ARTS",
          "ARTS",
          "ARTS",
          "ARTS",
          "ARTS",
          "ARTS",
          "ARTS",
          "ARTS",
          "ARTS",
          "ARTS",
          "ARTS",
          "ARTS",
          "ARTS",
          "ARTS",
          "ARTS",
          "ARTS",
          "ARTS",
          "ARTS",
          "ARTS",
          "ARTS",
          "ARTS",
          "ARTS",
          "ARTS",
          "ARTS",
          "ARTS",
          "ARTS",
          "ARTS",
          "ARTS",
          "ARTS",
          "ARTS",
          "ARTS",
          "ARTS",
          "ARTS",
          "ARTS",
          "ARTS",
          "ARTS",
          "ARTS",
          "ARTS",
          "ARTS",
          "ARTS",
          "ARTS",
          "ARTS",
          "ARTS",
          "ARTS",
          "ARTS",
          "ARTS",
          "ARTS",
          "ARTS",
          "ARTS",
          "ARTS",
          "ARTS",
          "ARTS",
          "ARTS",
          "ARTS",
          "ARTS",
          "ARTS",
          "ARTS",
          "ARTS",
          "ARTS",
          "ARTS",
          "ARTS",
          "ARTS",
          "ARTS",
          "ARTS",
          "ARTS",
          "ARTS",
          "ARTS",
          "ARTS",
          "ARTS",
          "ARTS",
          "ARTS",
          "ARTS",
          "AVIATION",
          "AVIATION",
          "AVIATION",
          "AVIATION",
          "AVIATION",
          "AVIATION",
          "AVIATION",
          "AVIATION",
          "AVIATION",
          "AVIATION",
          "AVIATION",
          "AVIATION",
          "AVIATION",
          "AVIATION",
          "AVIATION",
          "AVIATION",
          "AVIATION",
          "AVIATION",
          "AVIATION",
          "AVIATION",
          "AVIATION",
          "AVIATION",
          "AVIATION",
          "AVIATION",
          "AVIATION",
          "AVIATION",
          "AVIATION",
          "AVIATION",
          "AVIATION",
          "AVIATION",
          "AVIATION",
          "AVIATION",
          "AVIATION",
          "AVIATION",
          "AVIATION",
          "AVIATION",
          "AVIATION",
          "AVIATION",
          "AVIATION",
          "AVIATION",
          "AVIATION",
          "AVIATION",
          "AVIATION",
          "AVIATION",
          "AVIATION",
          "AVIATION",
          "AVIATION",
          "AVIATION",
          "AVIATION",
          "AVIATION",
          "AVIATION",
          "AVIATION",
          "AVIATION",
          "AVIATION",
          "AVIATION",
          "AVIATION",
          "AVIATION",
          "AVIATION",
          "AVIATION",
          "AVIATION",
          "AVIATION",
          "AVIATION",
          "AVIATION",
          "AVIATION",
          "AVIATION",
          "AVIATION",
          "AVIATION",
          "AVIATION",
          "AVIATION",
          "AVIATION",
          "AVIATION",
          "AVIATION",
          "AVIATION",
          "AVIATION",
          "AVIATION",
          "AVIATION",
          "AVIATION",
          "AVIATION",
          "AVIATION",
          "AVIATION",
          "AVIATION",
          "AVIATION",
          "AVIATION",
          "AVIATION",
          "AVIATION",
          "AVIATION",
          "AVIATION",
          "AVIATION",
          "AVIATION",
          "AVIATION",
          "AVIATION",
          "AVIATION",
          "AVIATION",
          "AVIATION",
          "AVIATION",
          "AVIATION",
          "AVIATION",
          "AVIATION",
          "AVIATION",
          "AVIATION",
          "AVIATION",
          "AVIATION",
          "AVIATION",
          "AVIATION",
          "AVIATION",
          "AVIATION",
          "AVIATION",
          "AVIATION",
          "AVIATION",
          "AVIATION",
          "AVIATION",
          "AVIATION",
          "AVIATION",
          "AVIATION",
          "AVIATION",
          "AVIATION",
          "AVIATION"
         ],
         "legendgroup": "",
         "name": "",
         "showlegend": true,
         "textinfo": "percent+label",
         "type": "pie"
        }
       ],
       "layout": {
        "legend": {
         "tracegroupgap": 0
        },
        "margin": {
         "t": 60
        },
        "template": {
         "data": {
          "bar": [
           {
            "error_x": {
             "color": "#2a3f5f"
            },
            "error_y": {
             "color": "#2a3f5f"
            },
            "marker": {
             "line": {
              "color": "#E5ECF6",
              "width": 0.5
             },
             "pattern": {
              "fillmode": "overlay",
              "size": 10,
              "solidity": 0.2
             }
            },
            "type": "bar"
           }
          ],
          "barpolar": [
           {
            "marker": {
             "line": {
              "color": "#E5ECF6",
              "width": 0.5
             },
             "pattern": {
              "fillmode": "overlay",
              "size": 10,
              "solidity": 0.2
             }
            },
            "type": "barpolar"
           }
          ],
          "carpet": [
           {
            "aaxis": {
             "endlinecolor": "#2a3f5f",
             "gridcolor": "white",
             "linecolor": "white",
             "minorgridcolor": "white",
             "startlinecolor": "#2a3f5f"
            },
            "baxis": {
             "endlinecolor": "#2a3f5f",
             "gridcolor": "white",
             "linecolor": "white",
             "minorgridcolor": "white",
             "startlinecolor": "#2a3f5f"
            },
            "type": "carpet"
           }
          ],
          "choropleth": [
           {
            "colorbar": {
             "outlinewidth": 0,
             "ticks": ""
            },
            "type": "choropleth"
           }
          ],
          "contour": [
           {
            "colorbar": {
             "outlinewidth": 0,
             "ticks": ""
            },
            "colorscale": [
             [
              0,
              "#0d0887"
             ],
             [
              0.1111111111111111,
              "#46039f"
             ],
             [
              0.2222222222222222,
              "#7201a8"
             ],
             [
              0.3333333333333333,
              "#9c179e"
             ],
             [
              0.4444444444444444,
              "#bd3786"
             ],
             [
              0.5555555555555556,
              "#d8576b"
             ],
             [
              0.6666666666666666,
              "#ed7953"
             ],
             [
              0.7777777777777778,
              "#fb9f3a"
             ],
             [
              0.8888888888888888,
              "#fdca26"
             ],
             [
              1,
              "#f0f921"
             ]
            ],
            "type": "contour"
           }
          ],
          "contourcarpet": [
           {
            "colorbar": {
             "outlinewidth": 0,
             "ticks": ""
            },
            "type": "contourcarpet"
           }
          ],
          "heatmap": [
           {
            "colorbar": {
             "outlinewidth": 0,
             "ticks": ""
            },
            "colorscale": [
             [
              0,
              "#0d0887"
             ],
             [
              0.1111111111111111,
              "#46039f"
             ],
             [
              0.2222222222222222,
              "#7201a8"
             ],
             [
              0.3333333333333333,
              "#9c179e"
             ],
             [
              0.4444444444444444,
              "#bd3786"
             ],
             [
              0.5555555555555556,
              "#d8576b"
             ],
             [
              0.6666666666666666,
              "#ed7953"
             ],
             [
              0.7777777777777778,
              "#fb9f3a"
             ],
             [
              0.8888888888888888,
              "#fdca26"
             ],
             [
              1,
              "#f0f921"
             ]
            ],
            "type": "heatmap"
           }
          ],
          "heatmapgl": [
           {
            "colorbar": {
             "outlinewidth": 0,
             "ticks": ""
            },
            "colorscale": [
             [
              0,
              "#0d0887"
             ],
             [
              0.1111111111111111,
              "#46039f"
             ],
             [
              0.2222222222222222,
              "#7201a8"
             ],
             [
              0.3333333333333333,
              "#9c179e"
             ],
             [
              0.4444444444444444,
              "#bd3786"
             ],
             [
              0.5555555555555556,
              "#d8576b"
             ],
             [
              0.6666666666666666,
              "#ed7953"
             ],
             [
              0.7777777777777778,
              "#fb9f3a"
             ],
             [
              0.8888888888888888,
              "#fdca26"
             ],
             [
              1,
              "#f0f921"
             ]
            ],
            "type": "heatmapgl"
           }
          ],
          "histogram": [
           {
            "marker": {
             "pattern": {
              "fillmode": "overlay",
              "size": 10,
              "solidity": 0.2
             }
            },
            "type": "histogram"
           }
          ],
          "histogram2d": [
           {
            "colorbar": {
             "outlinewidth": 0,
             "ticks": ""
            },
            "colorscale": [
             [
              0,
              "#0d0887"
             ],
             [
              0.1111111111111111,
              "#46039f"
             ],
             [
              0.2222222222222222,
              "#7201a8"
             ],
             [
              0.3333333333333333,
              "#9c179e"
             ],
             [
              0.4444444444444444,
              "#bd3786"
             ],
             [
              0.5555555555555556,
              "#d8576b"
             ],
             [
              0.6666666666666666,
              "#ed7953"
             ],
             [
              0.7777777777777778,
              "#fb9f3a"
             ],
             [
              0.8888888888888888,
              "#fdca26"
             ],
             [
              1,
              "#f0f921"
             ]
            ],
            "type": "histogram2d"
           }
          ],
          "histogram2dcontour": [
           {
            "colorbar": {
             "outlinewidth": 0,
             "ticks": ""
            },
            "colorscale": [
             [
              0,
              "#0d0887"
             ],
             [
              0.1111111111111111,
              "#46039f"
             ],
             [
              0.2222222222222222,
              "#7201a8"
             ],
             [
              0.3333333333333333,
              "#9c179e"
             ],
             [
              0.4444444444444444,
              "#bd3786"
             ],
             [
              0.5555555555555556,
              "#d8576b"
             ],
             [
              0.6666666666666666,
              "#ed7953"
             ],
             [
              0.7777777777777778,
              "#fb9f3a"
             ],
             [
              0.8888888888888888,
              "#fdca26"
             ],
             [
              1,
              "#f0f921"
             ]
            ],
            "type": "histogram2dcontour"
           }
          ],
          "mesh3d": [
           {
            "colorbar": {
             "outlinewidth": 0,
             "ticks": ""
            },
            "type": "mesh3d"
           }
          ],
          "parcoords": [
           {
            "line": {
             "colorbar": {
              "outlinewidth": 0,
              "ticks": ""
             }
            },
            "type": "parcoords"
           }
          ],
          "pie": [
           {
            "automargin": true,
            "type": "pie"
           }
          ],
          "scatter": [
           {
            "fillpattern": {
             "fillmode": "overlay",
             "size": 10,
             "solidity": 0.2
            },
            "type": "scatter"
           }
          ],
          "scatter3d": [
           {
            "line": {
             "colorbar": {
              "outlinewidth": 0,
              "ticks": ""
             }
            },
            "marker": {
             "colorbar": {
              "outlinewidth": 0,
              "ticks": ""
             }
            },
            "type": "scatter3d"
           }
          ],
          "scattercarpet": [
           {
            "marker": {
             "colorbar": {
              "outlinewidth": 0,
              "ticks": ""
             }
            },
            "type": "scattercarpet"
           }
          ],
          "scattergeo": [
           {
            "marker": {
             "colorbar": {
              "outlinewidth": 0,
              "ticks": ""
             }
            },
            "type": "scattergeo"
           }
          ],
          "scattergl": [
           {
            "marker": {
             "colorbar": {
              "outlinewidth": 0,
              "ticks": ""
             }
            },
            "type": "scattergl"
           }
          ],
          "scattermapbox": [
           {
            "marker": {
             "colorbar": {
              "outlinewidth": 0,
              "ticks": ""
             }
            },
            "type": "scattermapbox"
           }
          ],
          "scatterpolar": [
           {
            "marker": {
             "colorbar": {
              "outlinewidth": 0,
              "ticks": ""
             }
            },
            "type": "scatterpolar"
           }
          ],
          "scatterpolargl": [
           {
            "marker": {
             "colorbar": {
              "outlinewidth": 0,
              "ticks": ""
             }
            },
            "type": "scatterpolargl"
           }
          ],
          "scatterternary": [
           {
            "marker": {
             "colorbar": {
              "outlinewidth": 0,
              "ticks": ""
             }
            },
            "type": "scatterternary"
           }
          ],
          "surface": [
           {
            "colorbar": {
             "outlinewidth": 0,
             "ticks": ""
            },
            "colorscale": [
             [
              0,
              "#0d0887"
             ],
             [
              0.1111111111111111,
              "#46039f"
             ],
             [
              0.2222222222222222,
              "#7201a8"
             ],
             [
              0.3333333333333333,
              "#9c179e"
             ],
             [
              0.4444444444444444,
              "#bd3786"
             ],
             [
              0.5555555555555556,
              "#d8576b"
             ],
             [
              0.6666666666666666,
              "#ed7953"
             ],
             [
              0.7777777777777778,
              "#fb9f3a"
             ],
             [
              0.8888888888888888,
              "#fdca26"
             ],
             [
              1,
              "#f0f921"
             ]
            ],
            "type": "surface"
           }
          ],
          "table": [
           {
            "cells": {
             "fill": {
              "color": "#EBF0F8"
             },
             "line": {
              "color": "white"
             }
            },
            "header": {
             "fill": {
              "color": "#C8D4E3"
             },
             "line": {
              "color": "white"
             }
            },
            "type": "table"
           }
          ]
         },
         "layout": {
          "annotationdefaults": {
           "arrowcolor": "#2a3f5f",
           "arrowhead": 0,
           "arrowwidth": 1
          },
          "autotypenumbers": "strict",
          "coloraxis": {
           "colorbar": {
            "outlinewidth": 0,
            "ticks": ""
           }
          },
          "colorscale": {
           "diverging": [
            [
             0,
             "#8e0152"
            ],
            [
             0.1,
             "#c51b7d"
            ],
            [
             0.2,
             "#de77ae"
            ],
            [
             0.3,
             "#f1b6da"
            ],
            [
             0.4,
             "#fde0ef"
            ],
            [
             0.5,
             "#f7f7f7"
            ],
            [
             0.6,
             "#e6f5d0"
            ],
            [
             0.7,
             "#b8e186"
            ],
            [
             0.8,
             "#7fbc41"
            ],
            [
             0.9,
             "#4d9221"
            ],
            [
             1,
             "#276419"
            ]
           ],
           "sequential": [
            [
             0,
             "#0d0887"
            ],
            [
             0.1111111111111111,
             "#46039f"
            ],
            [
             0.2222222222222222,
             "#7201a8"
            ],
            [
             0.3333333333333333,
             "#9c179e"
            ],
            [
             0.4444444444444444,
             "#bd3786"
            ],
            [
             0.5555555555555556,
             "#d8576b"
            ],
            [
             0.6666666666666666,
             "#ed7953"
            ],
            [
             0.7777777777777778,
             "#fb9f3a"
            ],
            [
             0.8888888888888888,
             "#fdca26"
            ],
            [
             1,
             "#f0f921"
            ]
           ],
           "sequentialminus": [
            [
             0,
             "#0d0887"
            ],
            [
             0.1111111111111111,
             "#46039f"
            ],
            [
             0.2222222222222222,
             "#7201a8"
            ],
            [
             0.3333333333333333,
             "#9c179e"
            ],
            [
             0.4444444444444444,
             "#bd3786"
            ],
            [
             0.5555555555555556,
             "#d8576b"
            ],
            [
             0.6666666666666666,
             "#ed7953"
            ],
            [
             0.7777777777777778,
             "#fb9f3a"
            ],
            [
             0.8888888888888888,
             "#fdca26"
            ],
            [
             1,
             "#f0f921"
            ]
           ]
          },
          "colorway": [
           "#636efa",
           "#EF553B",
           "#00cc96",
           "#ab63fa",
           "#FFA15A",
           "#19d3f3",
           "#FF6692",
           "#B6E880",
           "#FF97FF",
           "#FECB52"
          ],
          "font": {
           "color": "#2a3f5f"
          },
          "geo": {
           "bgcolor": "white",
           "lakecolor": "white",
           "landcolor": "#E5ECF6",
           "showlakes": true,
           "showland": true,
           "subunitcolor": "white"
          },
          "hoverlabel": {
           "align": "left"
          },
          "hovermode": "closest",
          "mapbox": {
           "style": "light"
          },
          "paper_bgcolor": "white",
          "plot_bgcolor": "#E5ECF6",
          "polar": {
           "angularaxis": {
            "gridcolor": "white",
            "linecolor": "white",
            "ticks": ""
           },
           "bgcolor": "#E5ECF6",
           "radialaxis": {
            "gridcolor": "white",
            "linecolor": "white",
            "ticks": ""
           }
          },
          "scene": {
           "xaxis": {
            "backgroundcolor": "#E5ECF6",
            "gridcolor": "white",
            "gridwidth": 2,
            "linecolor": "white",
            "showbackground": true,
            "ticks": "",
            "zerolinecolor": "white"
           },
           "yaxis": {
            "backgroundcolor": "#E5ECF6",
            "gridcolor": "white",
            "gridwidth": 2,
            "linecolor": "white",
            "showbackground": true,
            "ticks": "",
            "zerolinecolor": "white"
           },
           "zaxis": {
            "backgroundcolor": "#E5ECF6",
            "gridcolor": "white",
            "gridwidth": 2,
            "linecolor": "white",
            "showbackground": true,
            "ticks": "",
            "zerolinecolor": "white"
           }
          },
          "shapedefaults": {
           "line": {
            "color": "#2a3f5f"
           }
          },
          "ternary": {
           "aaxis": {
            "gridcolor": "white",
            "linecolor": "white",
            "ticks": ""
           },
           "baxis": {
            "gridcolor": "white",
            "linecolor": "white",
            "ticks": ""
           },
           "bgcolor": "#E5ECF6",
           "caxis": {
            "gridcolor": "white",
            "linecolor": "white",
            "ticks": ""
           }
          },
          "title": {
           "x": 0.05
          },
          "xaxis": {
           "automargin": true,
           "gridcolor": "white",
           "linecolor": "white",
           "ticks": "",
           "title": {
            "standoff": 15
           },
           "zerolinecolor": "white",
           "zerolinewidth": 2
          },
          "yaxis": {
           "automargin": true,
           "gridcolor": "white",
           "linecolor": "white",
           "ticks": "",
           "title": {
            "standoff": 15
           },
           "zerolinecolor": "white",
           "zerolinewidth": 2
          }
         }
        }
       }
      }
     },
     "metadata": {},
     "output_type": "display_data"
    }
   ],
   "source": [
    "fig = px.pie(df, names='Category')\n",
    "fig.update_traces(textinfo = 'percent+label')\n",
    "fig.show()"
   ]
  },
  {
   "cell_type": "code",
   "execution_count": 26,
   "metadata": {},
   "outputs": [
    {
     "data": {
      "text/plain": [
       "Category\n",
       "HR                        120\n",
       "DESIGNER                  120\n",
       "ARTS                      120\n",
       "BANKING                   120\n",
       "PUBLIC-RELATIONS          120\n",
       "CONSTRUCTION              120\n",
       "ACCOUNTANT                120\n",
       "ENGINEERING               120\n",
       "APPAREL                   120\n",
       "FINANCE                   120\n",
       "CHEF                      120\n",
       "AUTOMOBILE                120\n",
       "DIGITAL-MEDIA             120\n",
       "CONSULTANT                120\n",
       "SALES                     120\n",
       "BPO                       120\n",
       "AGRICULTURE               120\n",
       "FITNESS                   120\n",
       "HEALTHCARE                120\n",
       "BUSINESS-DEVELOPMENT      120\n",
       "ADVOCATE                  120\n",
       "TEACHER                   120\n",
       "INFORMATION-TECHNOLOGY    120\n",
       "AVIATION                  120\n",
       "Name: count, dtype: int64"
      ]
     },
     "execution_count": 26,
     "metadata": {},
     "output_type": "execute_result"
    }
   ],
   "source": [
    "from sklearn.utils import resample\n",
    "\n",
    "max_count = df['Category'].value_counts().max()\n",
    "\n",
    "balanced_data = []\n",
    "for category in df['Category'].unique():\n",
    "    category_data = df[df['Category']==category]\n",
    "    if len(category_data)<max_count:\n",
    "        balanced_category_data = resample(category_data, replace=True, n_samples=max_count, random_state=42)\n",
    "    else:\n",
    "        balanced_category_data = resample(category_data, replace=False, n_samples=max_count, random_state=42)\n",
    "    balanced_data.append(balanced_category_data)\n",
    "    \n",
    "    \n",
    "balanced_data = pd.concat(balanced_data)\n",
    "balanced_data['Category'].value_counts()"
   ]
  },
  {
   "cell_type": "markdown",
   "metadata": {},
   "source": [
    "## Vectorizing Data"
   ]
  },
  {
   "cell_type": "code",
   "execution_count": null,
   "metadata": {},
   "outputs": [],
   "source": [
    "from sklearn.feature_extraction.text import TfidfVectorizer\n",
    "from sklearn.preprocessing import LabelEncoder\n",
    "from collections import Counter\n",
    "\n",
    "X = balanced_data['Feature']\n",
    "y = balanced_data['Category']\n",
    "\n",
    "\n",
    "vectorizer = TfidfVectorizer()\n",
    "X_vectorized = vectorizer.fit_transform(X)\n",
    "\n",
    "encoder = LabelEncoder()\n",
    "y_labeled = encoder.fit_transform(y)\n"
   ]
  },
  {
   "cell_type": "code",
   "execution_count": 44,
   "metadata": {},
   "outputs": [
    {
     "data": {
      "text/plain": [
       "{0: 'ACCOUNTANT',\n",
       " 1: 'ADVOCATE',\n",
       " 2: 'AGRICULTURE',\n",
       " 3: 'APPAREL',\n",
       " 4: 'ARTS',\n",
       " 5: 'AUTOMOBILE',\n",
       " 6: 'AVIATION',\n",
       " 7: 'BANKING',\n",
       " 8: 'BPO',\n",
       " 9: 'BUSINESS-DEVELOPMENT',\n",
       " 10: 'CHEF',\n",
       " 11: 'CONSTRUCTION',\n",
       " 12: 'CONSULTANT',\n",
       " 13: 'DESIGNER',\n",
       " 14: 'DIGITAL-MEDIA',\n",
       " 15: 'ENGINEERING',\n",
       " 16: 'FINANCE',\n",
       " 17: 'FITNESS',\n",
       " 18: 'HEALTHCARE',\n",
       " 19: 'HR',\n",
       " 20: 'INFORMATION-TECHNOLOGY',\n",
       " 21: 'PUBLIC-RELATIONS',\n",
       " 22: 'SALES',\n",
       " 23: 'TEACHER'}"
      ]
     },
     "execution_count": 44,
     "metadata": {},
     "output_type": "execute_result"
    }
   ],
   "source": [
    "labels = {int(encoded): original for encoded, original in zip(encoder.transform(encoder.classes_), encoder.classes_)}\n",
    "labels"
   ]
  },
  {
   "cell_type": "code",
   "execution_count": 46,
   "metadata": {},
   "outputs": [
    {
     "name": "stdout",
     "output_type": "stream",
     "text": [
      "Accuracy score:  0.8506944444444444\n"
     ]
    }
   ],
   "source": [
    "from sklearn.ensemble import RandomForestClassifier\n",
    "from sklearn.model_selection import train_test_split\n",
    "from sklearn.metrics import accuracy_score\n",
    "\n",
    "\n",
    "X_train, X_test, y_train, y_test = train_test_split(X_vectorized,y_labeled, test_size=0.2, random_state=42)\n",
    "\n",
    "model = RandomForestClassifier(random_state=42)\n",
    "model.fit(X_train, y_train)\n",
    "\n",
    "\n",
    "y_pred = model.predict(X_test)\n",
    "print('Accuracy score: ', accuracy_score(y_test, y_pred))"
   ]
  },
  {
   "cell_type": "code",
   "execution_count": 31,
   "metadata": {},
   "outputs": [
    {
     "name": "stdout",
     "output_type": "stream",
     "text": [
      "Classification Report: \n",
      "               precision    recall  f1-score   support\n",
      "\n",
      "           0       0.79      0.95      0.86        20\n",
      "           1       0.84      0.72      0.78        29\n",
      "           2       0.95      0.91      0.93        23\n",
      "           3       0.69      0.82      0.75        22\n",
      "           4       1.00      0.62      0.77        24\n",
      "           5       1.00      0.68      0.81        19\n",
      "           6       0.97      1.00      0.98        28\n",
      "           7       0.87      0.59      0.70        22\n",
      "           8       1.00      1.00      1.00        15\n",
      "           9       0.71      0.94      0.81        18\n",
      "          10       0.82      0.96      0.89        28\n",
      "          11       0.92      0.96      0.94        25\n",
      "          12       1.00      0.71      0.83        31\n",
      "          13       0.92      0.79      0.85        28\n",
      "          14       0.95      0.90      0.93        21\n",
      "          15       0.85      0.96      0.90        23\n",
      "          16       0.80      0.76      0.78        21\n",
      "          17       0.91      0.91      0.91        22\n",
      "          18       0.79      0.90      0.84        29\n",
      "          19       0.76      0.90      0.83        21\n",
      "          20       0.67      0.87      0.75        23\n",
      "          21       0.88      0.88      0.88        24\n",
      "          22       0.86      0.70      0.78        27\n",
      "          23       0.80      1.00      0.89        33\n",
      "\n",
      "    accuracy                           0.85       576\n",
      "   macro avg       0.86      0.85      0.85       576\n",
      "weighted avg       0.86      0.85      0.85       576\n",
      "\n"
     ]
    }
   ],
   "source": [
    "from sklearn.metrics import classification_report\n",
    "\n",
    "report_classification = classification_report(y_test, y_pred)\n",
    "print('Classification Report: \\n', report_classification)"
   ]
  },
  {
   "cell_type": "code",
   "execution_count": 41,
   "metadata": {},
   "outputs": [
    {
     "data": {
      "image/png": "[encoded data removed]",
      "text/plain": [
       "<Figure size 2000x1000 with 2 Axes>"
      ]
     },
     "metadata": {},
     "output_type": "display_data"
    }
   ],
   "source": [
    "from sklearn.metrics import confusion_matrix\n",
    "\n",
    "conf_matrix = confusion_matrix(y_test, y_pred)\n",
    "plt.figure(figsize=(20,10))\n",
    "sns.heatmap(conf_matrix, annot=True, xticklabels=encoder.classes_, yticklabels=encoder.classes_, cmap='Blues')\n",
    "plt.show()"
   ]
  },
  {
   "cell_type": "markdown",
   "metadata": {},
   "source": [
    "## Dumping the files"
   ]
  },
  {
   "cell_type": "code",
   "execution_count": 49,
   "metadata": {},
   "outputs": [],
   "source": [
    "# Dumping the pickle files\n",
    "import pickle\n",
    "import os\n",
    "import json\n",
    "\n",
    "artifacts_path = '../artifacts/categorization'\n",
    "os.makedirs(artifacts_path, exist_ok=True)\n",
    "vectorizer_path = os.path.join(artifacts_path, 'vectorizer.pkl')\n",
    "\n",
    "with open(vectorizer_path, 'wb') as file:\n",
    "    pickle.dump(vectorizer, file)\n",
    "\n",
    "# Dumping the label encoder\n",
    "encoder_path = os.path.join(artifacts_path, 'encoder.pkl')\n",
    "with open(encoder_path, 'wb') as file:\n",
    "    pickle.dump(encoder, file) \n",
    "\n",
    "labels_path = os.path.join(artifacts_path, 'labels.json')\n",
    "with open(labels_path, 'w') as file:\n",
    "    json.dump(labels, file)\n",
    "\n",
    "model_path = os.path.join(artifacts_path, 'model.pkl')\n",
    "with open(model_path, 'wb') as file:\n",
    "    pickle.dump(model, file)"
   ]
  },
  {
   "cell_type": "code",
   "execution_count": 42,
   "metadata": {},
   "outputs": [
    {
     "name": "stderr",
     "output_type": "stream",
     "text": [
      "c:\\Users\\latha\\AppData\\Local\\Programs\\Python\\Python311\\Lib\\site-packages\\sklearn\\ensemble\\_weight_boosting.py:527: FutureWarning:\n",
      "\n",
      "The SAMME.R algorithm (the default) is deprecated and will be removed in 1.6. Use the SAMME algorithm to circumvent this warning.\n",
      "\n",
      "c:\\Users\\latha\\AppData\\Local\\Programs\\Python\\Python311\\Lib\\site-packages\\sklearn\\ensemble\\_weight_boosting.py:527: FutureWarning:\n",
      "\n",
      "The SAMME.R algorithm (the default) is deprecated and will be removed in 1.6. Use the SAMME algorithm to circumvent this warning.\n",
      "\n",
      "c:\\Users\\latha\\AppData\\Local\\Programs\\Python\\Python311\\Lib\\site-packages\\sklearn\\ensemble\\_weight_boosting.py:527: FutureWarning:\n",
      "\n",
      "The SAMME.R algorithm (the default) is deprecated and will be removed in 1.6. Use the SAMME algorithm to circumvent this warning.\n",
      "\n",
      "c:\\Users\\latha\\AppData\\Local\\Programs\\Python\\Python311\\Lib\\site-packages\\sklearn\\ensemble\\_weight_boosting.py:527: FutureWarning:\n",
      "\n",
      "The SAMME.R algorithm (the default) is deprecated and will be removed in 1.6. Use the SAMME algorithm to circumvent this warning.\n",
      "\n",
      "c:\\Users\\latha\\AppData\\Local\\Programs\\Python\\Python311\\Lib\\site-packages\\sklearn\\ensemble\\_weight_boosting.py:527: FutureWarning:\n",
      "\n",
      "The SAMME.R algorithm (the default) is deprecated and will be removed in 1.6. Use the SAMME algorithm to circumvent this warning.\n",
      "\n",
      "c:\\Users\\latha\\AppData\\Local\\Programs\\Python\\Python311\\Lib\\site-packages\\sklearn\\ensemble\\_weight_boosting.py:527: FutureWarning:\n",
      "\n",
      "The SAMME.R algorithm (the default) is deprecated and will be removed in 1.6. Use the SAMME algorithm to circumvent this warning.\n",
      "\n",
      "c:\\Users\\latha\\AppData\\Local\\Programs\\Python\\Python311\\Lib\\site-packages\\sklearn\\ensemble\\_weight_boosting.py:527: FutureWarning:\n",
      "\n",
      "The SAMME.R algorithm (the default) is deprecated and will be removed in 1.6. Use the SAMME algorithm to circumvent this warning.\n",
      "\n",
      "c:\\Users\\latha\\AppData\\Local\\Programs\\Python\\Python311\\Lib\\site-packages\\sklearn\\ensemble\\_weight_boosting.py:527: FutureWarning:\n",
      "\n",
      "The SAMME.R algorithm (the default) is deprecated and will be removed in 1.6. Use the SAMME algorithm to circumvent this warning.\n",
      "\n",
      "c:\\Users\\latha\\AppData\\Local\\Programs\\Python\\Python311\\Lib\\site-packages\\sklearn\\ensemble\\_weight_boosting.py:527: FutureWarning:\n",
      "\n",
      "The SAMME.R algorithm (the default) is deprecated and will be removed in 1.6. Use the SAMME algorithm to circumvent this warning.\n",
      "\n",
      "c:\\Users\\latha\\AppData\\Local\\Programs\\Python\\Python311\\Lib\\site-packages\\sklearn\\ensemble\\_weight_boosting.py:527: FutureWarning:\n",
      "\n",
      "The SAMME.R algorithm (the default) is deprecated and will be removed in 1.6. Use the SAMME algorithm to circumvent this warning.\n",
      "\n",
      "c:\\Users\\latha\\AppData\\Local\\Programs\\Python\\Python311\\Lib\\site-packages\\sklearn\\ensemble\\_weight_boosting.py:527: FutureWarning:\n",
      "\n",
      "The SAMME.R algorithm (the default) is deprecated and will be removed in 1.6. Use the SAMME algorithm to circumvent this warning.\n",
      "\n",
      "c:\\Users\\latha\\AppData\\Local\\Programs\\Python\\Python311\\Lib\\site-packages\\sklearn\\ensemble\\_weight_boosting.py:527: FutureWarning:\n",
      "\n",
      "The SAMME.R algorithm (the default) is deprecated and will be removed in 1.6. Use the SAMME algorithm to circumvent this warning.\n",
      "\n",
      "c:\\Users\\latha\\AppData\\Local\\Programs\\Python\\Python311\\Lib\\site-packages\\sklearn\\ensemble\\_weight_boosting.py:527: FutureWarning:\n",
      "\n",
      "The SAMME.R algorithm (the default) is deprecated and will be removed in 1.6. Use the SAMME algorithm to circumvent this warning.\n",
      "\n",
      "c:\\Users\\latha\\AppData\\Local\\Programs\\Python\\Python311\\Lib\\site-packages\\sklearn\\ensemble\\_weight_boosting.py:527: FutureWarning:\n",
      "\n",
      "The SAMME.R algorithm (the default) is deprecated and will be removed in 1.6. Use the SAMME algorithm to circumvent this warning.\n",
      "\n",
      "c:\\Users\\latha\\AppData\\Local\\Programs\\Python\\Python311\\Lib\\site-packages\\sklearn\\ensemble\\_weight_boosting.py:527: FutureWarning:\n",
      "\n",
      "The SAMME.R algorithm (the default) is deprecated and will be removed in 1.6. Use the SAMME algorithm to circumvent this warning.\n",
      "\n",
      "c:\\Users\\latha\\AppData\\Local\\Programs\\Python\\Python311\\Lib\\site-packages\\sklearn\\ensemble\\_weight_boosting.py:527: FutureWarning:\n",
      "\n",
      "The SAMME.R algorithm (the default) is deprecated and will be removed in 1.6. Use the SAMME algorithm to circumvent this warning.\n",
      "\n",
      "c:\\Users\\latha\\AppData\\Local\\Programs\\Python\\Python311\\Lib\\site-packages\\sklearn\\ensemble\\_weight_boosting.py:527: FutureWarning:\n",
      "\n",
      "The SAMME.R algorithm (the default) is deprecated and will be removed in 1.6. Use the SAMME algorithm to circumvent this warning.\n",
      "\n",
      "c:\\Users\\latha\\AppData\\Local\\Programs\\Python\\Python311\\Lib\\site-packages\\sklearn\\ensemble\\_weight_boosting.py:527: FutureWarning:\n",
      "\n",
      "The SAMME.R algorithm (the default) is deprecated and will be removed in 1.6. Use the SAMME algorithm to circumvent this warning.\n",
      "\n",
      "c:\\Users\\latha\\AppData\\Local\\Programs\\Python\\Python311\\Lib\\site-packages\\sklearn\\ensemble\\_weight_boosting.py:527: FutureWarning:\n",
      "\n",
      "The SAMME.R algorithm (the default) is deprecated and will be removed in 1.6. Use the SAMME algorithm to circumvent this warning.\n",
      "\n",
      "c:\\Users\\latha\\AppData\\Local\\Programs\\Python\\Python311\\Lib\\site-packages\\sklearn\\ensemble\\_weight_boosting.py:527: FutureWarning:\n",
      "\n",
      "The SAMME.R algorithm (the default) is deprecated and will be removed in 1.6. Use the SAMME algorithm to circumvent this warning.\n",
      "\n",
      "c:\\Users\\latha\\AppData\\Local\\Programs\\Python\\Python311\\Lib\\site-packages\\sklearn\\ensemble\\_weight_boosting.py:527: FutureWarning:\n",
      "\n",
      "The SAMME.R algorithm (the default) is deprecated and will be removed in 1.6. Use the SAMME algorithm to circumvent this warning.\n",
      "\n",
      "c:\\Users\\latha\\AppData\\Local\\Programs\\Python\\Python311\\Lib\\site-packages\\sklearn\\ensemble\\_weight_boosting.py:527: FutureWarning:\n",
      "\n",
      "The SAMME.R algorithm (the default) is deprecated and will be removed in 1.6. Use the SAMME algorithm to circumvent this warning.\n",
      "\n",
      "c:\\Users\\latha\\AppData\\Local\\Programs\\Python\\Python311\\Lib\\site-packages\\sklearn\\ensemble\\_weight_boosting.py:527: FutureWarning:\n",
      "\n",
      "The SAMME.R algorithm (the default) is deprecated and will be removed in 1.6. Use the SAMME algorithm to circumvent this warning.\n",
      "\n",
      "c:\\Users\\latha\\AppData\\Local\\Programs\\Python\\Python311\\Lib\\site-packages\\sklearn\\ensemble\\_weight_boosting.py:527: FutureWarning:\n",
      "\n",
      "The SAMME.R algorithm (the default) is deprecated and will be removed in 1.6. Use the SAMME algorithm to circumvent this warning.\n",
      "\n",
      "c:\\Users\\latha\\AppData\\Local\\Programs\\Python\\Python311\\Lib\\site-packages\\sklearn\\ensemble\\_weight_boosting.py:527: FutureWarning:\n",
      "\n",
      "The SAMME.R algorithm (the default) is deprecated and will be removed in 1.6. Use the SAMME algorithm to circumvent this warning.\n",
      "\n",
      "c:\\Users\\latha\\AppData\\Local\\Programs\\Python\\Python311\\Lib\\site-packages\\sklearn\\ensemble\\_weight_boosting.py:527: FutureWarning:\n",
      "\n",
      "The SAMME.R algorithm (the default) is deprecated and will be removed in 1.6. Use the SAMME algorithm to circumvent this warning.\n",
      "\n",
      "c:\\Users\\latha\\AppData\\Local\\Programs\\Python\\Python311\\Lib\\site-packages\\sklearn\\ensemble\\_weight_boosting.py:527: FutureWarning:\n",
      "\n",
      "The SAMME.R algorithm (the default) is deprecated and will be removed in 1.6. Use the SAMME algorithm to circumvent this warning.\n",
      "\n",
      "c:\\Users\\latha\\AppData\\Local\\Programs\\Python\\Python311\\Lib\\site-packages\\sklearn\\ensemble\\_weight_boosting.py:527: FutureWarning:\n",
      "\n",
      "The SAMME.R algorithm (the default) is deprecated and will be removed in 1.6. Use the SAMME algorithm to circumvent this warning.\n",
      "\n",
      "c:\\Users\\latha\\AppData\\Local\\Programs\\Python\\Python311\\Lib\\site-packages\\sklearn\\ensemble\\_weight_boosting.py:527: FutureWarning:\n",
      "\n",
      "The SAMME.R algorithm (the default) is deprecated and will be removed in 1.6. Use the SAMME algorithm to circumvent this warning.\n",
      "\n",
      "c:\\Users\\latha\\AppData\\Local\\Programs\\Python\\Python311\\Lib\\site-packages\\sklearn\\ensemble\\_weight_boosting.py:527: FutureWarning:\n",
      "\n",
      "The SAMME.R algorithm (the default) is deprecated and will be removed in 1.6. Use the SAMME algorithm to circumvent this warning.\n",
      "\n",
      "c:\\Users\\latha\\AppData\\Local\\Programs\\Python\\Python311\\Lib\\site-packages\\sklearn\\ensemble\\_weight_boosting.py:527: FutureWarning:\n",
      "\n",
      "The SAMME.R algorithm (the default) is deprecated and will be removed in 1.6. Use the SAMME algorithm to circumvent this warning.\n",
      "\n",
      "c:\\Users\\latha\\AppData\\Local\\Programs\\Python\\Python311\\Lib\\site-packages\\sklearn\\ensemble\\_weight_boosting.py:527: FutureWarning:\n",
      "\n",
      "The SAMME.R algorithm (the default) is deprecated and will be removed in 1.6. Use the SAMME algorithm to circumvent this warning.\n",
      "\n",
      "c:\\Users\\latha\\AppData\\Local\\Programs\\Python\\Python311\\Lib\\site-packages\\sklearn\\ensemble\\_weight_boosting.py:527: FutureWarning:\n",
      "\n",
      "The SAMME.R algorithm (the default) is deprecated and will be removed in 1.6. Use the SAMME algorithm to circumvent this warning.\n",
      "\n",
      "c:\\Users\\latha\\AppData\\Local\\Programs\\Python\\Python311\\Lib\\site-packages\\sklearn\\ensemble\\_weight_boosting.py:527: FutureWarning:\n",
      "\n",
      "The SAMME.R algorithm (the default) is deprecated and will be removed in 1.6. Use the SAMME algorithm to circumvent this warning.\n",
      "\n",
      "c:\\Users\\latha\\AppData\\Local\\Programs\\Python\\Python311\\Lib\\site-packages\\sklearn\\ensemble\\_weight_boosting.py:527: FutureWarning:\n",
      "\n",
      "The SAMME.R algorithm (the default) is deprecated and will be removed in 1.6. Use the SAMME algorithm to circumvent this warning.\n",
      "\n",
      "c:\\Users\\latha\\AppData\\Local\\Programs\\Python\\Python311\\Lib\\site-packages\\sklearn\\ensemble\\_weight_boosting.py:527: FutureWarning:\n",
      "\n",
      "The SAMME.R algorithm (the default) is deprecated and will be removed in 1.6. Use the SAMME algorithm to circumvent this warning.\n",
      "\n",
      "c:\\Users\\latha\\AppData\\Local\\Programs\\Python\\Python311\\Lib\\site-packages\\sklearn\\ensemble\\_weight_boosting.py:527: FutureWarning:\n",
      "\n",
      "The SAMME.R algorithm (the default) is deprecated and will be removed in 1.6. Use the SAMME algorithm to circumvent this warning.\n",
      "\n",
      "c:\\Users\\latha\\AppData\\Local\\Programs\\Python\\Python311\\Lib\\site-packages\\sklearn\\ensemble\\_weight_boosting.py:527: FutureWarning:\n",
      "\n",
      "The SAMME.R algorithm (the default) is deprecated and will be removed in 1.6. Use the SAMME algorithm to circumvent this warning.\n",
      "\n",
      "c:\\Users\\latha\\AppData\\Local\\Programs\\Python\\Python311\\Lib\\site-packages\\sklearn\\ensemble\\_weight_boosting.py:527: FutureWarning:\n",
      "\n",
      "The SAMME.R algorithm (the default) is deprecated and will be removed in 1.6. Use the SAMME algorithm to circumvent this warning.\n",
      "\n",
      "c:\\Users\\latha\\AppData\\Local\\Programs\\Python\\Python311\\Lib\\site-packages\\sklearn\\ensemble\\_weight_boosting.py:527: FutureWarning:\n",
      "\n",
      "The SAMME.R algorithm (the default) is deprecated and will be removed in 1.6. Use the SAMME algorithm to circumvent this warning.\n",
      "\n",
      "c:\\Users\\latha\\AppData\\Local\\Programs\\Python\\Python311\\Lib\\site-packages\\sklearn\\ensemble\\_weight_boosting.py:527: FutureWarning:\n",
      "\n",
      "The SAMME.R algorithm (the default) is deprecated and will be removed in 1.6. Use the SAMME algorithm to circumvent this warning.\n",
      "\n",
      "c:\\Users\\latha\\AppData\\Local\\Programs\\Python\\Python311\\Lib\\site-packages\\sklearn\\ensemble\\_weight_boosting.py:527: FutureWarning:\n",
      "\n",
      "The SAMME.R algorithm (the default) is deprecated and will be removed in 1.6. Use the SAMME algorithm to circumvent this warning.\n",
      "\n",
      "c:\\Users\\latha\\AppData\\Local\\Programs\\Python\\Python311\\Lib\\site-packages\\sklearn\\ensemble\\_weight_boosting.py:527: FutureWarning:\n",
      "\n",
      "The SAMME.R algorithm (the default) is deprecated and will be removed in 1.6. Use the SAMME algorithm to circumvent this warning.\n",
      "\n",
      "c:\\Users\\latha\\AppData\\Local\\Programs\\Python\\Python311\\Lib\\site-packages\\sklearn\\ensemble\\_weight_boosting.py:527: FutureWarning:\n",
      "\n",
      "The SAMME.R algorithm (the default) is deprecated and will be removed in 1.6. Use the SAMME algorithm to circumvent this warning.\n",
      "\n",
      "c:\\Users\\latha\\AppData\\Local\\Programs\\Python\\Python311\\Lib\\site-packages\\sklearn\\ensemble\\_weight_boosting.py:527: FutureWarning:\n",
      "\n",
      "The SAMME.R algorithm (the default) is deprecated and will be removed in 1.6. Use the SAMME algorithm to circumvent this warning.\n",
      "\n",
      "c:\\Users\\latha\\AppData\\Local\\Programs\\Python\\Python311\\Lib\\site-packages\\sklearn\\ensemble\\_weight_boosting.py:527: FutureWarning:\n",
      "\n",
      "The SAMME.R algorithm (the default) is deprecated and will be removed in 1.6. Use the SAMME algorithm to circumvent this warning.\n",
      "\n",
      "c:\\Users\\latha\\AppData\\Local\\Programs\\Python\\Python311\\Lib\\site-packages\\sklearn\\ensemble\\_weight_boosting.py:527: FutureWarning:\n",
      "\n",
      "The SAMME.R algorithm (the default) is deprecated and will be removed in 1.6. Use the SAMME algorithm to circumvent this warning.\n",
      "\n",
      "c:\\Users\\latha\\AppData\\Local\\Programs\\Python\\Python311\\Lib\\site-packages\\sklearn\\ensemble\\_weight_boosting.py:527: FutureWarning:\n",
      "\n",
      "The SAMME.R algorithm (the default) is deprecated and will be removed in 1.6. Use the SAMME algorithm to circumvent this warning.\n",
      "\n",
      "c:\\Users\\latha\\AppData\\Local\\Programs\\Python\\Python311\\Lib\\site-packages\\sklearn\\ensemble\\_weight_boosting.py:527: FutureWarning:\n",
      "\n",
      "The SAMME.R algorithm (the default) is deprecated and will be removed in 1.6. Use the SAMME algorithm to circumvent this warning.\n",
      "\n",
      "c:\\Users\\latha\\AppData\\Local\\Programs\\Python\\Python311\\Lib\\site-packages\\sklearn\\ensemble\\_weight_boosting.py:527: FutureWarning:\n",
      "\n",
      "The SAMME.R algorithm (the default) is deprecated and will be removed in 1.6. Use the SAMME algorithm to circumvent this warning.\n",
      "\n",
      "c:\\Users\\latha\\AppData\\Local\\Programs\\Python\\Python311\\Lib\\site-packages\\sklearn\\ensemble\\_weight_boosting.py:527: FutureWarning:\n",
      "\n",
      "The SAMME.R algorithm (the default) is deprecated and will be removed in 1.6. Use the SAMME algorithm to circumvent this warning.\n",
      "\n",
      "c:\\Users\\latha\\AppData\\Local\\Programs\\Python\\Python311\\Lib\\site-packages\\sklearn\\ensemble\\_weight_boosting.py:527: FutureWarning:\n",
      "\n",
      "The SAMME.R algorithm (the default) is deprecated and will be removed in 1.6. Use the SAMME algorithm to circumvent this warning.\n",
      "\n",
      "c:\\Users\\latha\\AppData\\Local\\Programs\\Python\\Python311\\Lib\\site-packages\\sklearn\\ensemble\\_weight_boosting.py:527: FutureWarning:\n",
      "\n",
      "The SAMME.R algorithm (the default) is deprecated and will be removed in 1.6. Use the SAMME algorithm to circumvent this warning.\n",
      "\n",
      "c:\\Users\\latha\\AppData\\Local\\Programs\\Python\\Python311\\Lib\\site-packages\\sklearn\\ensemble\\_weight_boosting.py:527: FutureWarning:\n",
      "\n",
      "The SAMME.R algorithm (the default) is deprecated and will be removed in 1.6. Use the SAMME algorithm to circumvent this warning.\n",
      "\n",
      "c:\\Users\\latha\\AppData\\Local\\Programs\\Python\\Python311\\Lib\\site-packages\\sklearn\\ensemble\\_weight_boosting.py:527: FutureWarning:\n",
      "\n",
      "The SAMME.R algorithm (the default) is deprecated and will be removed in 1.6. Use the SAMME algorithm to circumvent this warning.\n",
      "\n",
      "c:\\Users\\latha\\AppData\\Local\\Programs\\Python\\Python311\\Lib\\site-packages\\sklearn\\ensemble\\_weight_boosting.py:527: FutureWarning:\n",
      "\n",
      "The SAMME.R algorithm (the default) is deprecated and will be removed in 1.6. Use the SAMME algorithm to circumvent this warning.\n",
      "\n",
      "c:\\Users\\latha\\AppData\\Local\\Programs\\Python\\Python311\\Lib\\site-packages\\sklearn\\ensemble\\_weight_boosting.py:527: FutureWarning:\n",
      "\n",
      "The SAMME.R algorithm (the default) is deprecated and will be removed in 1.6. Use the SAMME algorithm to circumvent this warning.\n",
      "\n",
      "c:\\Users\\latha\\AppData\\Local\\Programs\\Python\\Python311\\Lib\\site-packages\\sklearn\\ensemble\\_weight_boosting.py:527: FutureWarning:\n",
      "\n",
      "The SAMME.R algorithm (the default) is deprecated and will be removed in 1.6. Use the SAMME algorithm to circumvent this warning.\n",
      "\n",
      "c:\\Users\\latha\\AppData\\Local\\Programs\\Python\\Python311\\Lib\\site-packages\\sklearn\\ensemble\\_weight_boosting.py:527: FutureWarning:\n",
      "\n",
      "The SAMME.R algorithm (the default) is deprecated and will be removed in 1.6. Use the SAMME algorithm to circumvent this warning.\n",
      "\n",
      "c:\\Users\\latha\\AppData\\Local\\Programs\\Python\\Python311\\Lib\\site-packages\\sklearn\\ensemble\\_weight_boosting.py:527: FutureWarning:\n",
      "\n",
      "The SAMME.R algorithm (the default) is deprecated and will be removed in 1.6. Use the SAMME algorithm to circumvent this warning.\n",
      "\n",
      "c:\\Users\\latha\\AppData\\Local\\Programs\\Python\\Python311\\Lib\\site-packages\\sklearn\\ensemble\\_weight_boosting.py:527: FutureWarning:\n",
      "\n",
      "The SAMME.R algorithm (the default) is deprecated and will be removed in 1.6. Use the SAMME algorithm to circumvent this warning.\n",
      "\n",
      "c:\\Users\\latha\\AppData\\Local\\Programs\\Python\\Python311\\Lib\\site-packages\\sklearn\\ensemble\\_weight_boosting.py:527: FutureWarning:\n",
      "\n",
      "The SAMME.R algorithm (the default) is deprecated and will be removed in 1.6. Use the SAMME algorithm to circumvent this warning.\n",
      "\n",
      "c:\\Users\\latha\\AppData\\Local\\Programs\\Python\\Python311\\Lib\\site-packages\\sklearn\\ensemble\\_weight_boosting.py:527: FutureWarning:\n",
      "\n",
      "The SAMME.R algorithm (the default) is deprecated and will be removed in 1.6. Use the SAMME algorithm to circumvent this warning.\n",
      "\n",
      "c:\\Users\\latha\\AppData\\Local\\Programs\\Python\\Python311\\Lib\\site-packages\\sklearn\\ensemble\\_weight_boosting.py:527: FutureWarning:\n",
      "\n",
      "The SAMME.R algorithm (the default) is deprecated and will be removed in 1.6. Use the SAMME algorithm to circumvent this warning.\n",
      "\n",
      "c:\\Users\\latha\\AppData\\Local\\Programs\\Python\\Python311\\Lib\\site-packages\\sklearn\\ensemble\\_weight_boosting.py:527: FutureWarning:\n",
      "\n",
      "The SAMME.R algorithm (the default) is deprecated and will be removed in 1.6. Use the SAMME algorithm to circumvent this warning.\n",
      "\n",
      "c:\\Users\\latha\\AppData\\Local\\Programs\\Python\\Python311\\Lib\\site-packages\\sklearn\\ensemble\\_weight_boosting.py:527: FutureWarning:\n",
      "\n",
      "The SAMME.R algorithm (the default) is deprecated and will be removed in 1.6. Use the SAMME algorithm to circumvent this warning.\n",
      "\n",
      "c:\\Users\\latha\\AppData\\Local\\Programs\\Python\\Python311\\Lib\\site-packages\\sklearn\\ensemble\\_weight_boosting.py:527: FutureWarning:\n",
      "\n",
      "The SAMME.R algorithm (the default) is deprecated and will be removed in 1.6. Use the SAMME algorithm to circumvent this warning.\n",
      "\n",
      "c:\\Users\\latha\\AppData\\Local\\Programs\\Python\\Python311\\Lib\\site-packages\\sklearn\\ensemble\\_weight_boosting.py:527: FutureWarning:\n",
      "\n",
      "The SAMME.R algorithm (the default) is deprecated and will be removed in 1.6. Use the SAMME algorithm to circumvent this warning.\n",
      "\n",
      "c:\\Users\\latha\\AppData\\Local\\Programs\\Python\\Python311\\Lib\\site-packages\\sklearn\\ensemble\\_weight_boosting.py:527: FutureWarning:\n",
      "\n",
      "The SAMME.R algorithm (the default) is deprecated and will be removed in 1.6. Use the SAMME algorithm to circumvent this warning.\n",
      "\n",
      "c:\\Users\\latha\\AppData\\Local\\Programs\\Python\\Python311\\Lib\\site-packages\\sklearn\\ensemble\\_weight_boosting.py:527: FutureWarning:\n",
      "\n",
      "The SAMME.R algorithm (the default) is deprecated and will be removed in 1.6. Use the SAMME algorithm to circumvent this warning.\n",
      "\n",
      "c:\\Users\\latha\\AppData\\Local\\Programs\\Python\\Python311\\Lib\\site-packages\\sklearn\\ensemble\\_weight_boosting.py:527: FutureWarning:\n",
      "\n",
      "The SAMME.R algorithm (the default) is deprecated and will be removed in 1.6. Use the SAMME algorithm to circumvent this warning.\n",
      "\n",
      "c:\\Users\\latha\\AppData\\Local\\Programs\\Python\\Python311\\Lib\\site-packages\\sklearn\\ensemble\\_weight_boosting.py:527: FutureWarning:\n",
      "\n",
      "The SAMME.R algorithm (the default) is deprecated and will be removed in 1.6. Use the SAMME algorithm to circumvent this warning.\n",
      "\n",
      "c:\\Users\\latha\\AppData\\Local\\Programs\\Python\\Python311\\Lib\\site-packages\\sklearn\\ensemble\\_weight_boosting.py:527: FutureWarning:\n",
      "\n",
      "The SAMME.R algorithm (the default) is deprecated and will be removed in 1.6. Use the SAMME algorithm to circumvent this warning.\n",
      "\n",
      "c:\\Users\\latha\\AppData\\Local\\Programs\\Python\\Python311\\Lib\\site-packages\\sklearn\\ensemble\\_weight_boosting.py:527: FutureWarning:\n",
      "\n",
      "The SAMME.R algorithm (the default) is deprecated and will be removed in 1.6. Use the SAMME algorithm to circumvent this warning.\n",
      "\n",
      "c:\\Users\\latha\\AppData\\Local\\Programs\\Python\\Python311\\Lib\\site-packages\\sklearn\\ensemble\\_weight_boosting.py:527: FutureWarning:\n",
      "\n",
      "The SAMME.R algorithm (the default) is deprecated and will be removed in 1.6. Use the SAMME algorithm to circumvent this warning.\n",
      "\n",
      "c:\\Users\\latha\\AppData\\Local\\Programs\\Python\\Python311\\Lib\\site-packages\\sklearn\\ensemble\\_weight_boosting.py:527: FutureWarning:\n",
      "\n",
      "The SAMME.R algorithm (the default) is deprecated and will be removed in 1.6. Use the SAMME algorithm to circumvent this warning.\n",
      "\n",
      "c:\\Users\\latha\\AppData\\Local\\Programs\\Python\\Python311\\Lib\\site-packages\\sklearn\\ensemble\\_weight_boosting.py:527: FutureWarning:\n",
      "\n",
      "The SAMME.R algorithm (the default) is deprecated and will be removed in 1.6. Use the SAMME algorithm to circumvent this warning.\n",
      "\n",
      "c:\\Users\\latha\\AppData\\Local\\Programs\\Python\\Python311\\Lib\\site-packages\\sklearn\\ensemble\\_weight_boosting.py:527: FutureWarning:\n",
      "\n",
      "The SAMME.R algorithm (the default) is deprecated and will be removed in 1.6. Use the SAMME algorithm to circumvent this warning.\n",
      "\n",
      "c:\\Users\\latha\\AppData\\Local\\Programs\\Python\\Python311\\Lib\\site-packages\\sklearn\\ensemble\\_weight_boosting.py:527: FutureWarning:\n",
      "\n",
      "The SAMME.R algorithm (the default) is deprecated and will be removed in 1.6. Use the SAMME algorithm to circumvent this warning.\n",
      "\n",
      "c:\\Users\\latha\\AppData\\Local\\Programs\\Python\\Python311\\Lib\\site-packages\\sklearn\\ensemble\\_weight_boosting.py:527: FutureWarning:\n",
      "\n",
      "The SAMME.R algorithm (the default) is deprecated and will be removed in 1.6. Use the SAMME algorithm to circumvent this warning.\n",
      "\n",
      "c:\\Users\\latha\\AppData\\Local\\Programs\\Python\\Python311\\Lib\\site-packages\\sklearn\\ensemble\\_weight_boosting.py:527: FutureWarning:\n",
      "\n",
      "The SAMME.R algorithm (the default) is deprecated and will be removed in 1.6. Use the SAMME algorithm to circumvent this warning.\n",
      "\n",
      "c:\\Users\\latha\\AppData\\Local\\Programs\\Python\\Python311\\Lib\\site-packages\\sklearn\\ensemble\\_weight_boosting.py:527: FutureWarning:\n",
      "\n",
      "The SAMME.R algorithm (the default) is deprecated and will be removed in 1.6. Use the SAMME algorithm to circumvent this warning.\n",
      "\n",
      "c:\\Users\\latha\\AppData\\Local\\Programs\\Python\\Python311\\Lib\\site-packages\\sklearn\\ensemble\\_weight_boosting.py:527: FutureWarning:\n",
      "\n",
      "The SAMME.R algorithm (the default) is deprecated and will be removed in 1.6. Use the SAMME algorithm to circumvent this warning.\n",
      "\n",
      "c:\\Users\\latha\\AppData\\Local\\Programs\\Python\\Python311\\Lib\\site-packages\\sklearn\\ensemble\\_weight_boosting.py:527: FutureWarning:\n",
      "\n",
      "The SAMME.R algorithm (the default) is deprecated and will be removed in 1.6. Use the SAMME algorithm to circumvent this warning.\n",
      "\n",
      "c:\\Users\\latha\\AppData\\Local\\Programs\\Python\\Python311\\Lib\\site-packages\\sklearn\\ensemble\\_weight_boosting.py:527: FutureWarning:\n",
      "\n",
      "The SAMME.R algorithm (the default) is deprecated and will be removed in 1.6. Use the SAMME algorithm to circumvent this warning.\n",
      "\n",
      "c:\\Users\\latha\\AppData\\Local\\Programs\\Python\\Python311\\Lib\\site-packages\\sklearn\\ensemble\\_weight_boosting.py:527: FutureWarning:\n",
      "\n",
      "The SAMME.R algorithm (the default) is deprecated and will be removed in 1.6. Use the SAMME algorithm to circumvent this warning.\n",
      "\n",
      "c:\\Users\\latha\\AppData\\Local\\Programs\\Python\\Python311\\Lib\\site-packages\\sklearn\\ensemble\\_weight_boosting.py:527: FutureWarning:\n",
      "\n",
      "The SAMME.R algorithm (the default) is deprecated and will be removed in 1.6. Use the SAMME algorithm to circumvent this warning.\n",
      "\n",
      "c:\\Users\\latha\\AppData\\Local\\Programs\\Python\\Python311\\Lib\\site-packages\\sklearn\\ensemble\\_weight_boosting.py:527: FutureWarning:\n",
      "\n",
      "The SAMME.R algorithm (the default) is deprecated and will be removed in 1.6. Use the SAMME algorithm to circumvent this warning.\n",
      "\n",
      "c:\\Users\\latha\\AppData\\Local\\Programs\\Python\\Python311\\Lib\\site-packages\\sklearn\\ensemble\\_weight_boosting.py:527: FutureWarning:\n",
      "\n",
      "The SAMME.R algorithm (the default) is deprecated and will be removed in 1.6. Use the SAMME algorithm to circumvent this warning.\n",
      "\n",
      "c:\\Users\\latha\\AppData\\Local\\Programs\\Python\\Python311\\Lib\\site-packages\\sklearn\\ensemble\\_weight_boosting.py:527: FutureWarning:\n",
      "\n",
      "The SAMME.R algorithm (the default) is deprecated and will be removed in 1.6. Use the SAMME algorithm to circumvent this warning.\n",
      "\n",
      "c:\\Users\\latha\\AppData\\Local\\Programs\\Python\\Python311\\Lib\\site-packages\\sklearn\\ensemble\\_weight_boosting.py:527: FutureWarning:\n",
      "\n",
      "The SAMME.R algorithm (the default) is deprecated and will be removed in 1.6. Use the SAMME algorithm to circumvent this warning.\n",
      "\n",
      "c:\\Users\\latha\\AppData\\Local\\Programs\\Python\\Python311\\Lib\\site-packages\\sklearn\\ensemble\\_weight_boosting.py:527: FutureWarning:\n",
      "\n",
      "The SAMME.R algorithm (the default) is deprecated and will be removed in 1.6. Use the SAMME algorithm to circumvent this warning.\n",
      "\n",
      "c:\\Users\\latha\\AppData\\Local\\Programs\\Python\\Python311\\Lib\\site-packages\\sklearn\\ensemble\\_weight_boosting.py:527: FutureWarning:\n",
      "\n",
      "The SAMME.R algorithm (the default) is deprecated and will be removed in 1.6. Use the SAMME algorithm to circumvent this warning.\n",
      "\n",
      "c:\\Users\\latha\\AppData\\Local\\Programs\\Python\\Python311\\Lib\\site-packages\\sklearn\\ensemble\\_weight_boosting.py:527: FutureWarning:\n",
      "\n",
      "The SAMME.R algorithm (the default) is deprecated and will be removed in 1.6. Use the SAMME algorithm to circumvent this warning.\n",
      "\n",
      "c:\\Users\\latha\\AppData\\Local\\Programs\\Python\\Python311\\Lib\\site-packages\\sklearn\\ensemble\\_weight_boosting.py:527: FutureWarning:\n",
      "\n",
      "The SAMME.R algorithm (the default) is deprecated and will be removed in 1.6. Use the SAMME algorithm to circumvent this warning.\n",
      "\n",
      "c:\\Users\\latha\\AppData\\Local\\Programs\\Python\\Python311\\Lib\\site-packages\\sklearn\\ensemble\\_weight_boosting.py:527: FutureWarning:\n",
      "\n",
      "The SAMME.R algorithm (the default) is deprecated and will be removed in 1.6. Use the SAMME algorithm to circumvent this warning.\n",
      "\n",
      "c:\\Users\\latha\\AppData\\Local\\Programs\\Python\\Python311\\Lib\\site-packages\\sklearn\\ensemble\\_weight_boosting.py:527: FutureWarning:\n",
      "\n",
      "The SAMME.R algorithm (the default) is deprecated and will be removed in 1.6. Use the SAMME algorithm to circumvent this warning.\n",
      "\n",
      "c:\\Users\\latha\\AppData\\Local\\Programs\\Python\\Python311\\Lib\\site-packages\\sklearn\\ensemble\\_weight_boosting.py:527: FutureWarning:\n",
      "\n",
      "The SAMME.R algorithm (the default) is deprecated and will be removed in 1.6. Use the SAMME algorithm to circumvent this warning.\n",
      "\n",
      "c:\\Users\\latha\\AppData\\Local\\Programs\\Python\\Python311\\Lib\\site-packages\\sklearn\\ensemble\\_weight_boosting.py:527: FutureWarning:\n",
      "\n",
      "The SAMME.R algorithm (the default) is deprecated and will be removed in 1.6. Use the SAMME algorithm to circumvent this warning.\n",
      "\n",
      "c:\\Users\\latha\\AppData\\Local\\Programs\\Python\\Python311\\Lib\\site-packages\\sklearn\\ensemble\\_weight_boosting.py:527: FutureWarning:\n",
      "\n",
      "The SAMME.R algorithm (the default) is deprecated and will be removed in 1.6. Use the SAMME algorithm to circumvent this warning.\n",
      "\n",
      "c:\\Users\\latha\\AppData\\Local\\Programs\\Python\\Python311\\Lib\\site-packages\\sklearn\\ensemble\\_weight_boosting.py:527: FutureWarning:\n",
      "\n",
      "The SAMME.R algorithm (the default) is deprecated and will be removed in 1.6. Use the SAMME algorithm to circumvent this warning.\n",
      "\n",
      "c:\\Users\\latha\\AppData\\Local\\Programs\\Python\\Python311\\Lib\\site-packages\\sklearn\\ensemble\\_weight_boosting.py:527: FutureWarning:\n",
      "\n",
      "The SAMME.R algorithm (the default) is deprecated and will be removed in 1.6. Use the SAMME algorithm to circumvent this warning.\n",
      "\n",
      "c:\\Users\\latha\\AppData\\Local\\Programs\\Python\\Python311\\Lib\\site-packages\\sklearn\\ensemble\\_weight_boosting.py:527: FutureWarning:\n",
      "\n",
      "The SAMME.R algorithm (the default) is deprecated and will be removed in 1.6. Use the SAMME algorithm to circumvent this warning.\n",
      "\n",
      "c:\\Users\\latha\\AppData\\Local\\Programs\\Python\\Python311\\Lib\\site-packages\\sklearn\\ensemble\\_weight_boosting.py:527: FutureWarning:\n",
      "\n",
      "The SAMME.R algorithm (the default) is deprecated and will be removed in 1.6. Use the SAMME algorithm to circumvent this warning.\n",
      "\n",
      "c:\\Users\\latha\\AppData\\Local\\Programs\\Python\\Python311\\Lib\\site-packages\\sklearn\\ensemble\\_weight_boosting.py:527: FutureWarning:\n",
      "\n",
      "The SAMME.R algorithm (the default) is deprecated and will be removed in 1.6. Use the SAMME algorithm to circumvent this warning.\n",
      "\n",
      "c:\\Users\\latha\\AppData\\Local\\Programs\\Python\\Python311\\Lib\\site-packages\\sklearn\\ensemble\\_weight_boosting.py:527: FutureWarning:\n",
      "\n",
      "The SAMME.R algorithm (the default) is deprecated and will be removed in 1.6. Use the SAMME algorithm to circumvent this warning.\n",
      "\n",
      "c:\\Users\\latha\\AppData\\Local\\Programs\\Python\\Python311\\Lib\\site-packages\\sklearn\\ensemble\\_weight_boosting.py:527: FutureWarning:\n",
      "\n",
      "The SAMME.R algorithm (the default) is deprecated and will be removed in 1.6. Use the SAMME algorithm to circumvent this warning.\n",
      "\n",
      "c:\\Users\\latha\\AppData\\Local\\Programs\\Python\\Python311\\Lib\\site-packages\\sklearn\\ensemble\\_weight_boosting.py:527: FutureWarning:\n",
      "\n",
      "The SAMME.R algorithm (the default) is deprecated and will be removed in 1.6. Use the SAMME algorithm to circumvent this warning.\n",
      "\n",
      "c:\\Users\\latha\\AppData\\Local\\Programs\\Python\\Python311\\Lib\\site-packages\\sklearn\\ensemble\\_weight_boosting.py:527: FutureWarning:\n",
      "\n",
      "The SAMME.R algorithm (the default) is deprecated and will be removed in 1.6. Use the SAMME algorithm to circumvent this warning.\n",
      "\n",
      "c:\\Users\\latha\\AppData\\Local\\Programs\\Python\\Python311\\Lib\\site-packages\\sklearn\\ensemble\\_weight_boosting.py:527: FutureWarning:\n",
      "\n",
      "The SAMME.R algorithm (the default) is deprecated and will be removed in 1.6. Use the SAMME algorithm to circumvent this warning.\n",
      "\n",
      "c:\\Users\\latha\\AppData\\Local\\Programs\\Python\\Python311\\Lib\\site-packages\\sklearn\\ensemble\\_weight_boosting.py:527: FutureWarning:\n",
      "\n",
      "The SAMME.R algorithm (the default) is deprecated and will be removed in 1.6. Use the SAMME algorithm to circumvent this warning.\n",
      "\n",
      "c:\\Users\\latha\\AppData\\Local\\Programs\\Python\\Python311\\Lib\\site-packages\\sklearn\\ensemble\\_weight_boosting.py:527: FutureWarning:\n",
      "\n",
      "The SAMME.R algorithm (the default) is deprecated and will be removed in 1.6. Use the SAMME algorithm to circumvent this warning.\n",
      "\n",
      "c:\\Users\\latha\\AppData\\Local\\Programs\\Python\\Python311\\Lib\\site-packages\\sklearn\\ensemble\\_weight_boosting.py:527: FutureWarning:\n",
      "\n",
      "The SAMME.R algorithm (the default) is deprecated and will be removed in 1.6. Use the SAMME algorithm to circumvent this warning.\n",
      "\n",
      "c:\\Users\\latha\\AppData\\Local\\Programs\\Python\\Python311\\Lib\\site-packages\\sklearn\\ensemble\\_weight_boosting.py:527: FutureWarning:\n",
      "\n",
      "The SAMME.R algorithm (the default) is deprecated and will be removed in 1.6. Use the SAMME algorithm to circumvent this warning.\n",
      "\n",
      "c:\\Users\\latha\\AppData\\Local\\Programs\\Python\\Python311\\Lib\\site-packages\\sklearn\\ensemble\\_weight_boosting.py:527: FutureWarning:\n",
      "\n",
      "The SAMME.R algorithm (the default) is deprecated and will be removed in 1.6. Use the SAMME algorithm to circumvent this warning.\n",
      "\n",
      "c:\\Users\\latha\\AppData\\Local\\Programs\\Python\\Python311\\Lib\\site-packages\\sklearn\\ensemble\\_weight_boosting.py:527: FutureWarning:\n",
      "\n",
      "The SAMME.R algorithm (the default) is deprecated and will be removed in 1.6. Use the SAMME algorithm to circumvent this warning.\n",
      "\n",
      "c:\\Users\\latha\\AppData\\Local\\Programs\\Python\\Python311\\Lib\\site-packages\\sklearn\\ensemble\\_weight_boosting.py:527: FutureWarning:\n",
      "\n",
      "The SAMME.R algorithm (the default) is deprecated and will be removed in 1.6. Use the SAMME algorithm to circumvent this warning.\n",
      "\n",
      "c:\\Users\\latha\\AppData\\Local\\Programs\\Python\\Python311\\Lib\\site-packages\\sklearn\\ensemble\\_weight_boosting.py:527: FutureWarning:\n",
      "\n",
      "The SAMME.R algorithm (the default) is deprecated and will be removed in 1.6. Use the SAMME algorithm to circumvent this warning.\n",
      "\n",
      "c:\\Users\\latha\\AppData\\Local\\Programs\\Python\\Python311\\Lib\\site-packages\\sklearn\\ensemble\\_weight_boosting.py:527: FutureWarning:\n",
      "\n",
      "The SAMME.R algorithm (the default) is deprecated and will be removed in 1.6. Use the SAMME algorithm to circumvent this warning.\n",
      "\n",
      "c:\\Users\\latha\\AppData\\Local\\Programs\\Python\\Python311\\Lib\\site-packages\\sklearn\\ensemble\\_weight_boosting.py:527: FutureWarning:\n",
      "\n",
      "The SAMME.R algorithm (the default) is deprecated and will be removed in 1.6. Use the SAMME algorithm to circumvent this warning.\n",
      "\n",
      "c:\\Users\\latha\\AppData\\Local\\Programs\\Python\\Python311\\Lib\\site-packages\\sklearn\\ensemble\\_weight_boosting.py:527: FutureWarning:\n",
      "\n",
      "The SAMME.R algorithm (the default) is deprecated and will be removed in 1.6. Use the SAMME algorithm to circumvent this warning.\n",
      "\n",
      "c:\\Users\\latha\\AppData\\Local\\Programs\\Python\\Python311\\Lib\\site-packages\\sklearn\\ensemble\\_weight_boosting.py:527: FutureWarning:\n",
      "\n",
      "The SAMME.R algorithm (the default) is deprecated and will be removed in 1.6. Use the SAMME algorithm to circumvent this warning.\n",
      "\n",
      "c:\\Users\\latha\\AppData\\Local\\Programs\\Python\\Python311\\Lib\\site-packages\\sklearn\\ensemble\\_weight_boosting.py:527: FutureWarning:\n",
      "\n",
      "The SAMME.R algorithm (the default) is deprecated and will be removed in 1.6. Use the SAMME algorithm to circumvent this warning.\n",
      "\n",
      "c:\\Users\\latha\\AppData\\Local\\Programs\\Python\\Python311\\Lib\\site-packages\\sklearn\\ensemble\\_weight_boosting.py:527: FutureWarning:\n",
      "\n",
      "The SAMME.R algorithm (the default) is deprecated and will be removed in 1.6. Use the SAMME algorithm to circumvent this warning.\n",
      "\n",
      "c:\\Users\\latha\\AppData\\Local\\Programs\\Python\\Python311\\Lib\\site-packages\\sklearn\\ensemble\\_weight_boosting.py:527: FutureWarning:\n",
      "\n",
      "The SAMME.R algorithm (the default) is deprecated and will be removed in 1.6. Use the SAMME algorithm to circumvent this warning.\n",
      "\n",
      "c:\\Users\\latha\\AppData\\Local\\Programs\\Python\\Python311\\Lib\\site-packages\\sklearn\\ensemble\\_weight_boosting.py:527: FutureWarning:\n",
      "\n",
      "The SAMME.R algorithm (the default) is deprecated and will be removed in 1.6. Use the SAMME algorithm to circumvent this warning.\n",
      "\n",
      "c:\\Users\\latha\\AppData\\Local\\Programs\\Python\\Python311\\Lib\\site-packages\\sklearn\\ensemble\\_weight_boosting.py:527: FutureWarning:\n",
      "\n",
      "The SAMME.R algorithm (the default) is deprecated and will be removed in 1.6. Use the SAMME algorithm to circumvent this warning.\n",
      "\n",
      "c:\\Users\\latha\\AppData\\Local\\Programs\\Python\\Python311\\Lib\\site-packages\\sklearn\\ensemble\\_weight_boosting.py:527: FutureWarning:\n",
      "\n",
      "The SAMME.R algorithm (the default) is deprecated and will be removed in 1.6. Use the SAMME algorithm to circumvent this warning.\n",
      "\n",
      "c:\\Users\\latha\\AppData\\Local\\Programs\\Python\\Python311\\Lib\\site-packages\\sklearn\\ensemble\\_weight_boosting.py:527: FutureWarning:\n",
      "\n",
      "The SAMME.R algorithm (the default) is deprecated and will be removed in 1.6. Use the SAMME algorithm to circumvent this warning.\n",
      "\n",
      "c:\\Users\\latha\\AppData\\Local\\Programs\\Python\\Python311\\Lib\\site-packages\\sklearn\\ensemble\\_weight_boosting.py:527: FutureWarning:\n",
      "\n",
      "The SAMME.R algorithm (the default) is deprecated and will be removed in 1.6. Use the SAMME algorithm to circumvent this warning.\n",
      "\n",
      "c:\\Users\\latha\\AppData\\Local\\Programs\\Python\\Python311\\Lib\\site-packages\\sklearn\\ensemble\\_weight_boosting.py:527: FutureWarning:\n",
      "\n",
      "The SAMME.R algorithm (the default) is deprecated and will be removed in 1.6. Use the SAMME algorithm to circumvent this warning.\n",
      "\n",
      "c:\\Users\\latha\\AppData\\Local\\Programs\\Python\\Python311\\Lib\\site-packages\\sklearn\\ensemble\\_weight_boosting.py:527: FutureWarning:\n",
      "\n",
      "The SAMME.R algorithm (the default) is deprecated and will be removed in 1.6. Use the SAMME algorithm to circumvent this warning.\n",
      "\n",
      "c:\\Users\\latha\\AppData\\Local\\Programs\\Python\\Python311\\Lib\\site-packages\\sklearn\\ensemble\\_weight_boosting.py:527: FutureWarning:\n",
      "\n",
      "The SAMME.R algorithm (the default) is deprecated and will be removed in 1.6. Use the SAMME algorithm to circumvent this warning.\n",
      "\n",
      "c:\\Users\\latha\\AppData\\Local\\Programs\\Python\\Python311\\Lib\\site-packages\\sklearn\\ensemble\\_weight_boosting.py:527: FutureWarning:\n",
      "\n",
      "The SAMME.R algorithm (the default) is deprecated and will be removed in 1.6. Use the SAMME algorithm to circumvent this warning.\n",
      "\n",
      "c:\\Users\\latha\\AppData\\Local\\Programs\\Python\\Python311\\Lib\\site-packages\\sklearn\\ensemble\\_weight_boosting.py:527: FutureWarning:\n",
      "\n",
      "The SAMME.R algorithm (the default) is deprecated and will be removed in 1.6. Use the SAMME algorithm to circumvent this warning.\n",
      "\n",
      "c:\\Users\\latha\\AppData\\Local\\Programs\\Python\\Python311\\Lib\\site-packages\\sklearn\\ensemble\\_weight_boosting.py:527: FutureWarning:\n",
      "\n",
      "The SAMME.R algorithm (the default) is deprecated and will be removed in 1.6. Use the SAMME algorithm to circumvent this warning.\n",
      "\n",
      "c:\\Users\\latha\\AppData\\Local\\Programs\\Python\\Python311\\Lib\\site-packages\\sklearn\\ensemble\\_weight_boosting.py:527: FutureWarning:\n",
      "\n",
      "The SAMME.R algorithm (the default) is deprecated and will be removed in 1.6. Use the SAMME algorithm to circumvent this warning.\n",
      "\n",
      "c:\\Users\\latha\\AppData\\Local\\Programs\\Python\\Python311\\Lib\\site-packages\\sklearn\\ensemble\\_weight_boosting.py:527: FutureWarning:\n",
      "\n",
      "The SAMME.R algorithm (the default) is deprecated and will be removed in 1.6. Use the SAMME algorithm to circumvent this warning.\n",
      "\n",
      "c:\\Users\\latha\\AppData\\Local\\Programs\\Python\\Python311\\Lib\\site-packages\\sklearn\\ensemble\\_weight_boosting.py:527: FutureWarning:\n",
      "\n",
      "The SAMME.R algorithm (the default) is deprecated and will be removed in 1.6. Use the SAMME algorithm to circumvent this warning.\n",
      "\n",
      "c:\\Users\\latha\\AppData\\Local\\Programs\\Python\\Python311\\Lib\\site-packages\\sklearn\\ensemble\\_weight_boosting.py:527: FutureWarning:\n",
      "\n",
      "The SAMME.R algorithm (the default) is deprecated and will be removed in 1.6. Use the SAMME algorithm to circumvent this warning.\n",
      "\n",
      "c:\\Users\\latha\\AppData\\Local\\Programs\\Python\\Python311\\Lib\\site-packages\\sklearn\\ensemble\\_weight_boosting.py:527: FutureWarning:\n",
      "\n",
      "The SAMME.R algorithm (the default) is deprecated and will be removed in 1.6. Use the SAMME algorithm to circumvent this warning.\n",
      "\n",
      "c:\\Users\\latha\\AppData\\Local\\Programs\\Python\\Python311\\Lib\\site-packages\\sklearn\\ensemble\\_weight_boosting.py:527: FutureWarning:\n",
      "\n",
      "The SAMME.R algorithm (the default) is deprecated and will be removed in 1.6. Use the SAMME algorithm to circumvent this warning.\n",
      "\n",
      "c:\\Users\\latha\\AppData\\Local\\Programs\\Python\\Python311\\Lib\\site-packages\\sklearn\\ensemble\\_weight_boosting.py:527: FutureWarning:\n",
      "\n",
      "The SAMME.R algorithm (the default) is deprecated and will be removed in 1.6. Use the SAMME algorithm to circumvent this warning.\n",
      "\n",
      "c:\\Users\\latha\\AppData\\Local\\Programs\\Python\\Python311\\Lib\\site-packages\\sklearn\\ensemble\\_weight_boosting.py:527: FutureWarning:\n",
      "\n",
      "The SAMME.R algorithm (the default) is deprecated and will be removed in 1.6. Use the SAMME algorithm to circumvent this warning.\n",
      "\n",
      "c:\\Users\\latha\\AppData\\Local\\Programs\\Python\\Python311\\Lib\\site-packages\\sklearn\\ensemble\\_weight_boosting.py:527: FutureWarning:\n",
      "\n",
      "The SAMME.R algorithm (the default) is deprecated and will be removed in 1.6. Use the SAMME algorithm to circumvent this warning.\n",
      "\n",
      "c:\\Users\\latha\\AppData\\Local\\Programs\\Python\\Python311\\Lib\\site-packages\\sklearn\\ensemble\\_weight_boosting.py:527: FutureWarning:\n",
      "\n",
      "The SAMME.R algorithm (the default) is deprecated and will be removed in 1.6. Use the SAMME algorithm to circumvent this warning.\n",
      "\n",
      "c:\\Users\\latha\\AppData\\Local\\Programs\\Python\\Python311\\Lib\\site-packages\\sklearn\\ensemble\\_weight_boosting.py:527: FutureWarning:\n",
      "\n",
      "The SAMME.R algorithm (the default) is deprecated and will be removed in 1.6. Use the SAMME algorithm to circumvent this warning.\n",
      "\n",
      "c:\\Users\\latha\\AppData\\Local\\Programs\\Python\\Python311\\Lib\\site-packages\\sklearn\\ensemble\\_weight_boosting.py:527: FutureWarning:\n",
      "\n",
      "The SAMME.R algorithm (the default) is deprecated and will be removed in 1.6. Use the SAMME algorithm to circumvent this warning.\n",
      "\n",
      "c:\\Users\\latha\\AppData\\Local\\Programs\\Python\\Python311\\Lib\\site-packages\\sklearn\\ensemble\\_weight_boosting.py:527: FutureWarning:\n",
      "\n",
      "The SAMME.R algorithm (the default) is deprecated and will be removed in 1.6. Use the SAMME algorithm to circumvent this warning.\n",
      "\n",
      "c:\\Users\\latha\\AppData\\Local\\Programs\\Python\\Python311\\Lib\\site-packages\\sklearn\\ensemble\\_weight_boosting.py:527: FutureWarning:\n",
      "\n",
      "The SAMME.R algorithm (the default) is deprecated and will be removed in 1.6. Use the SAMME algorithm to circumvent this warning.\n",
      "\n",
      "c:\\Users\\latha\\AppData\\Local\\Programs\\Python\\Python311\\Lib\\site-packages\\sklearn\\ensemble\\_weight_boosting.py:527: FutureWarning:\n",
      "\n",
      "The SAMME.R algorithm (the default) is deprecated and will be removed in 1.6. Use the SAMME algorithm to circumvent this warning.\n",
      "\n",
      "c:\\Users\\latha\\AppData\\Local\\Programs\\Python\\Python311\\Lib\\site-packages\\sklearn\\ensemble\\_weight_boosting.py:527: FutureWarning:\n",
      "\n",
      "The SAMME.R algorithm (the default) is deprecated and will be removed in 1.6. Use the SAMME algorithm to circumvent this warning.\n",
      "\n",
      "c:\\Users\\latha\\AppData\\Local\\Programs\\Python\\Python311\\Lib\\site-packages\\sklearn\\ensemble\\_weight_boosting.py:527: FutureWarning:\n",
      "\n",
      "The SAMME.R algorithm (the default) is deprecated and will be removed in 1.6. Use the SAMME algorithm to circumvent this warning.\n",
      "\n",
      "c:\\Users\\latha\\AppData\\Local\\Programs\\Python\\Python311\\Lib\\site-packages\\sklearn\\ensemble\\_weight_boosting.py:527: FutureWarning:\n",
      "\n",
      "The SAMME.R algorithm (the default) is deprecated and will be removed in 1.6. Use the SAMME algorithm to circumvent this warning.\n",
      "\n",
      "c:\\Users\\latha\\AppData\\Local\\Programs\\Python\\Python311\\Lib\\site-packages\\sklearn\\ensemble\\_weight_boosting.py:527: FutureWarning:\n",
      "\n",
      "The SAMME.R algorithm (the default) is deprecated and will be removed in 1.6. Use the SAMME algorithm to circumvent this warning.\n",
      "\n",
      "c:\\Users\\latha\\AppData\\Local\\Programs\\Python\\Python311\\Lib\\site-packages\\sklearn\\ensemble\\_weight_boosting.py:527: FutureWarning:\n",
      "\n",
      "The SAMME.R algorithm (the default) is deprecated and will be removed in 1.6. Use the SAMME algorithm to circumvent this warning.\n",
      "\n",
      "c:\\Users\\latha\\AppData\\Local\\Programs\\Python\\Python311\\Lib\\site-packages\\sklearn\\ensemble\\_weight_boosting.py:527: FutureWarning:\n",
      "\n",
      "The SAMME.R algorithm (the default) is deprecated and will be removed in 1.6. Use the SAMME algorithm to circumvent this warning.\n",
      "\n",
      "c:\\Users\\latha\\AppData\\Local\\Programs\\Python\\Python311\\Lib\\site-packages\\sklearn\\ensemble\\_weight_boosting.py:527: FutureWarning:\n",
      "\n",
      "The SAMME.R algorithm (the default) is deprecated and will be removed in 1.6. Use the SAMME algorithm to circumvent this warning.\n",
      "\n",
      "c:\\Users\\latha\\AppData\\Local\\Programs\\Python\\Python311\\Lib\\site-packages\\sklearn\\ensemble\\_weight_boosting.py:527: FutureWarning:\n",
      "\n",
      "The SAMME.R algorithm (the default) is deprecated and will be removed in 1.6. Use the SAMME algorithm to circumvent this warning.\n",
      "\n",
      "c:\\Users\\latha\\AppData\\Local\\Programs\\Python\\Python311\\Lib\\site-packages\\sklearn\\ensemble\\_weight_boosting.py:527: FutureWarning:\n",
      "\n",
      "The SAMME.R algorithm (the default) is deprecated and will be removed in 1.6. Use the SAMME algorithm to circumvent this warning.\n",
      "\n",
      "c:\\Users\\latha\\AppData\\Local\\Programs\\Python\\Python311\\Lib\\site-packages\\sklearn\\ensemble\\_weight_boosting.py:527: FutureWarning:\n",
      "\n",
      "The SAMME.R algorithm (the default) is deprecated and will be removed in 1.6. Use the SAMME algorithm to circumvent this warning.\n",
      "\n",
      "c:\\Users\\latha\\AppData\\Local\\Programs\\Python\\Python311\\Lib\\site-packages\\sklearn\\ensemble\\_weight_boosting.py:527: FutureWarning:\n",
      "\n",
      "The SAMME.R algorithm (the default) is deprecated and will be removed in 1.6. Use the SAMME algorithm to circumvent this warning.\n",
      "\n",
      "c:\\Users\\latha\\AppData\\Local\\Programs\\Python\\Python311\\Lib\\site-packages\\sklearn\\ensemble\\_weight_boosting.py:527: FutureWarning:\n",
      "\n",
      "The SAMME.R algorithm (the default) is deprecated and will be removed in 1.6. Use the SAMME algorithm to circumvent this warning.\n",
      "\n",
      "c:\\Users\\latha\\AppData\\Local\\Programs\\Python\\Python311\\Lib\\site-packages\\sklearn\\ensemble\\_weight_boosting.py:527: FutureWarning:\n",
      "\n",
      "The SAMME.R algorithm (the default) is deprecated and will be removed in 1.6. Use the SAMME algorithm to circumvent this warning.\n",
      "\n",
      "c:\\Users\\latha\\AppData\\Local\\Programs\\Python\\Python311\\Lib\\site-packages\\sklearn\\ensemble\\_weight_boosting.py:527: FutureWarning:\n",
      "\n",
      "The SAMME.R algorithm (the default) is deprecated and will be removed in 1.6. Use the SAMME algorithm to circumvent this warning.\n",
      "\n",
      "c:\\Users\\latha\\AppData\\Local\\Programs\\Python\\Python311\\Lib\\site-packages\\sklearn\\ensemble\\_weight_boosting.py:527: FutureWarning:\n",
      "\n",
      "The SAMME.R algorithm (the default) is deprecated and will be removed in 1.6. Use the SAMME algorithm to circumvent this warning.\n",
      "\n",
      "c:\\Users\\latha\\AppData\\Local\\Programs\\Python\\Python311\\Lib\\site-packages\\sklearn\\ensemble\\_weight_boosting.py:527: FutureWarning:\n",
      "\n",
      "The SAMME.R algorithm (the default) is deprecated and will be removed in 1.6. Use the SAMME algorithm to circumvent this warning.\n",
      "\n",
      "c:\\Users\\latha\\AppData\\Local\\Programs\\Python\\Python311\\Lib\\site-packages\\sklearn\\ensemble\\_weight_boosting.py:527: FutureWarning:\n",
      "\n",
      "The SAMME.R algorithm (the default) is deprecated and will be removed in 1.6. Use the SAMME algorithm to circumvent this warning.\n",
      "\n",
      "c:\\Users\\latha\\AppData\\Local\\Programs\\Python\\Python311\\Lib\\site-packages\\sklearn\\ensemble\\_weight_boosting.py:527: FutureWarning:\n",
      "\n",
      "The SAMME.R algorithm (the default) is deprecated and will be removed in 1.6. Use the SAMME algorithm to circumvent this warning.\n",
      "\n",
      "c:\\Users\\latha\\AppData\\Local\\Programs\\Python\\Python311\\Lib\\site-packages\\sklearn\\ensemble\\_weight_boosting.py:527: FutureWarning:\n",
      "\n",
      "The SAMME.R algorithm (the default) is deprecated and will be removed in 1.6. Use the SAMME algorithm to circumvent this warning.\n",
      "\n",
      "c:\\Users\\latha\\AppData\\Local\\Programs\\Python\\Python311\\Lib\\site-packages\\sklearn\\ensemble\\_weight_boosting.py:527: FutureWarning:\n",
      "\n",
      "The SAMME.R algorithm (the default) is deprecated and will be removed in 1.6. Use the SAMME algorithm to circumvent this warning.\n",
      "\n",
      "c:\\Users\\latha\\AppData\\Local\\Programs\\Python\\Python311\\Lib\\site-packages\\sklearn\\ensemble\\_weight_boosting.py:527: FutureWarning:\n",
      "\n",
      "The SAMME.R algorithm (the default) is deprecated and will be removed in 1.6. Use the SAMME algorithm to circumvent this warning.\n",
      "\n",
      "c:\\Users\\latha\\AppData\\Local\\Programs\\Python\\Python311\\Lib\\site-packages\\sklearn\\ensemble\\_weight_boosting.py:527: FutureWarning:\n",
      "\n",
      "The SAMME.R algorithm (the default) is deprecated and will be removed in 1.6. Use the SAMME algorithm to circumvent this warning.\n",
      "\n",
      "c:\\Users\\latha\\AppData\\Local\\Programs\\Python\\Python311\\Lib\\site-packages\\sklearn\\ensemble\\_weight_boosting.py:527: FutureWarning:\n",
      "\n",
      "The SAMME.R algorithm (the default) is deprecated and will be removed in 1.6. Use the SAMME algorithm to circumvent this warning.\n",
      "\n",
      "c:\\Users\\latha\\AppData\\Local\\Programs\\Python\\Python311\\Lib\\site-packages\\sklearn\\ensemble\\_weight_boosting.py:527: FutureWarning:\n",
      "\n",
      "The SAMME.R algorithm (the default) is deprecated and will be removed in 1.6. Use the SAMME algorithm to circumvent this warning.\n",
      "\n",
      "c:\\Users\\latha\\AppData\\Local\\Programs\\Python\\Python311\\Lib\\site-packages\\sklearn\\ensemble\\_weight_boosting.py:527: FutureWarning:\n",
      "\n",
      "The SAMME.R algorithm (the default) is deprecated and will be removed in 1.6. Use the SAMME algorithm to circumvent this warning.\n",
      "\n",
      "c:\\Users\\latha\\AppData\\Local\\Programs\\Python\\Python311\\Lib\\site-packages\\sklearn\\ensemble\\_weight_boosting.py:527: FutureWarning:\n",
      "\n",
      "The SAMME.R algorithm (the default) is deprecated and will be removed in 1.6. Use the SAMME algorithm to circumvent this warning.\n",
      "\n",
      "c:\\Users\\latha\\AppData\\Local\\Programs\\Python\\Python311\\Lib\\site-packages\\sklearn\\ensemble\\_weight_boosting.py:527: FutureWarning:\n",
      "\n",
      "The SAMME.R algorithm (the default) is deprecated and will be removed in 1.6. Use the SAMME algorithm to circumvent this warning.\n",
      "\n",
      "c:\\Users\\latha\\AppData\\Local\\Programs\\Python\\Python311\\Lib\\site-packages\\sklearn\\ensemble\\_weight_boosting.py:527: FutureWarning:\n",
      "\n",
      "The SAMME.R algorithm (the default) is deprecated and will be removed in 1.6. Use the SAMME algorithm to circumvent this warning.\n",
      "\n",
      "c:\\Users\\latha\\AppData\\Local\\Programs\\Python\\Python311\\Lib\\site-packages\\sklearn\\ensemble\\_weight_boosting.py:527: FutureWarning:\n",
      "\n",
      "The SAMME.R algorithm (the default) is deprecated and will be removed in 1.6. Use the SAMME algorithm to circumvent this warning.\n",
      "\n",
      "c:\\Users\\latha\\AppData\\Local\\Programs\\Python\\Python311\\Lib\\site-packages\\sklearn\\ensemble\\_weight_boosting.py:527: FutureWarning:\n",
      "\n",
      "The SAMME.R algorithm (the default) is deprecated and will be removed in 1.6. Use the SAMME algorithm to circumvent this warning.\n",
      "\n",
      "c:\\Users\\latha\\AppData\\Local\\Programs\\Python\\Python311\\Lib\\site-packages\\sklearn\\ensemble\\_weight_boosting.py:527: FutureWarning:\n",
      "\n",
      "The SAMME.R algorithm (the default) is deprecated and will be removed in 1.6. Use the SAMME algorithm to circumvent this warning.\n",
      "\n",
      "c:\\Users\\latha\\AppData\\Local\\Programs\\Python\\Python311\\Lib\\site-packages\\sklearn\\ensemble\\_weight_boosting.py:527: FutureWarning:\n",
      "\n",
      "The SAMME.R algorithm (the default) is deprecated and will be removed in 1.6. Use the SAMME algorithm to circumvent this warning.\n",
      "\n",
      "c:\\Users\\latha\\AppData\\Local\\Programs\\Python\\Python311\\Lib\\site-packages\\sklearn\\ensemble\\_weight_boosting.py:527: FutureWarning:\n",
      "\n",
      "The SAMME.R algorithm (the default) is deprecated and will be removed in 1.6. Use the SAMME algorithm to circumvent this warning.\n",
      "\n",
      "c:\\Users\\latha\\AppData\\Local\\Programs\\Python\\Python311\\Lib\\site-packages\\sklearn\\ensemble\\_weight_boosting.py:527: FutureWarning:\n",
      "\n",
      "The SAMME.R algorithm (the default) is deprecated and will be removed in 1.6. Use the SAMME algorithm to circumvent this warning.\n",
      "\n",
      "c:\\Users\\latha\\AppData\\Local\\Programs\\Python\\Python311\\Lib\\site-packages\\sklearn\\ensemble\\_weight_boosting.py:527: FutureWarning:\n",
      "\n",
      "The SAMME.R algorithm (the default) is deprecated and will be removed in 1.6. Use the SAMME algorithm to circumvent this warning.\n",
      "\n",
      "c:\\Users\\latha\\AppData\\Local\\Programs\\Python\\Python311\\Lib\\site-packages\\sklearn\\ensemble\\_weight_boosting.py:527: FutureWarning:\n",
      "\n",
      "The SAMME.R algorithm (the default) is deprecated and will be removed in 1.6. Use the SAMME algorithm to circumvent this warning.\n",
      "\n",
      "c:\\Users\\latha\\AppData\\Local\\Programs\\Python\\Python311\\Lib\\site-packages\\sklearn\\ensemble\\_weight_boosting.py:527: FutureWarning:\n",
      "\n",
      "The SAMME.R algorithm (the default) is deprecated and will be removed in 1.6. Use the SAMME algorithm to circumvent this warning.\n",
      "\n",
      "c:\\Users\\latha\\AppData\\Local\\Programs\\Python\\Python311\\Lib\\site-packages\\sklearn\\ensemble\\_weight_boosting.py:527: FutureWarning:\n",
      "\n",
      "The SAMME.R algorithm (the default) is deprecated and will be removed in 1.6. Use the SAMME algorithm to circumvent this warning.\n",
      "\n",
      "c:\\Users\\latha\\AppData\\Local\\Programs\\Python\\Python311\\Lib\\site-packages\\sklearn\\ensemble\\_weight_boosting.py:527: FutureWarning:\n",
      "\n",
      "The SAMME.R algorithm (the default) is deprecated and will be removed in 1.6. Use the SAMME algorithm to circumvent this warning.\n",
      "\n",
      "c:\\Users\\latha\\AppData\\Local\\Programs\\Python\\Python311\\Lib\\site-packages\\sklearn\\ensemble\\_weight_boosting.py:527: FutureWarning:\n",
      "\n",
      "The SAMME.R algorithm (the default) is deprecated and will be removed in 1.6. Use the SAMME algorithm to circumvent this warning.\n",
      "\n",
      "c:\\Users\\latha\\AppData\\Local\\Programs\\Python\\Python311\\Lib\\site-packages\\sklearn\\ensemble\\_weight_boosting.py:527: FutureWarning:\n",
      "\n",
      "The SAMME.R algorithm (the default) is deprecated and will be removed in 1.6. Use the SAMME algorithm to circumvent this warning.\n",
      "\n",
      "c:\\Users\\latha\\AppData\\Local\\Programs\\Python\\Python311\\Lib\\site-packages\\sklearn\\ensemble\\_weight_boosting.py:527: FutureWarning:\n",
      "\n",
      "The SAMME.R algorithm (the default) is deprecated and will be removed in 1.6. Use the SAMME algorithm to circumvent this warning.\n",
      "\n",
      "c:\\Users\\latha\\AppData\\Local\\Programs\\Python\\Python311\\Lib\\site-packages\\sklearn\\ensemble\\_weight_boosting.py:527: FutureWarning:\n",
      "\n",
      "The SAMME.R algorithm (the default) is deprecated and will be removed in 1.6. Use the SAMME algorithm to circumvent this warning.\n",
      "\n",
      "c:\\Users\\latha\\AppData\\Local\\Programs\\Python\\Python311\\Lib\\site-packages\\sklearn\\ensemble\\_weight_boosting.py:527: FutureWarning:\n",
      "\n",
      "The SAMME.R algorithm (the default) is deprecated and will be removed in 1.6. Use the SAMME algorithm to circumvent this warning.\n",
      "\n",
      "c:\\Users\\latha\\AppData\\Local\\Programs\\Python\\Python311\\Lib\\site-packages\\sklearn\\ensemble\\_weight_boosting.py:527: FutureWarning:\n",
      "\n",
      "The SAMME.R algorithm (the default) is deprecated and will be removed in 1.6. Use the SAMME algorithm to circumvent this warning.\n",
      "\n",
      "c:\\Users\\latha\\AppData\\Local\\Programs\\Python\\Python311\\Lib\\site-packages\\sklearn\\ensemble\\_weight_boosting.py:527: FutureWarning:\n",
      "\n",
      "The SAMME.R algorithm (the default) is deprecated and will be removed in 1.6. Use the SAMME algorithm to circumvent this warning.\n",
      "\n",
      "c:\\Users\\latha\\AppData\\Local\\Programs\\Python\\Python311\\Lib\\site-packages\\sklearn\\ensemble\\_weight_boosting.py:527: FutureWarning:\n",
      "\n",
      "The SAMME.R algorithm (the default) is deprecated and will be removed in 1.6. Use the SAMME algorithm to circumvent this warning.\n",
      "\n",
      "c:\\Users\\latha\\AppData\\Local\\Programs\\Python\\Python311\\Lib\\site-packages\\sklearn\\ensemble\\_weight_boosting.py:527: FutureWarning:\n",
      "\n",
      "The SAMME.R algorithm (the default) is deprecated and will be removed in 1.6. Use the SAMME algorithm to circumvent this warning.\n",
      "\n",
      "c:\\Users\\latha\\AppData\\Local\\Programs\\Python\\Python311\\Lib\\site-packages\\sklearn\\ensemble\\_weight_boosting.py:527: FutureWarning:\n",
      "\n",
      "The SAMME.R algorithm (the default) is deprecated and will be removed in 1.6. Use the SAMME algorithm to circumvent this warning.\n",
      "\n",
      "c:\\Users\\latha\\AppData\\Local\\Programs\\Python\\Python311\\Lib\\site-packages\\sklearn\\ensemble\\_weight_boosting.py:527: FutureWarning:\n",
      "\n",
      "The SAMME.R algorithm (the default) is deprecated and will be removed in 1.6. Use the SAMME algorithm to circumvent this warning.\n",
      "\n",
      "c:\\Users\\latha\\AppData\\Local\\Programs\\Python\\Python311\\Lib\\site-packages\\sklearn\\ensemble\\_weight_boosting.py:527: FutureWarning:\n",
      "\n",
      "The SAMME.R algorithm (the default) is deprecated and will be removed in 1.6. Use the SAMME algorithm to circumvent this warning.\n",
      "\n",
      "c:\\Users\\latha\\AppData\\Local\\Programs\\Python\\Python311\\Lib\\site-packages\\sklearn\\ensemble\\_weight_boosting.py:527: FutureWarning:\n",
      "\n",
      "The SAMME.R algorithm (the default) is deprecated and will be removed in 1.6. Use the SAMME algorithm to circumvent this warning.\n",
      "\n",
      "c:\\Users\\latha\\AppData\\Local\\Programs\\Python\\Python311\\Lib\\site-packages\\sklearn\\ensemble\\_weight_boosting.py:527: FutureWarning:\n",
      "\n",
      "The SAMME.R algorithm (the default) is deprecated and will be removed in 1.6. Use the SAMME algorithm to circumvent this warning.\n",
      "\n",
      "c:\\Users\\latha\\AppData\\Local\\Programs\\Python\\Python311\\Lib\\site-packages\\sklearn\\ensemble\\_weight_boosting.py:527: FutureWarning:\n",
      "\n",
      "The SAMME.R algorithm (the default) is deprecated and will be removed in 1.6. Use the SAMME algorithm to circumvent this warning.\n",
      "\n",
      "c:\\Users\\latha\\AppData\\Local\\Programs\\Python\\Python311\\Lib\\site-packages\\sklearn\\ensemble\\_weight_boosting.py:527: FutureWarning:\n",
      "\n",
      "The SAMME.R algorithm (the default) is deprecated and will be removed in 1.6. Use the SAMME algorithm to circumvent this warning.\n",
      "\n",
      "c:\\Users\\latha\\AppData\\Local\\Programs\\Python\\Python311\\Lib\\site-packages\\sklearn\\ensemble\\_weight_boosting.py:527: FutureWarning:\n",
      "\n",
      "The SAMME.R algorithm (the default) is deprecated and will be removed in 1.6. Use the SAMME algorithm to circumvent this warning.\n",
      "\n",
      "c:\\Users\\latha\\AppData\\Local\\Programs\\Python\\Python311\\Lib\\site-packages\\sklearn\\ensemble\\_weight_boosting.py:527: FutureWarning:\n",
      "\n",
      "The SAMME.R algorithm (the default) is deprecated and will be removed in 1.6. Use the SAMME algorithm to circumvent this warning.\n",
      "\n",
      "c:\\Users\\latha\\AppData\\Local\\Programs\\Python\\Python311\\Lib\\site-packages\\sklearn\\ensemble\\_weight_boosting.py:527: FutureWarning:\n",
      "\n",
      "The SAMME.R algorithm (the default) is deprecated and will be removed in 1.6. Use the SAMME algorithm to circumvent this warning.\n",
      "\n",
      "c:\\Users\\latha\\AppData\\Local\\Programs\\Python\\Python311\\Lib\\site-packages\\sklearn\\ensemble\\_weight_boosting.py:527: FutureWarning:\n",
      "\n",
      "The SAMME.R algorithm (the default) is deprecated and will be removed in 1.6. Use the SAMME algorithm to circumvent this warning.\n",
      "\n",
      "c:\\Users\\latha\\AppData\\Local\\Programs\\Python\\Python311\\Lib\\site-packages\\sklearn\\ensemble\\_weight_boosting.py:527: FutureWarning:\n",
      "\n",
      "The SAMME.R algorithm (the default) is deprecated and will be removed in 1.6. Use the SAMME algorithm to circumvent this warning.\n",
      "\n",
      "c:\\Users\\latha\\AppData\\Local\\Programs\\Python\\Python311\\Lib\\site-packages\\sklearn\\ensemble\\_weight_boosting.py:527: FutureWarning:\n",
      "\n",
      "The SAMME.R algorithm (the default) is deprecated and will be removed in 1.6. Use the SAMME algorithm to circumvent this warning.\n",
      "\n",
      "c:\\Users\\latha\\AppData\\Local\\Programs\\Python\\Python311\\Lib\\site-packages\\sklearn\\ensemble\\_weight_boosting.py:527: FutureWarning:\n",
      "\n",
      "The SAMME.R algorithm (the default) is deprecated and will be removed in 1.6. Use the SAMME algorithm to circumvent this warning.\n",
      "\n",
      "c:\\Users\\latha\\AppData\\Local\\Programs\\Python\\Python311\\Lib\\site-packages\\sklearn\\ensemble\\_weight_boosting.py:527: FutureWarning:\n",
      "\n",
      "The SAMME.R algorithm (the default) is deprecated and will be removed in 1.6. Use the SAMME algorithm to circumvent this warning.\n",
      "\n",
      "c:\\Users\\latha\\AppData\\Local\\Programs\\Python\\Python311\\Lib\\site-packages\\sklearn\\ensemble\\_weight_boosting.py:527: FutureWarning:\n",
      "\n",
      "The SAMME.R algorithm (the default) is deprecated and will be removed in 1.6. Use the SAMME algorithm to circumvent this warning.\n",
      "\n",
      "c:\\Users\\latha\\AppData\\Local\\Programs\\Python\\Python311\\Lib\\site-packages\\sklearn\\ensemble\\_weight_boosting.py:527: FutureWarning:\n",
      "\n",
      "The SAMME.R algorithm (the default) is deprecated and will be removed in 1.6. Use the SAMME algorithm to circumvent this warning.\n",
      "\n",
      "c:\\Users\\latha\\AppData\\Local\\Programs\\Python\\Python311\\Lib\\site-packages\\sklearn\\ensemble\\_weight_boosting.py:527: FutureWarning:\n",
      "\n",
      "The SAMME.R algorithm (the default) is deprecated and will be removed in 1.6. Use the SAMME algorithm to circumvent this warning.\n",
      "\n",
      "c:\\Users\\latha\\AppData\\Local\\Programs\\Python\\Python311\\Lib\\site-packages\\sklearn\\ensemble\\_weight_boosting.py:527: FutureWarning:\n",
      "\n",
      "The SAMME.R algorithm (the default) is deprecated and will be removed in 1.6. Use the SAMME algorithm to circumvent this warning.\n",
      "\n",
      "c:\\Users\\latha\\AppData\\Local\\Programs\\Python\\Python311\\Lib\\site-packages\\sklearn\\ensemble\\_weight_boosting.py:527: FutureWarning:\n",
      "\n",
      "The SAMME.R algorithm (the default) is deprecated and will be removed in 1.6. Use the SAMME algorithm to circumvent this warning.\n",
      "\n",
      "c:\\Users\\latha\\AppData\\Local\\Programs\\Python\\Python311\\Lib\\site-packages\\sklearn\\ensemble\\_weight_boosting.py:527: FutureWarning:\n",
      "\n",
      "The SAMME.R algorithm (the default) is deprecated and will be removed in 1.6. Use the SAMME algorithm to circumvent this warning.\n",
      "\n",
      "c:\\Users\\latha\\AppData\\Local\\Programs\\Python\\Python311\\Lib\\site-packages\\sklearn\\ensemble\\_weight_boosting.py:527: FutureWarning:\n",
      "\n",
      "The SAMME.R algorithm (the default) is deprecated and will be removed in 1.6. Use the SAMME algorithm to circumvent this warning.\n",
      "\n",
      "c:\\Users\\latha\\AppData\\Local\\Programs\\Python\\Python311\\Lib\\site-packages\\sklearn\\ensemble\\_weight_boosting.py:527: FutureWarning:\n",
      "\n",
      "The SAMME.R algorithm (the default) is deprecated and will be removed in 1.6. Use the SAMME algorithm to circumvent this warning.\n",
      "\n",
      "c:\\Users\\latha\\AppData\\Local\\Programs\\Python\\Python311\\Lib\\site-packages\\sklearn\\ensemble\\_weight_boosting.py:527: FutureWarning:\n",
      "\n",
      "The SAMME.R algorithm (the default) is deprecated and will be removed in 1.6. Use the SAMME algorithm to circumvent this warning.\n",
      "\n",
      "c:\\Users\\latha\\AppData\\Local\\Programs\\Python\\Python311\\Lib\\site-packages\\sklearn\\ensemble\\_weight_boosting.py:527: FutureWarning:\n",
      "\n",
      "The SAMME.R algorithm (the default) is deprecated and will be removed in 1.6. Use the SAMME algorithm to circumvent this warning.\n",
      "\n",
      "c:\\Users\\latha\\AppData\\Local\\Programs\\Python\\Python311\\Lib\\site-packages\\sklearn\\ensemble\\_weight_boosting.py:527: FutureWarning:\n",
      "\n",
      "The SAMME.R algorithm (the default) is deprecated and will be removed in 1.6. Use the SAMME algorithm to circumvent this warning.\n",
      "\n",
      "c:\\Users\\latha\\AppData\\Local\\Programs\\Python\\Python311\\Lib\\site-packages\\sklearn\\ensemble\\_weight_boosting.py:527: FutureWarning:\n",
      "\n",
      "The SAMME.R algorithm (the default) is deprecated and will be removed in 1.6. Use the SAMME algorithm to circumvent this warning.\n",
      "\n"
     ]
    },
    {
     "name": "stdout",
     "output_type": "stream",
     "text": [
      "Accuracy Score Train:  0.22569444444444445\n",
      "Accuracy score Test:  0.2378472222222222\n"
     ]
    }
   ],
   "source": [
    "from sklearn.ensemble import AdaBoostClassifier\n",
    "from sklearn.model_selection import train_test_split, GridSearchCV\n",
    "from sklearn.metrics import accuracy_score\n",
    "\n",
    "X_train, X_test, y_train, y_test = train_test_split(X_vectorized,y_labeled, test_size=0.2, random_state=42)\n",
    "\n",
    "estimator = AdaBoostClassifier(random_state=42)\n",
    "params = {'n_estimators': list(range(1,10)), 'learning_rate':[0.1,0.3,0.5,0.8,1]}\n",
    "grid_search = GridSearchCV(estimator, params, cv=5, scoring='accuracy')\n",
    "\n",
    "grid_search.fit(X_train, y_train)\n",
    "model = grid_search.best_estimator_\n",
    "\n",
    "y_pred = model.predict(X_test)\n",
    "y_pred_train = model.predict(X_train)\n",
    "\n",
    "print('Accuracy Score Train: ', accuracy_score(y_train, y_pred_train))\n",
    "print('Accuracy score Test: ', accuracy_score(y_test, y_pred))"
   ]
  }
 ],
 "metadata": {
  "kernelspec": {
   "display_name": "Python 3",
   "language": "python",
   "name": "python3"
  },
  "language_info": {
   "codemirror_mode": {
    "name": "ipython",
    "version": 3
   },
   "file_extension": ".py",
   "mimetype": "text/x-python",
   "name": "python",
   "nbconvert_exporter": "python",
   "pygments_lexer": "ipython3",
   "version": "3.11.0"
  }
 },
 "nbformat": 4,
 "nbformat_minor": 2
}
