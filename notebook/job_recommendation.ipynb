{
 "cells": [
  {
   "cell_type": "code",
   "execution_count": 1,
   "metadata": {},
   "outputs": [
    {
     "data": {
      "text/html": [
       "<div>\n",
       "<style scoped>\n",
       "    .dataframe tbody tr th:only-of-type {\n",
       "        vertical-align: middle;\n",
       "    }\n",
       "\n",
       "    .dataframe tbody tr th {\n",
       "        vertical-align: top;\n",
       "    }\n",
       "\n",
       "    .dataframe thead th {\n",
       "        text-align: right;\n",
       "    }\n",
       "</style>\n",
       "<table border=\"1\" class=\"dataframe\">\n",
       "  <thead>\n",
       "    <tr style=\"text-align: right;\">\n",
       "      <th></th>\n",
       "      <th>Role</th>\n",
       "      <th>Features</th>\n",
       "    </tr>\n",
       "  </thead>\n",
       "  <tbody>\n",
       "    <tr>\n",
       "      <th>0</th>\n",
       "      <td>Social Media Manager</td>\n",
       "      <td>5 to 15 Years Digital Marketing Specialist M.T...</td>\n",
       "    </tr>\n",
       "    <tr>\n",
       "      <th>1</th>\n",
       "      <td>Frontend Web Developer</td>\n",
       "      <td>2 to 12 Years Web Developer BCA HTML, CSS, Jav...</td>\n",
       "    </tr>\n",
       "    <tr>\n",
       "      <th>2</th>\n",
       "      <td>Quality Control Manager</td>\n",
       "      <td>0 to 12 Years Operations Manager PhD Quality c...</td>\n",
       "    </tr>\n",
       "    <tr>\n",
       "      <th>3</th>\n",
       "      <td>Wireless Network Engineer</td>\n",
       "      <td>4 to 11 Years Network Engineer PhD Wireless ne...</td>\n",
       "    </tr>\n",
       "    <tr>\n",
       "      <th>4</th>\n",
       "      <td>Conference Manager</td>\n",
       "      <td>1 to 12 Years Event Manager MBA Event planning...</td>\n",
       "    </tr>\n",
       "  </tbody>\n",
       "</table>\n",
       "</div>"
      ],
      "text/plain": [
       "                        Role  \\\n",
       "0       Social Media Manager   \n",
       "1     Frontend Web Developer   \n",
       "2    Quality Control Manager   \n",
       "3  Wireless Network Engineer   \n",
       "4         Conference Manager   \n",
       "\n",
       "                                            Features  \n",
       "0  5 to 15 Years Digital Marketing Specialist M.T...  \n",
       "1  2 to 12 Years Web Developer BCA HTML, CSS, Jav...  \n",
       "2  0 to 12 Years Operations Manager PhD Quality c...  \n",
       "3  4 to 11 Years Network Engineer PhD Wireless ne...  \n",
       "4  1 to 12 Years Event Manager MBA Event planning...  "
      ]
     },
     "execution_count": 1,
     "metadata": {},
     "output_type": "execute_result"
    }
   ],
   "source": [
    "import pandas as pd\n",
    "\n",
    "df = pd.read_csv('../data/jobs_dataset_with_features.csv')\n",
    "df.head()"
   ]
  },
  {
   "cell_type": "code",
   "execution_count": 2,
   "metadata": {},
   "outputs": [
    {
     "data": {
      "text/plain": [
       "(1615940, 2)"
      ]
     },
     "execution_count": 2,
     "metadata": {},
     "output_type": "execute_result"
    }
   ],
   "source": [
    "df.shape"
   ]
  },
  {
   "cell_type": "code",
   "execution_count": 4,
   "metadata": {},
   "outputs": [
    {
     "data": {
      "text/plain": [
       "Role\n",
       "Interaction Designer            20580\n",
       "Network Administrator           17470\n",
       "User Interface Designer         14036\n",
       "Social Media Manager            13945\n",
       "User Experience Designer        13935\n",
       "                                ...  \n",
       "Inventory Control Specialist     3342\n",
       "Budget Analyst                   3335\n",
       "Clinical Nurse Manager           3324\n",
       "Social Science Researcher        3321\n",
       "Paid Advertising Specialist      3306\n",
       "Name: count, Length: 376, dtype: int64"
      ]
     },
     "execution_count": 4,
     "metadata": {},
     "output_type": "execute_result"
    }
   ],
   "source": [
    "df['Role'].value_counts()"
   ]
  },
  {
   "cell_type": "code",
   "execution_count": 3,
   "metadata": {},
   "outputs": [
    {
     "data": {
      "text/plain": [
       "Role\n",
       "Interaction Designer          20580\n",
       "Network Administrator         17470\n",
       "User Interface Designer       14036\n",
       "Social Media Manager          13945\n",
       "User Experience Designer      13935\n",
       "                              ...  \n",
       "Benefits Coordinator           6839\n",
       "Research Analyst               6830\n",
       "Administrative Coordinator     6803\n",
       "IT Support Specialist          6799\n",
       "UI/UX Designer                 6743\n",
       "Name: count, Length: 61, dtype: int64"
      ]
     },
     "execution_count": 3,
     "metadata": {},
     "output_type": "execute_result"
    }
   ],
   "source": [
    "# Dropping classes with less than 6500 instances\n",
    "min_count = 6500\n",
    "role_counts = df['Role'].value_counts()\n",
    "dropped_classes = role_counts[role_counts < min_count].index\n",
    "filtered_df = df[~df['Role'].isin(dropped_classes)].reset_index(drop=True)\n",
    "\n",
    "# Checking the updated role counts\n",
    "filtered_df['Role'].value_counts()"
   ]
  },
  {
   "cell_type": "code",
   "execution_count": 6,
   "metadata": {},
   "outputs": [],
   "source": [
    "df = filtered_df.sample(n=10000)"
   ]
  },
  {
   "cell_type": "code",
   "execution_count": 7,
   "metadata": {},
   "outputs": [
    {
     "data": {
      "text/plain": [
       "(10000, 2)"
      ]
     },
     "execution_count": 7,
     "metadata": {},
     "output_type": "execute_result"
    }
   ],
   "source": [
    "df.shape"
   ]
  },
  {
   "cell_type": "code",
   "execution_count": 8,
   "metadata": {},
   "outputs": [
    {
     "data": {
      "text/html": [
       "<div>\n",
       "<style scoped>\n",
       "    .dataframe tbody tr th:only-of-type {\n",
       "        vertical-align: middle;\n",
       "    }\n",
       "\n",
       "    .dataframe tbody tr th {\n",
       "        vertical-align: top;\n",
       "    }\n",
       "\n",
       "    .dataframe thead th {\n",
       "        text-align: right;\n",
       "    }\n",
       "</style>\n",
       "<table border=\"1\" class=\"dataframe\">\n",
       "  <thead>\n",
       "    <tr style=\"text-align: right;\">\n",
       "      <th></th>\n",
       "      <th>Role</th>\n",
       "      <th>Features</th>\n",
       "    </tr>\n",
       "  </thead>\n",
       "  <tbody>\n",
       "    <tr>\n",
       "      <th>288644</th>\n",
       "      <td>Database Administrator</td>\n",
       "      <td>2 to 8 Years Systems Administrator PhD Databas...</td>\n",
       "    </tr>\n",
       "    <tr>\n",
       "      <th>184555</th>\n",
       "      <td>Wedding Planner</td>\n",
       "      <td>2 to 11 Years Event Planner BBA Wedding planni...</td>\n",
       "    </tr>\n",
       "    <tr>\n",
       "      <th>128302</th>\n",
       "      <td>Database Administrator</td>\n",
       "      <td>4 to 8 Years Systems Administrator BBA Databas...</td>\n",
       "    </tr>\n",
       "    <tr>\n",
       "      <th>394073</th>\n",
       "      <td>Investment Advisor</td>\n",
       "      <td>3 to 12 Years Financial Advisor MBA Investment...</td>\n",
       "    </tr>\n",
       "    <tr>\n",
       "      <th>116926</th>\n",
       "      <td>Social Media Manager</td>\n",
       "      <td>4 to 8 Years Digital Marketing Specialist M.Co...</td>\n",
       "    </tr>\n",
       "  </tbody>\n",
       "</table>\n",
       "</div>"
      ],
      "text/plain": [
       "                          Role  \\\n",
       "288644  Database Administrator   \n",
       "184555         Wedding Planner   \n",
       "128302  Database Administrator   \n",
       "394073      Investment Advisor   \n",
       "116926    Social Media Manager   \n",
       "\n",
       "                                                 Features  \n",
       "288644  2 to 8 Years Systems Administrator PhD Databas...  \n",
       "184555  2 to 11 Years Event Planner BBA Wedding planni...  \n",
       "128302  4 to 8 Years Systems Administrator BBA Databas...  \n",
       "394073  3 to 12 Years Financial Advisor MBA Investment...  \n",
       "116926  4 to 8 Years Digital Marketing Specialist M.Co...  "
      ]
     },
     "execution_count": 8,
     "metadata": {},
     "output_type": "execute_result"
    }
   ],
   "source": [
    "df.head()"
   ]
  },
  {
   "cell_type": "code",
   "execution_count": 9,
   "metadata": {},
   "outputs": [
    {
     "data": {
      "text/plain": [
       "Role\n",
       "Interaction Designer        398\n",
       "Network Administrator       347\n",
       "Social Media Manager        260\n",
       "User Experience Designer    254\n",
       "Procurement Analyst         248\n",
       "                           ... \n",
       "Financial Analyst           123\n",
       "Supply Chain Manager        120\n",
       "Water Resources Engineer    120\n",
       "Wedding Planner             116\n",
       "Front-End Developer         114\n",
       "Name: count, Length: 61, dtype: int64"
      ]
     },
     "execution_count": 9,
     "metadata": {},
     "output_type": "execute_result"
    }
   ],
   "source": [
    "df['Role'].value_counts()"
   ]
  },
  {
   "cell_type": "markdown",
   "metadata": {},
   "source": [
    "\n",
    "### TFIDF & LabelEncoder"
   ]
  },
  {
   "cell_type": "code",
   "execution_count": 11,
   "metadata": {},
   "outputs": [],
   "source": [
    "from sklearn.feature_extraction.text import TfidfVectorizer\n",
    "from sklearn.model_selection import train_test_split\n",
    "from sklearn.preprocessing import LabelEncoder\n",
    "\n",
    "X = df['Features']\n",
    "y = df['Role']\n",
    "\n",
    "encoder = LabelEncoder()\n",
    "y_encoder = encoder.fit_transform(y)\n",
    "\n",
    "X_train, X_test, y_train, y_test = train_test_split(X,y_encoder, random_state=42, test_size=0.2)\n",
    "\n",
    "vectorizer = TfidfVectorizer()\n",
    "X_train_vectorized = vectorizer.fit_transform(X_train)\n",
    "X_test_vectorized = vectorizer.transform(X_test)"
   ]
  },
  {
   "cell_type": "code",
   "execution_count": 28,
   "metadata": {},
   "outputs": [
    {
     "data": {
      "text/plain": [
       "61"
      ]
     },
     "execution_count": 28,
     "metadata": {},
     "output_type": "execute_result"
    }
   ],
   "source": [
    "len(df['Role'].unique())"
   ]
  },
  {
   "cell_type": "code",
   "execution_count": 33,
   "metadata": {},
   "outputs": [
    {
     "data": {
      "text/plain": [
       "{0: 'Account Executive',\n",
       " 1: 'Administrative Coordinator',\n",
       " 2: 'Automation Tester',\n",
       " 3: 'Backend Developer',\n",
       " 4: 'Benefits Coordinator',\n",
       " 5: 'Business Intelligence Analyst',\n",
       " 6: 'Client Relationship Manager',\n",
       " 7: 'Content Creator',\n",
       " 8: 'Content Strategist',\n",
       " 9: 'Customer Success Manager',\n",
       " 10: 'Customer Support Specialist',\n",
       " 11: 'Data Analyst',\n",
       " 12: 'Data Entry Specialist',\n",
       " 13: 'Data Scientist',\n",
       " 14: 'Database Administrator',\n",
       " 15: 'Demand Planner',\n",
       " 16: 'DevOps Engineer',\n",
       " 17: 'Event Coordinator',\n",
       " 18: 'Event Planner',\n",
       " 19: 'Executive Assistant',\n",
       " 20: 'Family Law Attorney',\n",
       " 21: 'Financial Analyst',\n",
       " 22: 'Front-End Developer',\n",
       " 23: 'Frontend Developer',\n",
       " 24: 'IT Project Manager',\n",
       " 25: 'IT Support Specialist',\n",
       " 26: 'Inside Sales Representative',\n",
       " 27: 'Interaction Designer',\n",
       " 28: 'Inventory Manager',\n",
       " 29: 'Investment Advisor',\n",
       " 30: 'Manufacturing Engineer',\n",
       " 31: 'Market Research Analyst',\n",
       " 32: 'Market Researcher',\n",
       " 33: 'Network Administrator',\n",
       " 34: 'Network Security Analyst',\n",
       " 35: 'Office Manager',\n",
       " 36: 'Paralegal',\n",
       " 37: 'Personal Assistant',\n",
       " 38: 'Portfolio Manager',\n",
       " 39: 'Procurement Analyst',\n",
       " 40: 'Procurement Manager',\n",
       " 41: 'Product Marketing Manager',\n",
       " 42: 'Quality Assurance Analyst',\n",
       " 43: 'Research Analyst',\n",
       " 44: 'Residential Landscape Designer',\n",
       " 45: 'Retirement Planner',\n",
       " 46: 'SEO Specialist',\n",
       " 47: 'Sales Account Manager',\n",
       " 48: 'Social Media Analyst',\n",
       " 49: 'Social Media Manager',\n",
       " 50: 'Supply Chain Coordinator',\n",
       " 51: 'Supply Chain Manager',\n",
       " 52: 'Sustainable Design Specialist',\n",
       " 53: 'Systems Administrator',\n",
       " 54: 'Training Coordinator',\n",
       " 55: 'UI/UX Designer',\n",
       " 56: 'UX/UI Designer',\n",
       " 57: 'User Experience Designer',\n",
       " 58: 'User Interface Designer',\n",
       " 59: 'Water Resources Engineer',\n",
       " 60: 'Wedding Planner'}"
      ]
     },
     "execution_count": 33,
     "metadata": {},
     "output_type": "execute_result"
    }
   ],
   "source": [
    "# Getting the labels encoded\n",
    "#labels = dict(zip( encoder.transform(encoder.classes_), encoder.classes_))\n",
    "labels = {int(encoded): original for encoded, original in zip(encoder.transform(encoder.classes_), encoder.classes_)}\n",
    "labels"
   ]
  },
  {
   "cell_type": "code",
   "execution_count": 12,
   "metadata": {},
   "outputs": [
    {
     "name": "stdout",
     "output_type": "stream",
     "text": [
      "Accuracy of Train: 1.0\n",
      "Accuracy of Test:  1.0\n"
     ]
    }
   ],
   "source": [
    "from sklearn.ensemble import RandomForestClassifier\n",
    "from sklearn.metrics import accuracy_score, confusion_matrix, classification_report\n",
    "\n",
    "model = RandomForestClassifier(random_state=42)\n",
    "model.fit(X_train_vectorized, y_train)\n",
    "\n",
    "y_pred_test = model.predict(X_test_vectorized)\n",
    "y_pred_train = model.predict(X_train_vectorized)\n",
    "accuracy_test = accuracy_score(y_test, y_pred_test)\n",
    "accuracy_train = accuracy_score(y_train, y_pred_train)\n",
    "\n",
    "print('Accuracy of Train:', accuracy_train)\n",
    "print('Accuracy of Test: ', accuracy_test)"
   ]
  },
  {
   "cell_type": "markdown",
   "metadata": {},
   "source": [
    "## Dumping the files"
   ]
  },
  {
   "cell_type": "code",
   "execution_count": 35,
   "metadata": {},
   "outputs": [],
   "source": [
    "# Dumping the pickle files\n",
    "import pickle\n",
    "import os\n",
    "import json\n",
    "\n",
    "artifacts_path = '../artifacts/job_recommendation'\n",
    "os.makedirs(artifacts_path, exist_ok=True)\n",
    "vectorizer_path = os.path.join(artifacts_path, 'vectorizer.pkl')\n",
    "\n",
    "with open(vectorizer_path, 'wb') as file:\n",
    "    pickle.dump(vectorizer, file)\n",
    "\n",
    "# Dumping the label encoder\n",
    "encoder_path = os.path.join(artifacts_path, 'encoder.pkl')\n",
    "with open(encoder_path, 'wb') as file:\n",
    "    pickle.dump(encoder, file) \n",
    "\n",
    "labels_path = os.path.join(artifacts_path, 'labels.json')\n",
    "with open(labels_path, 'w') as file:\n",
    "    json.dump(labels, file)\n",
    "\n",
    "model_path = os.path.join(artifacts_path, 'model.pkl')\n",
    "with open(model_path, 'wb') as file:\n",
    "    pickle.dump(model, file)"
   ]
  },
  {
   "cell_type": "code",
   "execution_count": 24,
   "metadata": {},
   "outputs": [
    {
     "name": "stdout",
     "output_type": "stream",
     "text": [
      "Predicted Category: 58\n"
     ]
    }
   ],
   "source": [
    "# Example Usage\n",
    "resume_file = \"\"\"Objective:\n",
    "A creative and detail-oriented Designer with a passion for visual communication and brand identity seeking opportunities to leverage design skills in a dynamic and collaborative environment.\n",
    "\n",
    "Education:\n",
    "- Bachelor of Fine Arts in Graphic Design, XYZ College, GPA: 3.7/4.0\n",
    "- Diploma in Web Design, ABC Institute, GPA: 3.9/4.0\n",
    "\n",
    "Skills:\n",
    "- Proficient in Adobe Creative Suite (Photoshop, Illustrator, InDesign)\n",
    "- Strong understanding of typography, layout, and color theory\n",
    "- Experience in both print and digital design\n",
    "- Ability to conceptualize and execute design projects from concept to completion\n",
    "- Excellent attention to detail and time management skills\n",
    "\n",
    "Experience:\n",
    "Graphic Designer | XYZ Design Studio\n",
    "- Created visually appealing graphics for various marketing materials, including brochures, flyers, and social media posts\n",
    "- Collaborated with clients to understand their design needs and deliver creative solutions that align with their brand identity\n",
    "- Worked closely with the marketing team to ensure consistency in brand messaging across all platforms\n",
    "\n",
    "Freelance Designer\n",
    "- Designed logos, branding materials, and website layouts for small businesses and startups\n",
    "- Managed multiple projects simultaneously while meeting tight deadlines and maintaining quality standards\n",
    "- Established and maintained strong client relationships through clear communication and exceptional service\n",
    "\n",
    "Projects:\n",
    "- Rebranding Campaign for XYZ Company: Led a team to redesign the company's logo, website, and marketing collateral, resulting in a 30% increase in brand recognition\n",
    "- Packaging Design for ABC Product Launch: Developed eye-catching packaging designs for a new product line, contributing to a successful launch and positive customer feedback\n",
    "\n",
    "Certifications:\n",
    "- Adobe Certified Expert (ACE) in Adobe Illustrator\n",
    "- Responsive Web Design Certification from Udemy\n",
    "\n",
    "Languages:\n",
    "- English (Native)\n",
    "- Spanish (Intermediate)\n",
    "\"\"\""
   ]
  },
  {
   "cell_type": "code",
   "execution_count": 46,
   "metadata": {},
   "outputs": [],
   "source": [
    "os.chdir('../')"
   ]
  },
  {
   "cell_type": "code",
   "execution_count": 47,
   "metadata": {},
   "outputs": [
    {
     "name": "stdout",
     "output_type": "stream",
     "text": [
      "d:\\Portfolio Projects\\Resume Screening\n"
     ]
    }
   ],
   "source": [
    "import os\n",
    "print(os.getcwd())  # Check current working directory\n"
   ]
  },
  {
   "cell_type": "code",
   "execution_count": 50,
   "metadata": {},
   "outputs": [
    {
     "name": "stdout",
     "output_type": "stream",
     "text": [
      "Predicted Category: User Interface Designer\n"
     ]
    }
   ],
   "source": [
    "from utils.common import job_recommendation\n",
    "\n",
    "predicted = job_recommendation(resume_file, vectorizer, model, labels)\n",
    "print(\"Predicted Category:\", predicted)"
   ]
  },
  {
   "cell_type": "code",
   "execution_count": null,
   "metadata": {},
   "outputs": [],
   "source": []
  }
 ],
 "metadata": {
  "kernelspec": {
   "display_name": "Python 3",
   "language": "python",
   "name": "python3"
  },
  "language_info": {
   "codemirror_mode": {
    "name": "ipython",
    "version": 3
   },
   "file_extension": ".py",
   "mimetype": "text/x-python",
   "name": "python",
   "nbconvert_exporter": "python",
   "pygments_lexer": "ipython3",
   "version": "3.11.0"
  }
 },
 "nbformat": 4,
 "nbformat_minor": 2
}
